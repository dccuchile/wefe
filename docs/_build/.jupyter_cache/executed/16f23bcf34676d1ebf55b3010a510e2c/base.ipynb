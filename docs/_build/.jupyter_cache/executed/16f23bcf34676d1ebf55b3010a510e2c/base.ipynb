{
 "cells": [
  {
   "cell_type": "code",
   "execution_count": 1,
   "metadata": {},
   "outputs": [
    {
     "data": {
      "text/plain": [
       "<wefe.word_embedding_model.WordEmbeddingModel at 0x7f70c53c4d00>"
      ]
     },
     "execution_count": 1,
     "metadata": {},
     "output_type": "execute_result"
    }
   ],
   "source": [
    "from wefe.utils import load_test_model\n",
    "\n",
    "model = load_test_model()  # load a reduced version of word2vec\n",
    "model\n"
   ]
  },
  {
   "cell_type": "code",
   "execution_count": 2,
   "metadata": {},
   "outputs": [],
   "source": [
    "from wefe.datasets import fetch_debiaswe\n",
    "from wefe.debias.hard_debias import HardDebias\n",
    "\n",
    "debiaswe_wordsets = fetch_debiaswe()\n",
    "\n",
    "definitional_pairs = debiaswe_wordsets[\"definitional_pairs\"]\n",
    "equalize_pairs = debiaswe_wordsets[\"equalize_pairs\"]\n",
    "gender_specific = debiaswe_wordsets[\"gender_specific\"]\n",
    "\n",
    "hd = HardDebias(verbose=False, criterion_name=\"gender\").fit(\n",
    "    model, definitional_pairs=definitional_pairs, equalize_pairs=equalize_pairs,\n",
    ")\n"
   ]
  },
  {
   "cell_type": "code",
   "execution_count": 3,
   "metadata": {},
   "outputs": [
    {
     "name": "stdout",
     "output_type": "stream",
     "text": [
      "Copy argument is True. Transform will attempt to create a copy of the original model. This may fail due to lack of memory.\n",
      "Model copy created successfully.\n"
     ]
    },
    {
     "name": "stderr",
     "output_type": "stream",
     "text": [
      "\r",
      "  0%|                                                                                                                                                       | 0/13013 [00:00<?, ?it/s]"
     ]
    },
    {
     "name": "stderr",
     "output_type": "stream",
     "text": [
      "\r",
      " 81%|█████████████████████████████████████████████████████████████████████████████████████████████████████████████▌                         | 10556/13013 [00:00<00:00, 105548.27it/s]"
     ]
    },
    {
     "name": "stderr",
     "output_type": "stream",
     "text": [
      "\r",
      "100%|███████████████████████████████████████████████████████████████████████████████████████████████████████████████████████████████████████| 13013/13013 [00:00<00:00, 106976.29it/s]"
     ]
    },
    {
     "name": "stderr",
     "output_type": "stream",
     "text": [
      "\n"
     ]
    }
   ],
   "source": [
    "gender_debiased_model = hd.transform(model, ignore=gender_specific, copy=True)"
   ]
  },
  {
   "cell_type": "code",
   "execution_count": 4,
   "metadata": {},
   "outputs": [],
   "source": [
    "from wefe.datasets import load_weat\n",
    "from wefe.query import Query\n",
    "from wefe.metrics import WEAT\n",
    "\n",
    "weat_wordset = load_weat()\n",
    "weat = WEAT()\n"
   ]
  },
  {
   "cell_type": "code",
   "execution_count": 5,
   "metadata": {},
   "outputs": [
    {
     "name": "stdout",
     "output_type": "stream",
     "text": [
      "<Query: Male terms and Female terms wrt Career and Family\n",
      "- Target sets: [['male', 'man', 'boy', 'brother', 'he', 'him', 'his', 'son'], ['female', 'woman', 'girl', 'sister', 'she', 'her', 'hers', 'daughter']]\n",
      "- Attribute sets:[['executive', 'management', 'professional', 'corporation', 'salary', 'office', 'business', 'career'], ['home', 'parents', 'children', 'family', 'cousins', 'marriage', 'wedding', 'relatives']]> \n",
      " ---------------------------------------------------------------------- \n",
      "\n"
     ]
    },
    {
     "name": "stdout",
     "output_type": "stream",
     "text": [
      "Debiased vs Biased (absolute values)\n",
      "0.047 < 0.463\n"
     ]
    }
   ],
   "source": [
    "gender_query_1 = Query(\n",
    "    [weat_wordset[\"male_terms\"], weat_wordset[\"female_terms\"]],\n",
    "    [weat_wordset[\"career\"], weat_wordset[\"family\"]],\n",
    "    [\"Male terms\", \"Female terms\"],\n",
    "    [\"Career\", \"Family\"],\n",
    ")\n",
    "print(gender_query_1, \"\\n\", \"-\" * 70, \"\\n\")\n",
    "\n",
    "biased_results_1 = weat.run_query(gender_query_1, model, normalize=True)\n",
    "debiased_results_1 = weat.run_query(\n",
    "    gender_query_1, gender_debiased_model, normalize=True\n",
    ")\n",
    "\n",
    "print(\"Debiased vs Biased (absolute values)\")\n",
    "print(\n",
    "    round(abs(debiased_results_1[\"weat\"]), 3),\n",
    "    \"<\",\n",
    "    round(abs(biased_results_1[\"weat\"]), 3),\n",
    ")\n",
    "\n"
   ]
  },
  {
   "cell_type": "code",
   "execution_count": 6,
   "metadata": {},
   "outputs": [
    {
     "name": "stdout",
     "output_type": "stream",
     "text": [
      "<Query: Male Names and Female Names wrt Pleasant and Unpleasant\n",
      "- Target sets: [['John', 'Paul', 'Mike', 'Kevin', 'Steve', 'Greg', 'Jeff', 'Bill'], ['Amy', 'Joan', 'Lisa', 'Sarah', 'Diana', 'Kate', 'Ann', 'Donna']]\n",
      "- Attribute sets:[['caress', 'freedom', 'health', 'love', 'peace', 'cheer', 'friend', 'heaven', 'loyal', 'pleasure', 'diamond', 'gentle', 'honest', 'lucky', 'rainbow', 'diploma', 'gift', 'honor', 'miracle', 'sunrise', 'family', 'happy', 'laughter', 'paradise', 'vacation'], ['abuse', 'crash', 'filth', 'murder', 'sickness', 'accident', 'death', 'grief', 'poison', 'stink', 'assault', 'disaster', 'hatred', 'pollute', 'tragedy', 'divorce', 'jail', 'poverty', 'ugly', 'cancer', 'kill', 'rotten', 'vomit', 'agony', 'prison']]> \n",
      " ---------------------------------------------------------------------- \n",
      "\n",
      "Debiased vs Biased (absolute values)\n",
      "0.055 < 0.074\n"
     ]
    }
   ],
   "source": [
    "gender_query_2 = Query(\n",
    "    [weat_wordset[\"male_names\"], weat_wordset[\"female_names\"]],\n",
    "    [weat_wordset[\"pleasant_5\"], weat_wordset[\"unpleasant_5\"]],\n",
    "    [\"Male Names\", \"Female Names\"],\n",
    "    [\"Pleasant\", \"Unpleasant\"],\n",
    ")\n",
    "\n",
    "print(gender_query_2, \"\\n\", \"-\" * 70, \"\\n\")\n",
    "\n",
    "biased_results_2 = weat.run_query(\n",
    "    gender_query_2, model, normalize=True, preprocessors=[{}, {\"lowercase\": True}]\n",
    ")\n",
    "debiased_results_2 = weat.run_query(\n",
    "    gender_query_2,\n",
    "    gender_debiased_model,\n",
    "    normalize=True,\n",
    "    preprocessors=[{}, {\"lowercase\": True}],\n",
    ")\n",
    "\n",
    "print(\"Debiased vs Biased (absolute values)\")\n",
    "print(\n",
    "    round(abs(debiased_results_2[\"weat\"]), 3),\n",
    "    \"<\",\n",
    "    round(abs(biased_results_2[\"weat\"]), 3),\n",
    ")\n",
    "\n"
   ]
  },
  {
   "cell_type": "code",
   "execution_count": 7,
   "metadata": {},
   "outputs": [
    {
     "name": "stdout",
     "output_type": "stream",
     "text": [
      "Copy argument is True. Transform will attempt to create a copy of the original model. This may fail due to lack of memory.\n",
      "Model copy created successfully.\n"
     ]
    },
    {
     "name": "stderr",
     "output_type": "stream",
     "text": [
      "\r",
      "  0%|                                                                                                                                                          | 0/16 [00:00<?, ?it/s]"
     ]
    },
    {
     "name": "stderr",
     "output_type": "stream",
     "text": [
      "\r",
      "100%|██████████████████████████████████████████████████████████████████████████████████████████████████████████████████████████████████████████████| 16/16 [00:00<00:00, 11145.80it/s]"
     ]
    },
    {
     "name": "stderr",
     "output_type": "stream",
     "text": [
      "\n"
     ]
    }
   ],
   "source": [
    "targets = [\n",
    "    \"executive\",\n",
    "    \"management\",\n",
    "    \"professional\",\n",
    "    \"corporation\",\n",
    "    \"salary\",\n",
    "    \"office\",\n",
    "    \"business\",\n",
    "    \"career\",\n",
    "    \"home\",\n",
    "    \"parents\",\n",
    "    \"children\",\n",
    "    \"family\",\n",
    "    \"cousins\",\n",
    "    \"marriage\",\n",
    "    \"wedding\",\n",
    "    \"relatives\",\n",
    "]\n",
    "\n",
    "hd = HardDebias(verbose=False, criterion_name=\"gender\").fit(\n",
    "    model, definitional_pairs=definitional_pairs, equalize_pairs=equalize_pairs,\n",
    ")\n",
    "\n",
    "gender_debiased_model = hd.transform(model, target=targets, copy=True)\n"
   ]
  },
  {
   "cell_type": "code",
   "execution_count": 8,
   "metadata": {},
   "outputs": [
    {
     "name": "stdout",
     "output_type": "stream",
     "text": [
      "<Query: Male terms and Female terms wrt Career and Family\n",
      "- Target sets: [['male', 'man', 'boy', 'brother', 'he', 'him', 'his', 'son'], ['female', 'woman', 'girl', 'sister', 'she', 'her', 'hers', 'daughter']]\n",
      "- Attribute sets:[['executive', 'management', 'professional', 'corporation', 'salary', 'office', 'business', 'career'], ['home', 'parents', 'children', 'family', 'cousins', 'marriage', 'wedding', 'relatives']]> \n",
      " ---------------------------------------------------------------------- \n",
      "\n"
     ]
    },
    {
     "name": "stdout",
     "output_type": "stream",
     "text": [
      "Debiased vs Biased (absolute values)\n",
      "0.047 < 0.463\n"
     ]
    }
   ],
   "source": [
    "gender_query_1 = Query(\n",
    "    [weat_wordset[\"male_terms\"], weat_wordset[\"female_terms\"]],\n",
    "    [weat_wordset[\"career\"], weat_wordset[\"family\"]],\n",
    "    [\"Male terms\", \"Female terms\"],\n",
    "    [\"Career\", \"Family\"],\n",
    ")\n",
    "print(gender_query_1, \"\\n\", \"-\" * 70, \"\\n\")\n",
    "\n",
    "biased_results_1 = weat.run_query(gender_query_1, model, normalize=True)\n",
    "debiased_results_1 = weat.run_query(\n",
    "    gender_query_1, gender_debiased_model, normalize=True\n",
    ")\n",
    "\n",
    "print(\"Debiased vs Biased (absolute values)\")\n",
    "print(\n",
    "    round(abs(debiased_results_1[\"weat\"]), 3),\n",
    "    \"<\",\n",
    "    round(abs(biased_results_1[\"weat\"]), 3),\n",
    ")\n",
    "\n"
   ]
  },
  {
   "cell_type": "code",
   "execution_count": 9,
   "metadata": {},
   "outputs": [
    {
     "name": "stdout",
     "output_type": "stream",
     "text": [
      "<Query: Male Names and Female Names wrt Pleasant and Unpleasant\n",
      "- Target sets: [['John', 'Paul', 'Mike', 'Kevin', 'Steve', 'Greg', 'Jeff', 'Bill'], ['Amy', 'Joan', 'Lisa', 'Sarah', 'Diana', 'Kate', 'Ann', 'Donna']]\n",
      "- Attribute sets:[['caress', 'freedom', 'health', 'love', 'peace', 'cheer', 'friend', 'heaven', 'loyal', 'pleasure', 'diamond', 'gentle', 'honest', 'lucky', 'rainbow', 'diploma', 'gift', 'honor', 'miracle', 'sunrise', 'family', 'happy', 'laughter', 'paradise', 'vacation'], ['abuse', 'crash', 'filth', 'murder', 'sickness', 'accident', 'death', 'grief', 'poison', 'stink', 'assault', 'disaster', 'hatred', 'pollute', 'tragedy', 'divorce', 'jail', 'poverty', 'ugly', 'cancer', 'kill', 'rotten', 'vomit', 'agony', 'prison']]> \n",
      " ---------------------------------------------------------------------- \n",
      "\n"
     ]
    },
    {
     "name": "stdout",
     "output_type": "stream",
     "text": [
      "Debiased vs Biased (absolute values)\n",
      "0.08 > 0.074\n"
     ]
    }
   ],
   "source": [
    "gender_query_2 = Query(\n",
    "    [weat_wordset[\"male_names\"], weat_wordset[\"female_names\"]],\n",
    "    [weat_wordset[\"pleasant_5\"], weat_wordset[\"unpleasant_5\"]],\n",
    "    [\"Male Names\", \"Female Names\"],\n",
    "    [\"Pleasant\", \"Unpleasant\"],\n",
    ")\n",
    "\n",
    "print(gender_query_2, \"\\n\", \"-\" * 70, \"\\n\")\n",
    "\n",
    "biased_results_2 = weat.run_query(\n",
    "    gender_query_2, model, normalize=True, preprocessors=[{}, {\"lowercase\": True}]\n",
    ")\n",
    "debiased_results_2 = weat.run_query(\n",
    "    gender_query_2,\n",
    "    gender_debiased_model,\n",
    "    normalize=True,\n",
    "    preprocessors=[{}, {\"lowercase\": True}],\n",
    ")\n",
    "\n",
    "print(\"Debiased vs Biased (absolute values)\")\n",
    "print(\n",
    "    round(abs(debiased_results_2[\"weat\"]), 3),\n",
    "    \">\",\n",
    "    round(abs(biased_results_2[\"weat\"]), 3),\n",
    ")\n"
   ]
  },
  {
   "cell_type": "code",
   "execution_count": 10,
   "metadata": {},
   "outputs": [],
   "source": [
    "gender_debiased_model.wv.save(\"gender_debiased_glove.kv\")\n",
    "\n"
   ]
  },
  {
   "cell_type": "code",
   "execution_count": 11,
   "metadata": {},
   "outputs": [
    {
     "name": "stdout",
     "output_type": "stream",
     "text": [
      "ethnicity_definitional_sets: \n",
      "[['black', 'caucasian', 'asian'], ['african', 'caucasian', 'asian'], ['black', 'white', 'asian'], ['africa', 'america', 'asia'], ['africa', 'america', 'china'], ['africa', 'europe', 'asia']]\n",
      "ethnicity_equalize_sets: \n",
      "[['manager', 'executive', 'redneck', 'hillbilly', 'leader', 'farmer'], ['doctor', 'engineer', 'laborer', 'teacher'], ['slave', 'musician', 'runner', 'criminal', 'homeless']]\n",
      "---------------------------------------------------------------------- \n",
      "\n",
      "copy argument is True. Transform will attempt to create a copy of the original model. This may fail due to lack of memory.\n",
      "Model copy created successfully.\n"
     ]
    },
    {
     "name": "stderr",
     "output_type": "stream",
     "text": [
      "\r",
      "  0%|                                                                                                                                                       | 0/13003 [00:00<?, ?it/s]"
     ]
    },
    {
     "name": "stderr",
     "output_type": "stream",
     "text": [
      "\r",
      " 15%|████████████████████▋                                                                                                                    | 1966/13003 [00:00<00:00, 19654.35it/s]"
     ]
    },
    {
     "name": "stderr",
     "output_type": "stream",
     "text": [
      "\r",
      " 30%|█████████████████████████████████████████▍                                                                                               | 3932/13003 [00:00<00:00, 19347.68it/s]"
     ]
    },
    {
     "name": "stderr",
     "output_type": "stream",
     "text": [
      "\r",
      " 46%|███████████████████████████████████████████████████████████████                                                                          | 5984/13003 [00:00<00:00, 19877.81it/s]"
     ]
    },
    {
     "name": "stderr",
     "output_type": "stream",
     "text": [
      "\r",
      " 62%|█████████████████████████████████████████████████████████████████████████████████████                                                    | 8077/13003 [00:00<00:00, 20290.40it/s]"
     ]
    },
    {
     "name": "stderr",
     "output_type": "stream",
     "text": [
      "\r",
      " 78%|██████████████████████████████████████████████████████████████████████████████████████████████████████████▎                             | 10163/13003 [00:00<00:00, 20492.53it/s]"
     ]
    },
    {
     "name": "stderr",
     "output_type": "stream",
     "text": [
      "\r",
      " 95%|████████████████████████████████████████████████████████████████████████████████████████████████████████████████████████████████▌       | 12296/13003 [00:00<00:00, 20774.16it/s]"
     ]
    },
    {
     "name": "stderr",
     "output_type": "stream",
     "text": [
      "\r",
      "100%|████████████████████████████████████████████████████████████████████████████████████████████████████████████████████████████████████████| 13003/13003 [00:00<00:00, 20384.60it/s]"
     ]
    },
    {
     "name": "stderr",
     "output_type": "stream",
     "text": [
      "\n"
     ]
    }
   ],
   "source": [
    "from wefe.datasets import fetch_debias_multiclass\n",
    "from wefe.debias.multiclass_hard_debias import MulticlassHardDebias\n",
    "\n",
    "multiclass_debias_wordsets = fetch_debias_multiclass()\n",
    "weat_wordsets = load_weat()\n",
    "weat = WEAT()\n",
    "\n",
    "ethnicity_definitional_sets = multiclass_debias_wordsets[\"ethnicity_definitional_sets\"]\n",
    "ethnicity_equalize_sets = list(\n",
    "    multiclass_debias_wordsets[\"ethnicity_analogy_templates\"].values()\n",
    ")\n",
    "\n",
    "print(f\"ethnicity_definitional_sets: \\n{ethnicity_definitional_sets}\")\n",
    "print(f\"ethnicity_equalize_sets: \\n{ethnicity_equalize_sets}\")\n",
    "print(\"-\" * 70, \"\\n\")\n",
    "\n",
    "mhd = MulticlassHardDebias(verbose=False, criterion_name=\"ethnicity\")\n",
    "mhd.fit(\n",
    "    model=model,\n",
    "    definitional_sets=ethnicity_definitional_sets,\n",
    "    equalize_sets=ethnicity_equalize_sets,\n",
    ")\n",
    "\n",
    "ethnicity_debiased_model = mhd.transform(model, copy=True)\n"
   ]
  },
  {
   "cell_type": "code",
   "execution_count": 12,
   "metadata": {},
   "outputs": [
    {
     "name": "stdout",
     "output_type": "stream",
     "text": [
      "<Query: european_american_names and african_american_names wrt white_biased_words and black_biased_words\n",
      "- Target sets: [['america', 'caucasian', 'europe', 'white'], ['africa', 'african', 'black']]\n",
      "- Attribute sets:[['manager', 'executive', 'redneck', 'hillbilly', 'leader', 'farmer'], ['slave', 'musician', 'runner', 'criminal', 'homeless']]> \n",
      " ---------------------------------------------------------------------- \n",
      "\n",
      "Debiased vs Biased (absolute values)\n",
      "0.08 < 0.074\n"
     ]
    }
   ],
   "source": [
    "ethnicity_query = Query(\n",
    "    [\n",
    "        multiclass_debias_wordsets[\"white_terms\"],\n",
    "        multiclass_debias_wordsets[\"black_terms\"],\n",
    "    ],\n",
    "    [\n",
    "        multiclass_debias_wordsets[\"white_biased_words\"],\n",
    "        multiclass_debias_wordsets[\"black_biased_words\"],\n",
    "    ],\n",
    "    [\"european_american_names\", \"african_american_names\"],\n",
    "    [\"white_biased_words\", \"black_biased_words\"],\n",
    ")\n",
    "\n",
    "print(ethnicity_query, \"\\n\", \"-\" * 70, \"\\n\")\n",
    "\n",
    "biased_results = weat.run_query(\n",
    "    ethnicity_query, model, normalize=True, preprocessors=[{}, {\"lowercase\": True}],\n",
    ")\n",
    "debiased_results = weat.run_query(\n",
    "    ethnicity_query,\n",
    "    ethnicity_debiased_model,\n",
    "    normalize=True,\n",
    "    preprocessors=[{}, {\"lowercase\": True}],\n",
    ")\n",
    "\n",
    "print(\"Debiased vs Biased (absolute values)\")\n",
    "print(\n",
    "    round(abs(debiased_results_2[\"weat\"]), 3),\n",
    "    \"<\",\n",
    "    round(abs(biased_results_2[\"weat\"]), 3),\n",
    ")\n"
   ]
  }
 ],
 "metadata": {
  "kernelspec": {
   "display_name": "Python 3 (ipykernel)",
   "language": "python",
   "name": "python3"
  },
  "language_info": {
   "codemirror_mode": {
    "name": "ipython",
    "version": 3
   },
   "file_extension": ".py",
   "mimetype": "text/x-python",
   "name": "python",
   "nbconvert_exporter": "python",
   "pygments_lexer": "ipython3",
   "version": "3.8.13"
  },
  "vscode": {
   "interpreter": {
    "hash": "37d01894bb315c73bf6fde5551d8a97078996f38b23395695bd1998fb0ae5507"
   }
  }
 },
 "nbformat": 4,
 "nbformat_minor": 2
}