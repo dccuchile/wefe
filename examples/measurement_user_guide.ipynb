{
 "cells": [
  {
   "cell_type": "raw",
   "metadata": {},
   "source": [
    ".. _bias measurement:\n",
    "\n",
    "Bias Measurement\n",
    "================\n",
    "\n",
    "The following guide is designed to present the more general details on\n",
    "using the package to measure bias. The following sections show:\n",
    "\n",
    "*  how to run a simple query using ``Glove`` embedding model.\n",
    "*  how to run multiple queries on multiple embeddings.\n",
    "*  how to compare the results obtained from running multiple\n",
    "   sets of queries on multiple embeddings using different metrics\n",
    "   through ranking calculation.\n",
    "*  how to calculate the correlations between the\n",
    "   rankings obtained.\n",
    "\n",
    ".. warning::\n",
    "\n",
    "    To accurately study and reduce biases contained in word embeddings, queries may\n",
    "    contain words that could be offensive to certain groups or individuals.\n",
    "    The relationships studied between these words DO NOT represent the\n",
    "    ideas, thoughts or beliefs of the authors of this library. \n",
    "    This warning applies to all documentation.\n",
    "\n",
    ".. note::\n",
    "\n",
    "    If you are not familiar with the concepts of query, target and attribute\n",
    "    set, please visit the :ref:`measurement framework`\n",
    "    on the library’s conceptual guides. These concepts are widely used in the\n",
    "    following sections.\n",
    "\n",
    ".. note::\n",
    "\n",
    "    For a list of metrics implemented in WEFE, refer to the\n",
    "    :ref:`metrics section<metrics-API>` of the API reference.  \n"
   ]
  },
  {
   "cell_type": "raw",
   "metadata": {},
   "source": [
    "Run a Query\n",
    "-----------\n",
    "\n",
    "The following subsections explains how to run a simple query that\n",
    "measures gender bias on\n",
    "`Glove <https://nlp.stanford.edu/projects/glove/>`_. The example uses\n",
    "the Word Embedding Association Test (:class:`~wefe.metrics.WEAT.WEAT`) metric\n",
    "quantifying the bias in the embeddings model. Below we show the three usual steps for\n",
    "performing a query in WEFE:\n",
    "\n",
    ".. note::\n",
    "\n",
    "    :class:`~wefe.metrics.WEAT.WEAT` is a fairness metric that quantifies the relationship\n",
    "    between two sets of target words (sets of words intended to denote a social\n",
    "    groups as men and women) and two sets of attribute words (sets of words\n",
    "    representing some attitude, characteristic, trait, occupational field,\n",
    "    etc. that can be associated with individuals from any social group). \n",
    "\n",
    "    The closer its value is to 0, the less biased the model is. \n",
    "\n",
    "    Visit the metrics documentation (:class:`~wefe.metrics.WEAT.WEAT`) for more information.\n"
   ]
  },
  {
   "cell_type": "raw",
   "metadata": {},
   "source": [
    "Load a word embeddings model as a ``WordEmbeddingModel`` object\n",
    "~~~~~~~~~~~~~~~~~~~~~~~~~~~~~~~~~~~~~~~~~~~~~~~~~~~~~~~~~~~~~~~\n",
    "\n",
    "Load the word embedding model and then wrap it using a\n",
    ":class:`~wefe.word_embedding_model.WordEmbeddingModel` (class that allows WEFE to handle the models).\n",
    "\n",
    "WEFE bases all its operations on word embeddings using Gensim’s\n",
    "``KeyedVectors`` interface. Any model that can be loaded using\n",
    "``KeyedVectors`` will be compatible with WEFE. The following example uses a 25-dim pre-trained ``Glove`` model using a\n",
    "twitter dataset loaded using `gensim-data <https://github.com/RaRe-Technologies/gensim-data/>`_."
   ]
  },
  {
   "cell_type": "code",
   "execution_count": 1,
   "metadata": {},
   "outputs": [],
   "source": [
    "import plotly.io as pio\n",
    "pio.renderers.default = \"notebook_connected\""
   ]
  },
  {
   "cell_type": "code",
   "execution_count": 2,
   "metadata": {},
   "outputs": [],
   "source": [
    "import gensim.downloader as api\n",
    "\n",
    "from wefe.datasets import load_weat\n",
    "from wefe.metrics import WEAT\n",
    "from wefe.query import Query\n",
    "from wefe.word_embedding_model import WordEmbeddingModel\n",
    "\n",
    "twitter_25 = api.load(\"glove-twitter-25\")\n",
    "# WordEmbeddingModel receives as first argument a KeyedVectors model\n",
    "# and the second argument the model name.\n",
    "model = WordEmbeddingModel(twitter_25, \"glove twitter dim=25\")"
   ]
  },
  {
   "cell_type": "raw",
   "metadata": {},
   "source": [
    "Create the query using a ``Query`` object\n",
    "~~~~~~~~~~~~~~~~~~~~~~~~~~~~~~~~~~~~~~~~~\n",
    "\n",
    "Define the target and attribute word sets and create a :class:`~wefe.query.Query`  object\n",
    "that contains them.\n",
    "\n",
    "For this initial example, a query is used to study the association\n",
    "between gender with respect to family and career. The words used are\n",
    "taken from the set of words used in the *Semantics derived automatically\n",
    "from language corpora contain human-like biases* paper, which are\n",
    "included in the ``datasets`` module."
   ]
  },
  {
   "cell_type": "code",
   "execution_count": 3,
   "metadata": {},
   "outputs": [
    {
     "data": {
      "text/plain": [
       "<Query: Female terms and Male Terms wrt Family and Careers\n",
       "- Target sets: [['female', 'woman', 'girl', 'sister', 'she', 'her', 'hers', 'daughter'], ['male', 'man', 'boy', 'brother', 'he', 'him', 'his', 'son']]\n",
       "- Attribute sets:[['home', 'parents', 'children', 'family', 'cousins', 'marriage', 'wedding', 'relatives'], ['executive', 'management', 'professional', 'corporation', 'salary', 'office', 'business', 'career']]>"
      ]
     },
     "execution_count": 3,
     "metadata": {},
     "output_type": "execute_result"
    }
   ],
   "source": [
    "gender_query = Query(\n",
    "    target_sets=[\n",
    "        [\"female\", \"woman\", \"girl\", \"sister\", \"she\", \"her\", \"hers\", \"daughter\"],\n",
    "        [\"male\", \"man\", \"boy\", \"brother\", \"he\", \"him\", \"his\", \"son\"],\n",
    "    ],\n",
    "    attribute_sets=[\n",
    "        [\n",
    "            \"home\",\n",
    "            \"parents\",\n",
    "            \"children\",\n",
    "            \"family\",\n",
    "            \"cousins\",\n",
    "            \"marriage\",\n",
    "            \"wedding\",\n",
    "            \"relatives\",\n",
    "        ],\n",
    "        [\n",
    "            \"executive\",\n",
    "            \"management\",\n",
    "            \"professional\",\n",
    "            \"corporation\",\n",
    "            \"salary\",\n",
    "            \"office\",\n",
    "            \"business\",\n",
    "            \"career\",\n",
    "        ],\n",
    "    ],\n",
    "    target_sets_names=[\"Female terms\", \"Male Terms\"],\n",
    "    attribute_sets_names=[\"Family\", \"Careers\"],\n",
    ")\n",
    "\n",
    "gender_query\n"
   ]
  },
  {
   "cell_type": "raw",
   "metadata": {
    "tags": []
   },
   "source": [
    "Run the Query\n",
    "~~~~~~~~~~~~~\n",
    "\n",
    "Instantiate the metric that you will use and then execute ``run_query``\n",
    "with the parameters created in the previous steps.\n",
    "\n",
    "Any bias measurement process at WEFE consists of the following steps:\n",
    "\n",
    "1. Metric arguments checking.\n",
    "2. Transform the word sets into word embeddings.\n",
    "3. Calculate the metric.\n",
    "\n",
    "In this case we use the :class:`~wefe.metrics.WEAT.WEAT` metric (proposed in the\n",
    "same paper of the set of words used in the query)."
   ]
  },
  {
   "cell_type": "code",
   "execution_count": 4,
   "metadata": {},
   "outputs": [
    {
     "data": {
      "text/plain": [
       "{'query_name': 'Female terms and Male Terms wrt Family and Careers',\n",
       " 'result': 0.31658412935212255,\n",
       " 'weat': 0.31658412935212255,\n",
       " 'effect_size': 0.6779439085309583,\n",
       " 'p_value': nan}"
      ]
     },
     "execution_count": 4,
     "metadata": {},
     "output_type": "execute_result"
    }
   ],
   "source": [
    "metric = WEAT()\n",
    "result = metric.run_query(gender_query, model)\n",
    "result\n"
   ]
  },
  {
   "cell_type": "raw",
   "metadata": {},
   "source": [
    "By default, the results are a ``dict`` containing the query name (in the\n",
    "key ``query_name``) and the calculated value of the metric in the\n",
    "``result`` key. It also contains a key with the name and the value of\n",
    "the calculated metric (which is duplicated in the “results” key).\n",
    "\n",
    "Depending on the metric class used, the result ``dict`` can also return\n",
    "more metrics, detailed word-by-word values or other statistics like\n",
    "p-values. Also some metrics allow you to change the default value in\n",
    "results.\n",
    "\n",
    "Details of all the metrics implemented, their parameters and\n",
    "examples of execution can be found at :ref:`metrics section <metrics-API>`."
   ]
  },
  {
   "cell_type": "raw",
   "metadata": {},
   "source": [
    "Run Query Arguments\n",
    "-------------------\n",
    "\n",
    "Each metric allows varying the behavior of ``run_query`` according to\n",
    "different parameters. There are parameters to customize the\n",
    "transformation of the sets of words to sets of embeddings, others to\n",
    "warn errors or modify which calculation method the metric use.\n",
    "\n",
    ".. note::\n",
    "\n",
    "    Each metric implements the ``run_query`` method with different arguments. \n",
    "    Visit their API documentation for more information.\n",
    "\n",
    "\n",
    "For example, ``run_query`` can be instructed to ``return effect_size``\n",
    "in the ``result`` key by setting ``return_effect_size`` as ``True``.\n",
    "Note that this parameter is only of the class :class:`~wefe.metrics.WEAT.WEAT``.\n"
   ]
  },
  {
   "cell_type": "code",
   "execution_count": 5,
   "metadata": {},
   "outputs": [
    {
     "data": {
      "text/plain": [
       "{'query_name': 'Female terms and Male Terms wrt Family and Careers',\n",
       " 'result': 0.6779439085309583,\n",
       " 'weat': 0.31658412935212255,\n",
       " 'effect_size': 0.6779439085309583,\n",
       " 'p_value': nan}"
      ]
     },
     "execution_count": 5,
     "metadata": {},
     "output_type": "execute_result"
    }
   ],
   "source": [
    "weat = WEAT()\n",
    "result = weat.run_query(gender_query, model, return_effect_size=True)\n",
    "result\n"
   ]
  },
  {
   "cell_type": "raw",
   "metadata": {},
   "source": [
    "You can also request ``run_query`` to run the statistical significance\n",
    "calculation by setting ``calculate_p_value`` as ``True``. This checks\n",
    "how many queries generated from permutations (controlled by the\n",
    "parameter ``p_value_iterations``) of the target sets obtain values\n",
    "greater than those obtained by the original query."
   ]
  },
  {
   "cell_type": "code",
   "execution_count": 6,
   "metadata": {},
   "outputs": [
    {
     "data": {
      "text/plain": [
       "{'query_name': 'Female terms and Male Terms wrt Family and Careers',\n",
       " 'result': 0.31658412935212255,\n",
       " 'weat': 0.31658412935212255,\n",
       " 'effect_size': 0.6779439085309583,\n",
       " 'p_value': 0.09938012397520496}"
      ]
     },
     "execution_count": 6,
     "metadata": {},
     "output_type": "execute_result"
    }
   ],
   "source": [
    "weat = WEAT()\n",
    "result = weat.run_query(\n",
    "    gender_query, model, calculate_p_value=True, p_value_iterations=5000\n",
    ")\n",
    "result"
   ]
  },
  {
   "cell_type": "raw",
   "metadata": {},
   "source": [
    "Out of Vocabulary Words and Word Preprocessors\n",
    "----------------------------------------------\n",
    "\n",
    "It is common in the literature to find bias tests whose tagret sets are\n",
    "common names of social groups. These names are commonly cased and may\n",
    "contain special characters. There are several embedding models whose\n",
    "words are not cased or do not have accents or other special characters,\n",
    "as for example, in ``Glove``. This implies that a query with target sets\n",
    "composed by names executed in ``Glove`` (without any preprocessing of\n",
    "the words) could produce erroneous results because WEFE will not be able\n",
    "to find the names in the model vocabulary.\n",
    "\n",
    ".. note::\n",
    "\n",
    "    Some well-known word sets are already provided by the package and can be\n",
    "    easily loaded by the user through the :ref:`datasets <datasets-API>`  module. From here on,\n",
    "    the tutorial use the words defined in the study *Semantics derived\n",
    "    automatically from language corpora contain human-like biases*, the same\n",
    "    that proposed the :class:`~wefe.metrics.WEAT.WEAT` metric.\n"
   ]
  },
  {
   "cell_type": "code",
   "execution_count": 7,
   "metadata": {},
   "outputs": [
    {
     "name": "stdout",
     "output_type": "stream",
     "text": [
      "['Adam', 'Harry', 'Josh', 'Roger', 'Alan', 'Frank', 'Justin', 'Ryan', 'Andrew', 'Jack', 'Matthew', 'Stephen', 'Brad', 'Greg', 'Paul', 'Jonathan', 'Peter', 'Amanda', 'Courtney', 'Heather', 'Melanie', 'Sara', 'Amber', 'Katie', 'Betsy', 'Kristin', 'Nancy', 'Stephanie', 'Ellen', 'Lauren', 'Colleen', 'Emily', 'Megan', 'Rachel']\n"
     ]
    }
   ],
   "source": [
    "# load the weat word sets.\n",
    "word_sets = load_weat()\n",
    "\n",
    "# print a set of european american common names.\n",
    "print(word_sets[\"european_american_names_5\"])"
   ]
  },
  {
   "cell_type": "raw",
   "metadata": {},
   "source": [
    "The following query compares European-American and African-American\n",
    "names with respect to pleasant and unpleasant attributes.\n",
    "\n",
    ".. note::\n",
    "\n",
    "    It can be indicated to ``run_query`` to log the words that were lost in\n",
    "    the transformation to vectors by using the parameter\n",
    "    ``warn_not_found_words`` as ``True``."
   ]
  },
  {
   "cell_type": "code",
   "execution_count": 8,
   "metadata": {},
   "outputs": [
    {
     "name": "stderr",
     "output_type": "stream",
     "text": [
      "WARNING:root:The following words from set 'European american names' do not exist within the vocabulary of glove twitter dim=25: ['Adam', 'Harry', 'Josh', 'Roger', 'Alan', 'Frank', 'Justin', 'Ryan', 'Andrew', 'Jack', 'Matthew', 'Stephen', 'Brad', 'Greg', 'Paul', 'Jonathan', 'Peter', 'Amanda', 'Courtney', 'Heather', 'Melanie', 'Sara', 'Amber', 'Katie', 'Betsy', 'Kristin', 'Nancy', 'Stephanie', 'Ellen', 'Lauren', 'Colleen', 'Emily', 'Megan', 'Rachel']\n",
      "WARNING:root:The transformation of 'European american names' into glove twitter dim=25 embeddings lost proportionally more words than specified in 'lost_words_threshold': 1.0 lost with respect to 0.2 maximum loss allowed.\n",
      "WARNING:root:The following words from set 'African american names' do not exist within the vocabulary of glove twitter dim=25: ['Alonzo', 'Jamel', 'Theo', 'Alphonse', 'Jerome', 'Leroy', 'Torrance', 'Darnell', 'Lamar', 'Lionel', 'Tyree', 'Deion', 'Lamont', 'Malik', 'Terrence', 'Tyrone', 'Lavon', 'Marcellus', 'Wardell', 'Nichelle', 'Shereen', 'Ebony', 'Latisha', 'Shaniqua', 'Jasmine', 'Tanisha', 'Tia', 'Lakisha', 'Latoya', 'Yolanda', 'Malika', 'Yvette']\n",
      "WARNING:root:The transformation of 'African american names' into glove twitter dim=25 embeddings lost proportionally more words than specified in 'lost_words_threshold': 1.0 lost with respect to 0.2 maximum loss allowed.\n",
      "ERROR:root:At least one set of 'European american names and African american names wrt Pleasant and Unpleasant' query has proportionally fewer embeddings than allowed by the lost_vocabulary_threshold parameter (0.2). This query will return np.nan.\n"
     ]
    },
    {
     "data": {
      "text/plain": [
       "{'query_name': 'European american names and African american names wrt Pleasant and Unpleasant',\n",
       " 'result': nan,\n",
       " 'weat': nan,\n",
       " 'effect_size': nan}"
      ]
     },
     "execution_count": 8,
     "metadata": {},
     "output_type": "execute_result"
    }
   ],
   "source": [
    "ethnicity_query = Query(\n",
    "    [word_sets[\"european_american_names_5\"], word_sets[\"african_american_names_5\"]],\n",
    "    [word_sets[\"pleasant_5\"], word_sets[\"unpleasant_5\"]],\n",
    "    [\"European american names\", \"African american names\"],\n",
    "    [\"Pleasant\", \"Unpleasant\"],\n",
    ")\n",
    "result = weat.run_query(ethnicity_query, model, warn_not_found_words=True,)\n",
    "result\n"
   ]
  },
  {
   "cell_type": "raw",
   "metadata": {},
   "source": [
    ".. warning::\n",
    "\n",
    "    If more than 20% of the words from any of the word sets of the query are\n",
    "    lost during the transformation to embeddings, the result of the metric\n",
    "    will be ``np.nan``. This behavior can be changed using a float number\n",
    "    parameter called ``lost_vocabulary_threshold``."
   ]
  },
  {
   "cell_type": "raw",
   "metadata": {},
   "source": [
    "Word Preprocessors\n",
    "~~~~~~~~~~~~~~~~~~\n",
    "\n",
    "Any ``run_query`` method allows preprocessing each word before they are searched in the model's \n",
    "vocabulary through the parameter ``preprocessors`` (list of one or more preprocessor).\n",
    "This parameter accepts a list of individual preprocessors, which are defined below:\n",
    "\n",
    "A ``preprocessor`` is a dictionary that specifies what processing(s) are \n",
    "performed on each word before its looked up in the model vocabulary.\n",
    "For example, the ``preprocessor``\n",
    "``{'lowecase': True, 'strip_accents': True}`` allows you to lowercase\n",
    "and remove the accent from each word before searching for them in the\n",
    "model vocabulary. Note that an empty dictionary ``{}`` indicates that no\n",
    "preprocessing is done.\n",
    "\n",
    "The possible options for a preprocessor are:\n",
    "\n",
    "-  ``lowercase``: ``bool``. Indicates that the words are transformed to lowercase.\n",
    "-  ``uppercase``: ``bool``. Indicates that the words are transformed to uppercase.\n",
    "-  ``titlecase``: ``bool``. Indicates that the words are transformed to titlecase.\n",
    "-  ``strip_accents``: ``bool``, ``{'ascii', 'unicode'}``: Specifies that the accents of the words\n",
    "   are eliminated. The stripping type can be specified. True uses ‘unicode’ by default.\n",
    "-  ``preprocessor``: ``Callable``. It receives a function that operates on each word. \n",
    "   In the case of specifying a function, it overrides the default preprocessor \n",
    "   (i.e., the previous options stop working).\n",
    "\n",
    "\n",
    "A list of preprocessor options allows searching for several\n",
    "variants of the words into the model. For example, the preprocessors\n",
    "``[{}, {\"lowercase\": True, \"strip_accents\": True}]``\n",
    "``{}`` allows first to search for the original words in the vocabulary of the model. \n",
    "In case some of them are not found, ``{\"lowercase\": True, \"strip_accents\": True}`` \n",
    "is executed on these words and then they are searched in the model vocabulary.\n",
    "\n",
    "By default (in case there is more than one preprocessor in the list) the first \n",
    "preprocessed word found in the embeddings model is used. \n",
    "This behavior can be controlled by the ``strategy`` parameter of ``run_query``.\n",
    "\n",
    "In the following example, we provide a list with only one\n",
    "preprocessor that instructs ``run_query`` to lowercase and remove all\n",
    "accents from every word before they are searched in the embeddings\n",
    "model.\n"
   ]
  },
  {
   "cell_type": "code",
   "execution_count": 9,
   "metadata": {},
   "outputs": [
    {
     "name": "stderr",
     "output_type": "stream",
     "text": [
      "WARNING:root:The following words from set 'African american names' do not exist within the vocabulary of glove twitter dim=25: ['wardell']\n"
     ]
    },
    {
     "data": {
      "text/plain": [
       "{'query_name': 'European american names and African american names wrt Pleasant and Unpleasant',\n",
       " 'result': 3.7529150679125456,\n",
       " 'weat': 3.7529150679125456,\n",
       " 'effect_size': 1.2746819330405683,\n",
       " 'p_value': nan}"
      ]
     },
     "execution_count": 9,
     "metadata": {},
     "output_type": "execute_result"
    }
   ],
   "source": [
    "weat = WEAT()\n",
    "result = weat.run_query(\n",
    "    ethnicity_query,\n",
    "    model,\n",
    "    preprocessors=[{\"lowercase\": True, \"strip_accents\": True}],\n",
    "    warn_not_found_words=True,\n",
    ")\n",
    "result"
   ]
  },
  {
   "cell_type": "raw",
   "metadata": {},
   "source": [
    "It may happen that it is more important to find the original word and in\n",
    "the case of not finding it, then preprocess it and look it up in the\n",
    "vocabulary. This behavior can be specified in ``preprocessors`` list by\n",
    "first specifying an empty preprocessor ``{}`` and then the preprocessor\n",
    "that converts to lowercase and removes accents.\n"
   ]
  },
  {
   "cell_type": "code",
   "execution_count": 10,
   "metadata": {},
   "outputs": [
    {
     "name": "stderr",
     "output_type": "stream",
     "text": [
      "WARNING:root:The following words from set 'European american names' do not exist within the vocabulary of glove twitter dim=25: ['Adam', 'Harry', 'Josh', 'Roger', 'Alan', 'Frank', 'Justin', 'Ryan', 'Andrew', 'Jack', 'Matthew', 'Stephen', 'Brad', 'Greg', 'Paul', 'Jonathan', 'Peter', 'Amanda', 'Courtney', 'Heather', 'Melanie', 'Sara', 'Amber', 'Katie', 'Betsy', 'Kristin', 'Nancy', 'Stephanie', 'Ellen', 'Lauren', 'Colleen', 'Emily', 'Megan', 'Rachel']\n",
      "WARNING:root:The following words from set 'African american names' do not exist within the vocabulary of glove twitter dim=25: ['Alonzo', 'Jamel', 'Theo', 'Alphonse', 'Jerome', 'Leroy', 'Torrance', 'Darnell', 'Lamar', 'Lionel', 'Tyree', 'Deion', 'Lamont', 'Malik', 'Terrence', 'Tyrone', 'Lavon', 'Marcellus', 'Wardell', 'wardell', 'Nichelle', 'Shereen', 'Ebony', 'Latisha', 'Shaniqua', 'Jasmine', 'Tanisha', 'Tia', 'Lakisha', 'Latoya', 'Yolanda', 'Malika', 'Yvette']\n"
     ]
    },
    {
     "data": {
      "text/plain": [
       "{'query_name': 'European american names and African american names wrt Pleasant and Unpleasant',\n",
       " 'result': 3.7529150679125456,\n",
       " 'weat': 3.7529150679125456,\n",
       " 'effect_size': 1.2746819330405683,\n",
       " 'p_value': nan}"
      ]
     },
     "execution_count": 10,
     "metadata": {},
     "output_type": "execute_result"
    }
   ],
   "source": [
    "weat = WEAT()\n",
    "result = weat.run_query(\n",
    "    ethnicity_query,\n",
    "    model,\n",
    "    preprocessors=[\n",
    "        {},  # empty preprocessor, search for the original words.\n",
    "        {\n",
    "            \"lowercase\": True,\n",
    "            \"strip_accents\": True,\n",
    "        },  # search for lowercase and no accent words.\n",
    "    ],\n",
    "    warn_not_found_words=True,\n",
    ")\n",
    "\n",
    "result"
   ]
  },
  {
   "cell_type": "raw",
   "metadata": {},
   "source": [
    "The number of preprocessing steps can be increased as needed. For\n",
    "example, we can complex the above preprocessor to first search for the\n",
    "original words, then for the lowercase words, and finally for the\n",
    "lowercase words without accents.\n"
   ]
  },
  {
   "cell_type": "code",
   "execution_count": 11,
   "metadata": {},
   "outputs": [
    {
     "name": "stderr",
     "output_type": "stream",
     "text": [
      "WARNING:root:The following words from set 'European american names' do not exist within the vocabulary of glove twitter dim=25: ['Adam', 'Harry', 'Josh', 'Roger', 'Alan', 'Frank', 'Justin', 'Ryan', 'Andrew', 'Jack', 'Matthew', 'Stephen', 'Brad', 'Greg', 'Paul', 'Jonathan', 'Peter', 'Amanda', 'Courtney', 'Heather', 'Melanie', 'Sara', 'Amber', 'Katie', 'Betsy', 'Kristin', 'Nancy', 'Stephanie', 'Ellen', 'Lauren', 'Colleen', 'Emily', 'Megan', 'Rachel']\n",
      "WARNING:root:The following words from set 'African american names' do not exist within the vocabulary of glove twitter dim=25: ['Alonzo', 'Jamel', 'Theo', 'Alphonse', 'Jerome', 'Leroy', 'Torrance', 'Darnell', 'Lamar', 'Lionel', 'Tyree', 'Deion', 'Lamont', 'Malik', 'Terrence', 'Tyrone', 'Lavon', 'Marcellus', 'Wardell', 'wardell', 'wardell', 'Nichelle', 'Shereen', 'Ebony', 'Latisha', 'Shaniqua', 'Jasmine', 'Tanisha', 'Tia', 'Lakisha', 'Latoya', 'Yolanda', 'Malika', 'Yvette']\n"
     ]
    },
    {
     "data": {
      "text/plain": [
       "{'query_name': 'European american names and African american names wrt Pleasant and Unpleasant',\n",
       " 'result': 3.7529150679125456,\n",
       " 'weat': 3.7529150679125456,\n",
       " 'effect_size': 1.2746819330405683,\n",
       " 'p_value': nan}"
      ]
     },
     "execution_count": 11,
     "metadata": {},
     "output_type": "execute_result"
    }
   ],
   "source": [
    "weat = WEAT()\n",
    "result = weat.run_query(\n",
    "    ethnicity_query,\n",
    "    model,\n",
    "    preprocessors=[\n",
    "        {},  # first step: empty preprocessor, search for the original words.\n",
    "        {\"lowercase\": True,},  # second step: search for lowercase.\n",
    "        {\n",
    "            \"lowercase\": True,\n",
    "            \"strip_accents\": True,\n",
    "        },  # third step: search for lowercase and no accent words.\n",
    "    ],\n",
    "    warn_not_found_words=True,\n",
    ")\n",
    "\n",
    "result"
   ]
  },
  {
   "cell_type": "raw",
   "metadata": {},
   "source": [
    "It is also possible to change the behavior of the search by including\n",
    "not only the first word, but all the words generated by the\n",
    "preprocessors. This can be controlled by specifying the parameter\n",
    "``strategy=all``."
   ]
  },
  {
   "cell_type": "code",
   "execution_count": 12,
   "metadata": {},
   "outputs": [
    {
     "name": "stderr",
     "output_type": "stream",
     "text": [
      "WARNING:root:The following words from set 'European american names' do not exist within the vocabulary of glove twitter dim=25: ['Adam', 'ADAM', 'Harry', 'HARRY', 'Josh', 'JOSH', 'Roger', 'ROGER', 'Alan', 'ALAN', 'Frank', 'FRANK', 'Justin', 'JUSTIN', 'Ryan', 'RYAN', 'Andrew', 'ANDREW', 'Jack', 'JACK', 'Matthew', 'MATTHEW', 'Stephen', 'STEPHEN', 'Brad', 'BRAD', 'Greg', 'GREG', 'Paul', 'PAUL', 'Jonathan', 'JONATHAN', 'Peter', 'PETER', 'Amanda', 'AMANDA', 'Courtney', 'COURTNEY', 'Heather', 'HEATHER', 'Melanie', 'MELANIE', 'Sara', 'SARA', 'Amber', 'AMBER', 'Katie', 'KATIE', 'Betsy', 'BETSY', 'Kristin', 'KRISTIN', 'Nancy', 'NANCY', 'Stephanie', 'STEPHANIE', 'Ellen', 'ELLEN', 'Lauren', 'LAUREN', 'Colleen', 'COLLEEN', 'Emily', 'EMILY', 'Megan', 'MEGAN', 'Rachel', 'RACHEL']\n",
      "WARNING:root:The following words from set 'African american names' do not exist within the vocabulary of glove twitter dim=25: ['Alonzo', 'ALONZO', 'Jamel', 'JAMEL', 'Theo', 'THEO', 'Alphonse', 'ALPHONSE', 'Jerome', 'JEROME', 'Leroy', 'LEROY', 'Torrance', 'TORRANCE', 'Darnell', 'DARNELL', 'Lamar', 'LAMAR', 'Lionel', 'LIONEL', 'Tyree', 'TYREE', 'Deion', 'DEION', 'Lamont', 'LAMONT', 'Malik', 'MALIK', 'Terrence', 'TERRENCE', 'Tyrone', 'TYRONE', 'Lavon', 'LAVON', 'Marcellus', 'MARCELLUS', 'Wardell', 'wardell', 'WARDELL', 'Nichelle', 'NICHELLE', 'Shereen', 'SHEREEN', 'Ebony', 'EBONY', 'Latisha', 'LATISHA', 'Shaniqua', 'SHANIQUA', 'Jasmine', 'JASMINE', 'Tanisha', 'TANISHA', 'Tia', 'TIA', 'Lakisha', 'LAKISHA', 'Latoya', 'LATOYA', 'Yolanda', 'YOLANDA', 'Malika', 'MALIKA', 'Yvette', 'YVETTE']\n",
      "WARNING:root:The following words from set 'Pleasant' do not exist within the vocabulary of glove twitter dim=25: ['CARESS', 'FREEDOM', 'HEALTH', 'LOVE', 'PEACE', 'CHEER', 'FRIEND', 'HEAVEN', 'LOYAL', 'PLEASURE', 'DIAMOND', 'GENTLE', 'HONEST', 'LUCKY', 'RAINBOW', 'DIPLOMA', 'GIFT', 'HONOR', 'MIRACLE', 'SUNRISE', 'FAMILY', 'HAPPY', 'LAUGHTER', 'PARADISE', 'VACATION']\n",
      "WARNING:root:The following words from set 'Unpleasant' do not exist within the vocabulary of glove twitter dim=25: ['ABUSE', 'CRASH', 'FILTH', 'MURDER', 'SICKNESS', 'ACCIDENT', 'DEATH', 'GRIEF', 'POISON', 'STINK', 'ASSAULT', 'DISASTER', 'HATRED', 'POLLUTE', 'TRAGEDY', 'DIVORCE', 'JAIL', 'POVERTY', 'UGLY', 'CANCER', 'KILL', 'ROTTEN', 'VOMIT', 'AGONY', 'PRISON']\n"
     ]
    },
    {
     "data": {
      "text/plain": [
       "{'query_name': 'European american names and African american names wrt Pleasant and Unpleasant',\n",
       " 'result': 3.7529150679125456,\n",
       " 'weat': 3.7529150679125456,\n",
       " 'effect_size': 1.2746819330405683,\n",
       " 'p_value': nan}"
      ]
     },
     "execution_count": 12,
     "metadata": {},
     "output_type": "execute_result"
    }
   ],
   "source": [
    "weat = WEAT()\n",
    "result = weat.run_query(\n",
    "    ethnicity_query,\n",
    "    model,\n",
    "    preprocessors=[\n",
    "        {},  # first step: empty preprocessor, search for the original words.\n",
    "        {\"lowercase\": True,},  # second step: search for lowercase .\n",
    "        {\"uppercase\": True,},  # third step: search for uppercase.\n",
    "    ],\n",
    "    strategy=\"all\",\n",
    "    warn_not_found_words=True,\n",
    ")\n",
    "\n",
    "result\n"
   ]
  },
  {
   "cell_type": "raw",
   "metadata": {},
   "source": [
    "Running Multiple Queries\n",
    "------------------------\n",
    "\n",
    "It is usual to want to test many queries of some bias criterion (gender,\n",
    "ethnicity, religion, politics, socioeconomic, among others) on several\n",
    "models at the same time. Trying to use ``run_query`` on each pair\n",
    "embedding-query can be a bit complex and could require extra work to\n",
    "implement.\n",
    "\n",
    "This is why WEFE also implements a function to test multiple\n",
    "queries on various word embedding models in a single call: the\n",
    ":func:`~wefe.utils.run_queries` util.\n",
    "\n",
    "The following code shows how to run various gender queries on ``Glove``\n",
    "embedding models with different dimensions trained from the Twitter\n",
    "dataset. The queries are executed using :class:`~wefe.metrics.WEAT.WEAT` metric."
   ]
  },
  {
   "cell_type": "code",
   "execution_count": 13,
   "metadata": {},
   "outputs": [],
   "source": [
    "import gensim.downloader as api\n",
    "\n",
    "from wefe.datasets import load_weat\n",
    "from wefe.metrics import RNSB, WEAT\n",
    "from wefe.query import Query\n",
    "from wefe.utils import run_queries\n",
    "from wefe.word_embedding_model import WordEmbeddingModel"
   ]
  },
  {
   "cell_type": "raw",
   "metadata": {},
   "source": [
    "Load the models\n",
    "~~~~~~~~~~~~~~~\n",
    "\n",
    "Load three different Glove Twitter embedding models. These models were\n",
    "trained using the same dataset varying the number of embedding\n",
    "dimensions."
   ]
  },
  {
   "cell_type": "code",
   "execution_count": 14,
   "metadata": {},
   "outputs": [],
   "source": [
    "model_1 = WordEmbeddingModel(api.load(\"glove-twitter-25\"), \"glove twitter dim=25\")\n",
    "model_2 = WordEmbeddingModel(api.load(\"glove-twitter-50\"), \"glove twitter dim=50\")\n",
    "model_3 = WordEmbeddingModel(api.load(\"glove-twitter-100\"), \"glove twitter dim=100\")\n",
    "\n",
    "models = [model_1, model_2, model_3]\n",
    "\n"
   ]
  },
  {
   "cell_type": "raw",
   "metadata": {},
   "source": [
    "Load the word sets and create the queries\n",
    "~~~~~~~~~~~~~~~~~~~~~~~~~~~~~~~~~~~~~~~~~\n",
    "\n",
    "Now, we load the :class:`~wefe.metrics.WEAT.WEAT` word set and create three queries. The\n",
    "three queries are intended to measure gender bias.\n"
   ]
  },
  {
   "cell_type": "code",
   "execution_count": 15,
   "metadata": {},
   "outputs": [],
   "source": [
    "# Load the WEAT word sets\n",
    "word_sets = load_weat()\n",
    "\n",
    "# Create gender queries\n",
    "gender_query_1 = Query(\n",
    "    [word_sets[\"male_terms\"], word_sets[\"female_terms\"]],\n",
    "    [word_sets[\"career\"], word_sets[\"family\"]],\n",
    "    [\"Male terms\", \"Female terms\"],\n",
    "    [\"Career\", \"Family\"],\n",
    ")\n",
    "\n",
    "gender_query_2 = Query(\n",
    "    [word_sets[\"male_terms\"], word_sets[\"female_terms\"]],\n",
    "    [word_sets[\"science\"], word_sets[\"arts\"]],\n",
    "    [\"Male terms\", \"Female terms\"],\n",
    "    [\"Science\", \"Arts\"],\n",
    ")\n",
    "\n",
    "gender_query_3 = Query(\n",
    "    [word_sets[\"male_terms\"], word_sets[\"female_terms\"]],\n",
    "    [word_sets[\"math\"], word_sets[\"arts_2\"]],\n",
    "    [\"Male terms\", \"Female terms\"],\n",
    "    [\"Math\", \"Arts\"],\n",
    ")\n",
    "\n",
    "gender_queries = [gender_query_1, gender_query_2, gender_query_3]\n"
   ]
  },
  {
   "cell_type": "raw",
   "metadata": {},
   "source": [
    "Run the queries on all Word Embeddings using WEAT\n",
    "~~~~~~~~~~~~~~~~~~~~~~~~~~~~~~~~~~~~~~~~~~~~~~~~~\n",
    "\n",
    "To run the list of queries and models, we call :func:`~wefe.utils.run_queries` using the\n",
    "parameters defined in the previous step. The mandatory parameters of the\n",
    "function are 3:\n",
    "\n",
    "-  a metric,\n",
    "-  a list of queries, and,\n",
    "-  a list of embedding models.\n",
    "\n",
    "It is also possible to provide a name for the criterion studied in this\n",
    "set of queries through the parameter ``queries_set_name``.\n"
   ]
  },
  {
   "cell_type": "code",
   "execution_count": 16,
   "metadata": {},
   "outputs": [
    {
     "name": "stderr",
     "output_type": "stream",
     "text": [
      "WARNING:root:The transformation of 'Science' into glove twitter dim=25 embeddings lost proportionally more words than specified in 'lost_words_threshold': 0.25 lost with respect to 0.2 maximum loss allowed.\n",
      "ERROR:root:At least one set of 'Male terms and Female terms wrt Science and Arts' query has proportionally fewer embeddings than allowed by the lost_vocabulary_threshold parameter (0.2). This query will return np.nan.\n",
      "WARNING:root:The transformation of 'Science' into glove twitter dim=50 embeddings lost proportionally more words than specified in 'lost_words_threshold': 0.25 lost with respect to 0.2 maximum loss allowed.\n",
      "ERROR:root:At least one set of 'Male terms and Female terms wrt Science and Arts' query has proportionally fewer embeddings than allowed by the lost_vocabulary_threshold parameter (0.2). This query will return np.nan.\n",
      "WARNING:root:The transformation of 'Science' into glove twitter dim=100 embeddings lost proportionally more words than specified in 'lost_words_threshold': 0.25 lost with respect to 0.2 maximum loss allowed.\n",
      "ERROR:root:At least one set of 'Male terms and Female terms wrt Science and Arts' query has proportionally fewer embeddings than allowed by the lost_vocabulary_threshold parameter (0.2). This query will return np.nan.\n"
     ]
    },
    {
     "data": {
      "text/html": [
       "<div>\n",
       "<style scoped>\n",
       "    .dataframe tbody tr th:only-of-type {\n",
       "        vertical-align: middle;\n",
       "    }\n",
       "\n",
       "    .dataframe tbody tr th {\n",
       "        vertical-align: top;\n",
       "    }\n",
       "\n",
       "    .dataframe thead th {\n",
       "        text-align: right;\n",
       "    }\n",
       "</style>\n",
       "<table border=\"1\" class=\"dataframe\">\n",
       "  <thead>\n",
       "    <tr style=\"text-align: right;\">\n",
       "      <th>query_name</th>\n",
       "      <th>Male terms and Female terms wrt Career and Family</th>\n",
       "      <th>Male terms and Female terms wrt Science and Arts</th>\n",
       "      <th>Male terms and Female terms wrt Math and Arts</th>\n",
       "    </tr>\n",
       "    <tr>\n",
       "      <th>model_name</th>\n",
       "      <th></th>\n",
       "      <th></th>\n",
       "      <th></th>\n",
       "    </tr>\n",
       "  </thead>\n",
       "  <tbody>\n",
       "    <tr>\n",
       "      <th>glove twitter dim=25</th>\n",
       "      <td>0.316584</td>\n",
       "      <td>NaN</td>\n",
       "      <td>-0.022133</td>\n",
       "    </tr>\n",
       "    <tr>\n",
       "      <th>glove twitter dim=50</th>\n",
       "      <td>0.363743</td>\n",
       "      <td>NaN</td>\n",
       "      <td>-0.272334</td>\n",
       "    </tr>\n",
       "    <tr>\n",
       "      <th>glove twitter dim=100</th>\n",
       "      <td>0.385352</td>\n",
       "      <td>NaN</td>\n",
       "      <td>-0.082544</td>\n",
       "    </tr>\n",
       "  </tbody>\n",
       "</table>\n",
       "</div>"
      ],
      "text/plain": [
       "query_name             Male terms and Female terms wrt Career and Family  \\\n",
       "model_name                                                                 \n",
       "glove twitter dim=25                                            0.316584   \n",
       "glove twitter dim=50                                            0.363743   \n",
       "glove twitter dim=100                                           0.385352   \n",
       "\n",
       "query_name             Male terms and Female terms wrt Science and Arts  \\\n",
       "model_name                                                                \n",
       "glove twitter dim=25                                                NaN   \n",
       "glove twitter dim=50                                                NaN   \n",
       "glove twitter dim=100                                               NaN   \n",
       "\n",
       "query_name             Male terms and Female terms wrt Math and Arts  \n",
       "model_name                                                            \n",
       "glove twitter dim=25                                       -0.022133  \n",
       "glove twitter dim=50                                       -0.272334  \n",
       "glove twitter dim=100                                      -0.082544  "
      ]
     },
     "execution_count": 16,
     "metadata": {},
     "output_type": "execute_result"
    }
   ],
   "source": [
    "WEAT_gender_results = run_queries(\n",
    "    WEAT, gender_queries, models, queries_set_name=\"Gender Queries\"\n",
    ")\n",
    "WEAT_gender_results\n"
   ]
  },
  {
   "cell_type": "raw",
   "metadata": {},
   "source": [
    "Setting metric params\n",
    "~~~~~~~~~~~~~~~~~~~~~\n",
    "\n",
    "There is a whole column that has no results. As the warnings point out,\n",
    "when transforming the words of the sets into embeddings, there is a loss\n",
    "of words that is greater than the allowed by the parameter\n",
    "``lost_vocabulary_threshold``. In this case, it would be very useful to\n",
    "use the word preprocessors seen above.\n",
    "\n",
    ":func:`~wefe.utils.run_queries`, accept specific parameters for each metric. These extra\n",
    "parameters for the metric can be passed through ``metric_params``\n",
    "parameter. In this case, a ``preprocessor`` is provided to lowercase the\n",
    "words before searching for them in the models’ vocabularies.\n"
   ]
  },
  {
   "cell_type": "code",
   "execution_count": 17,
   "metadata": {},
   "outputs": [
    {
     "data": {
      "text/html": [
       "<div>\n",
       "<style scoped>\n",
       "    .dataframe tbody tr th:only-of-type {\n",
       "        vertical-align: middle;\n",
       "    }\n",
       "\n",
       "    .dataframe tbody tr th {\n",
       "        vertical-align: top;\n",
       "    }\n",
       "\n",
       "    .dataframe thead th {\n",
       "        text-align: right;\n",
       "    }\n",
       "</style>\n",
       "<table border=\"1\" class=\"dataframe\">\n",
       "  <thead>\n",
       "    <tr style=\"text-align: right;\">\n",
       "      <th>query_name</th>\n",
       "      <th>Male terms and Female terms wrt Career and Family</th>\n",
       "      <th>Male terms and Female terms wrt Science and Arts</th>\n",
       "      <th>Male terms and Female terms wrt Math and Arts</th>\n",
       "    </tr>\n",
       "    <tr>\n",
       "      <th>model_name</th>\n",
       "      <th></th>\n",
       "      <th></th>\n",
       "      <th></th>\n",
       "    </tr>\n",
       "  </thead>\n",
       "  <tbody>\n",
       "    <tr>\n",
       "      <th>glove twitter dim=25</th>\n",
       "      <td>0.316584</td>\n",
       "      <td>0.167431</td>\n",
       "      <td>-0.033912</td>\n",
       "    </tr>\n",
       "    <tr>\n",
       "      <th>glove twitter dim=50</th>\n",
       "      <td>0.363743</td>\n",
       "      <td>-0.084690</td>\n",
       "      <td>-0.307589</td>\n",
       "    </tr>\n",
       "    <tr>\n",
       "      <th>glove twitter dim=100</th>\n",
       "      <td>0.385352</td>\n",
       "      <td>0.099632</td>\n",
       "      <td>-0.155790</td>\n",
       "    </tr>\n",
       "  </tbody>\n",
       "</table>\n",
       "</div>"
      ],
      "text/plain": [
       "query_name             Male terms and Female terms wrt Career and Family  \\\n",
       "model_name                                                                 \n",
       "glove twitter dim=25                                            0.316584   \n",
       "glove twitter dim=50                                            0.363743   \n",
       "glove twitter dim=100                                           0.385352   \n",
       "\n",
       "query_name             Male terms and Female terms wrt Science and Arts  \\\n",
       "model_name                                                                \n",
       "glove twitter dim=25                                           0.167431   \n",
       "glove twitter dim=50                                          -0.084690   \n",
       "glove twitter dim=100                                          0.099632   \n",
       "\n",
       "query_name             Male terms and Female terms wrt Math and Arts  \n",
       "model_name                                                            \n",
       "glove twitter dim=25                                       -0.033912  \n",
       "glove twitter dim=50                                       -0.307589  \n",
       "glove twitter dim=100                                      -0.155790  "
      ]
     },
     "execution_count": 17,
     "metadata": {},
     "output_type": "execute_result"
    }
   ],
   "source": [
    "WEAT_gender_results = run_queries(\n",
    "    WEAT,\n",
    "    gender_queries,\n",
    "    models,\n",
    "    metric_params={\"preprocessors\": [{\"lowercase\": True}]},\n",
    "    queries_set_name=\"Gender Queries\",\n",
    ")\n",
    "\n",
    "WEAT_gender_results"
   ]
  },
  {
   "cell_type": "raw",
   "metadata": {},
   "source": [
    "No query was null in these results.\n"
   ]
  },
  {
   "cell_type": "raw",
   "metadata": {},
   "source": [
    "Plot the results in a barplot\n",
    "~~~~~~~~~~~~~~~~~~~~~~~~~~~~~\n",
    "\n",
    "The library also provides an easy way to plot the results obtained from\n",
    "a ``run_queries`` execution into a `plotly <https://plotly.com/python/>`_ barplot."
   ]
  },
  {
   "cell_type": "code",
   "execution_count": 18,
   "metadata": {},
   "outputs": [
    {
     "data": {
      "text/html": [
       "        <script type=\"text/javascript\">\n",
       "        window.PlotlyConfig = {MathJaxConfig: 'local'};\n",
       "        if (window.MathJax && window.MathJax.Hub && window.MathJax.Hub.Config) {window.MathJax.Hub.Config({SVG: {font: \"STIX-Web\"}});}\n",
       "        if (typeof require !== 'undefined') {\n",
       "        require.undef(\"plotly\");\n",
       "        requirejs.config({\n",
       "            paths: {\n",
       "                'plotly': ['https://cdn.plot.ly/plotly-2.14.0.min']\n",
       "            }\n",
       "        });\n",
       "        require(['plotly'], function(Plotly) {\n",
       "            window._Plotly = Plotly;\n",
       "        });\n",
       "        }\n",
       "        </script>\n",
       "        "
      ]
     },
     "metadata": {},
     "output_type": "display_data"
    },
    {
     "data": {
      "text/html": [
       "<div>                            <div id=\"01c500a9-202d-4224-97fe-6dfa5c19160e\" class=\"plotly-graph-div\" style=\"height:525px; width:100%;\"></div>            <script type=\"text/javascript\">                require([\"plotly\"], function(Plotly) {                    window.PLOTLYENV=window.PLOTLYENV || {};                                    if (document.getElementById(\"01c500a9-202d-4224-97fe-6dfa5c19160e\")) {                    Plotly.newPlot(                        \"01c500a9-202d-4224-97fe-6dfa5c19160e\",                        [{\"alignmentgroup\":\"True\",\"hovertemplate\":\"Word Embedding Model=glove twitter dim=25<br>query_name=%{x}<br>value=%{y}<extra></extra>\",\"legendgroup\":\"glove twitter dim=25\",\"marker\":{\"color\":\"#636efa\",\"pattern\":{\"shape\":\"\"}},\"name\":\"glove twitter dim=25\",\"offsetgroup\":\"glove twitter dim=25\",\"orientation\":\"v\",\"showlegend\":true,\"textposition\":\"auto\",\"x\":[\"Male terms and Female terms wrt<br> Career and Family\",\"Male terms and Female terms wrt<br> Science and Arts\",\"Male terms and Female terms wrt<br> Math and Arts\"],\"xaxis\":\"x\",\"y\":[0.31658412935212255,0.16743079293519258,-0.03391197056043893],\"yaxis\":\"y\",\"type\":\"bar\"},{\"alignmentgroup\":\"True\",\"hovertemplate\":\"Word Embedding Model=glove twitter dim=50<br>query_name=%{x}<br>value=%{y}<extra></extra>\",\"legendgroup\":\"glove twitter dim=50\",\"marker\":{\"color\":\"#EF553B\",\"pattern\":{\"shape\":\"\"}},\"name\":\"glove twitter dim=50\",\"offsetgroup\":\"glove twitter dim=50\",\"orientation\":\"v\",\"showlegend\":true,\"textposition\":\"auto\",\"x\":[\"Male terms and Female terms wrt<br> Career and Family\",\"Male terms and Female terms wrt<br> Science and Arts\",\"Male terms and Female terms wrt<br> Math and Arts\"],\"xaxis\":\"x\",\"y\":[0.36374275921843946,-0.08469040598720312,-0.307589318981627],\"yaxis\":\"y\",\"type\":\"bar\"},{\"alignmentgroup\":\"True\",\"hovertemplate\":\"Word Embedding Model=glove twitter dim=100<br>query_name=%{x}<br>value=%{y}<extra></extra>\",\"legendgroup\":\"glove twitter dim=100\",\"marker\":{\"color\":\"#00cc96\",\"pattern\":{\"shape\":\"\"}},\"name\":\"glove twitter dim=100\",\"offsetgroup\":\"glove twitter dim=100\",\"orientation\":\"v\",\"showlegend\":true,\"textposition\":\"auto\",\"x\":[\"Male terms and Female terms wrt<br> Career and Family\",\"Male terms and Female terms wrt<br> Science and Arts\",\"Male terms and Female terms wrt<br> Math and Arts\"],\"xaxis\":\"x\",\"y\":[0.3853515642695129,0.09963233023881912,-0.15579040069133043],\"yaxis\":\"y\",\"type\":\"bar\"}],                        {\"template\":{\"data\":{\"histogram2dcontour\":[{\"type\":\"histogram2dcontour\",\"colorbar\":{\"outlinewidth\":0,\"ticks\":\"\"},\"colorscale\":[[0.0,\"#0d0887\"],[0.1111111111111111,\"#46039f\"],[0.2222222222222222,\"#7201a8\"],[0.3333333333333333,\"#9c179e\"],[0.4444444444444444,\"#bd3786\"],[0.5555555555555556,\"#d8576b\"],[0.6666666666666666,\"#ed7953\"],[0.7777777777777778,\"#fb9f3a\"],[0.8888888888888888,\"#fdca26\"],[1.0,\"#f0f921\"]]}],\"choropleth\":[{\"type\":\"choropleth\",\"colorbar\":{\"outlinewidth\":0,\"ticks\":\"\"}}],\"histogram2d\":[{\"type\":\"histogram2d\",\"colorbar\":{\"outlinewidth\":0,\"ticks\":\"\"},\"colorscale\":[[0.0,\"#0d0887\"],[0.1111111111111111,\"#46039f\"],[0.2222222222222222,\"#7201a8\"],[0.3333333333333333,\"#9c179e\"],[0.4444444444444444,\"#bd3786\"],[0.5555555555555556,\"#d8576b\"],[0.6666666666666666,\"#ed7953\"],[0.7777777777777778,\"#fb9f3a\"],[0.8888888888888888,\"#fdca26\"],[1.0,\"#f0f921\"]]}],\"heatmap\":[{\"type\":\"heatmap\",\"colorbar\":{\"outlinewidth\":0,\"ticks\":\"\"},\"colorscale\":[[0.0,\"#0d0887\"],[0.1111111111111111,\"#46039f\"],[0.2222222222222222,\"#7201a8\"],[0.3333333333333333,\"#9c179e\"],[0.4444444444444444,\"#bd3786\"],[0.5555555555555556,\"#d8576b\"],[0.6666666666666666,\"#ed7953\"],[0.7777777777777778,\"#fb9f3a\"],[0.8888888888888888,\"#fdca26\"],[1.0,\"#f0f921\"]]}],\"heatmapgl\":[{\"type\":\"heatmapgl\",\"colorbar\":{\"outlinewidth\":0,\"ticks\":\"\"},\"colorscale\":[[0.0,\"#0d0887\"],[0.1111111111111111,\"#46039f\"],[0.2222222222222222,\"#7201a8\"],[0.3333333333333333,\"#9c179e\"],[0.4444444444444444,\"#bd3786\"],[0.5555555555555556,\"#d8576b\"],[0.6666666666666666,\"#ed7953\"],[0.7777777777777778,\"#fb9f3a\"],[0.8888888888888888,\"#fdca26\"],[1.0,\"#f0f921\"]]}],\"contourcarpet\":[{\"type\":\"contourcarpet\",\"colorbar\":{\"outlinewidth\":0,\"ticks\":\"\"}}],\"contour\":[{\"type\":\"contour\",\"colorbar\":{\"outlinewidth\":0,\"ticks\":\"\"},\"colorscale\":[[0.0,\"#0d0887\"],[0.1111111111111111,\"#46039f\"],[0.2222222222222222,\"#7201a8\"],[0.3333333333333333,\"#9c179e\"],[0.4444444444444444,\"#bd3786\"],[0.5555555555555556,\"#d8576b\"],[0.6666666666666666,\"#ed7953\"],[0.7777777777777778,\"#fb9f3a\"],[0.8888888888888888,\"#fdca26\"],[1.0,\"#f0f921\"]]}],\"surface\":[{\"type\":\"surface\",\"colorbar\":{\"outlinewidth\":0,\"ticks\":\"\"},\"colorscale\":[[0.0,\"#0d0887\"],[0.1111111111111111,\"#46039f\"],[0.2222222222222222,\"#7201a8\"],[0.3333333333333333,\"#9c179e\"],[0.4444444444444444,\"#bd3786\"],[0.5555555555555556,\"#d8576b\"],[0.6666666666666666,\"#ed7953\"],[0.7777777777777778,\"#fb9f3a\"],[0.8888888888888888,\"#fdca26\"],[1.0,\"#f0f921\"]]}],\"mesh3d\":[{\"type\":\"mesh3d\",\"colorbar\":{\"outlinewidth\":0,\"ticks\":\"\"}}],\"scatter\":[{\"fillpattern\":{\"fillmode\":\"overlay\",\"size\":10,\"solidity\":0.2},\"type\":\"scatter\"}],\"parcoords\":[{\"type\":\"parcoords\",\"line\":{\"colorbar\":{\"outlinewidth\":0,\"ticks\":\"\"}}}],\"scatterpolargl\":[{\"type\":\"scatterpolargl\",\"marker\":{\"colorbar\":{\"outlinewidth\":0,\"ticks\":\"\"}}}],\"bar\":[{\"error_x\":{\"color\":\"#2a3f5f\"},\"error_y\":{\"color\":\"#2a3f5f\"},\"marker\":{\"line\":{\"color\":\"#E5ECF6\",\"width\":0.5},\"pattern\":{\"fillmode\":\"overlay\",\"size\":10,\"solidity\":0.2}},\"type\":\"bar\"}],\"scattergeo\":[{\"type\":\"scattergeo\",\"marker\":{\"colorbar\":{\"outlinewidth\":0,\"ticks\":\"\"}}}],\"scatterpolar\":[{\"type\":\"scatterpolar\",\"marker\":{\"colorbar\":{\"outlinewidth\":0,\"ticks\":\"\"}}}],\"histogram\":[{\"marker\":{\"pattern\":{\"fillmode\":\"overlay\",\"size\":10,\"solidity\":0.2}},\"type\":\"histogram\"}],\"scattergl\":[{\"type\":\"scattergl\",\"marker\":{\"colorbar\":{\"outlinewidth\":0,\"ticks\":\"\"}}}],\"scatter3d\":[{\"type\":\"scatter3d\",\"line\":{\"colorbar\":{\"outlinewidth\":0,\"ticks\":\"\"}},\"marker\":{\"colorbar\":{\"outlinewidth\":0,\"ticks\":\"\"}}}],\"scattermapbox\":[{\"type\":\"scattermapbox\",\"marker\":{\"colorbar\":{\"outlinewidth\":0,\"ticks\":\"\"}}}],\"scatterternary\":[{\"type\":\"scatterternary\",\"marker\":{\"colorbar\":{\"outlinewidth\":0,\"ticks\":\"\"}}}],\"scattercarpet\":[{\"type\":\"scattercarpet\",\"marker\":{\"colorbar\":{\"outlinewidth\":0,\"ticks\":\"\"}}}],\"carpet\":[{\"aaxis\":{\"endlinecolor\":\"#2a3f5f\",\"gridcolor\":\"white\",\"linecolor\":\"white\",\"minorgridcolor\":\"white\",\"startlinecolor\":\"#2a3f5f\"},\"baxis\":{\"endlinecolor\":\"#2a3f5f\",\"gridcolor\":\"white\",\"linecolor\":\"white\",\"minorgridcolor\":\"white\",\"startlinecolor\":\"#2a3f5f\"},\"type\":\"carpet\"}],\"table\":[{\"cells\":{\"fill\":{\"color\":\"#EBF0F8\"},\"line\":{\"color\":\"white\"}},\"header\":{\"fill\":{\"color\":\"#C8D4E3\"},\"line\":{\"color\":\"white\"}},\"type\":\"table\"}],\"barpolar\":[{\"marker\":{\"line\":{\"color\":\"#E5ECF6\",\"width\":0.5},\"pattern\":{\"fillmode\":\"overlay\",\"size\":10,\"solidity\":0.2}},\"type\":\"barpolar\"}],\"pie\":[{\"automargin\":true,\"type\":\"pie\"}]},\"layout\":{\"autotypenumbers\":\"strict\",\"colorway\":[\"#636efa\",\"#EF553B\",\"#00cc96\",\"#ab63fa\",\"#FFA15A\",\"#19d3f3\",\"#FF6692\",\"#B6E880\",\"#FF97FF\",\"#FECB52\"],\"font\":{\"color\":\"#2a3f5f\"},\"hovermode\":\"closest\",\"hoverlabel\":{\"align\":\"left\"},\"paper_bgcolor\":\"white\",\"plot_bgcolor\":\"#E5ECF6\",\"polar\":{\"bgcolor\":\"#E5ECF6\",\"angularaxis\":{\"gridcolor\":\"white\",\"linecolor\":\"white\",\"ticks\":\"\"},\"radialaxis\":{\"gridcolor\":\"white\",\"linecolor\":\"white\",\"ticks\":\"\"}},\"ternary\":{\"bgcolor\":\"#E5ECF6\",\"aaxis\":{\"gridcolor\":\"white\",\"linecolor\":\"white\",\"ticks\":\"\"},\"baxis\":{\"gridcolor\":\"white\",\"linecolor\":\"white\",\"ticks\":\"\"},\"caxis\":{\"gridcolor\":\"white\",\"linecolor\":\"white\",\"ticks\":\"\"}},\"coloraxis\":{\"colorbar\":{\"outlinewidth\":0,\"ticks\":\"\"}},\"colorscale\":{\"sequential\":[[0.0,\"#0d0887\"],[0.1111111111111111,\"#46039f\"],[0.2222222222222222,\"#7201a8\"],[0.3333333333333333,\"#9c179e\"],[0.4444444444444444,\"#bd3786\"],[0.5555555555555556,\"#d8576b\"],[0.6666666666666666,\"#ed7953\"],[0.7777777777777778,\"#fb9f3a\"],[0.8888888888888888,\"#fdca26\"],[1.0,\"#f0f921\"]],\"sequentialminus\":[[0.0,\"#0d0887\"],[0.1111111111111111,\"#46039f\"],[0.2222222222222222,\"#7201a8\"],[0.3333333333333333,\"#9c179e\"],[0.4444444444444444,\"#bd3786\"],[0.5555555555555556,\"#d8576b\"],[0.6666666666666666,\"#ed7953\"],[0.7777777777777778,\"#fb9f3a\"],[0.8888888888888888,\"#fdca26\"],[1.0,\"#f0f921\"]],\"diverging\":[[0,\"#8e0152\"],[0.1,\"#c51b7d\"],[0.2,\"#de77ae\"],[0.3,\"#f1b6da\"],[0.4,\"#fde0ef\"],[0.5,\"#f7f7f7\"],[0.6,\"#e6f5d0\"],[0.7,\"#b8e186\"],[0.8,\"#7fbc41\"],[0.9,\"#4d9221\"],[1,\"#276419\"]]},\"xaxis\":{\"gridcolor\":\"white\",\"linecolor\":\"white\",\"ticks\":\"\",\"title\":{\"standoff\":15},\"zerolinecolor\":\"white\",\"automargin\":true,\"zerolinewidth\":2},\"yaxis\":{\"gridcolor\":\"white\",\"linecolor\":\"white\",\"ticks\":\"\",\"title\":{\"standoff\":15},\"zerolinecolor\":\"white\",\"automargin\":true,\"zerolinewidth\":2},\"scene\":{\"xaxis\":{\"backgroundcolor\":\"#E5ECF6\",\"gridcolor\":\"white\",\"linecolor\":\"white\",\"showbackground\":true,\"ticks\":\"\",\"zerolinecolor\":\"white\",\"gridwidth\":2},\"yaxis\":{\"backgroundcolor\":\"#E5ECF6\",\"gridcolor\":\"white\",\"linecolor\":\"white\",\"showbackground\":true,\"ticks\":\"\",\"zerolinecolor\":\"white\",\"gridwidth\":2},\"zaxis\":{\"backgroundcolor\":\"#E5ECF6\",\"gridcolor\":\"white\",\"linecolor\":\"white\",\"showbackground\":true,\"ticks\":\"\",\"zerolinecolor\":\"white\",\"gridwidth\":2}},\"shapedefaults\":{\"line\":{\"color\":\"#2a3f5f\"}},\"annotationdefaults\":{\"arrowcolor\":\"#2a3f5f\",\"arrowhead\":0,\"arrowwidth\":1},\"geo\":{\"bgcolor\":\"white\",\"landcolor\":\"#E5ECF6\",\"subunitcolor\":\"white\",\"showland\":true,\"showlakes\":true,\"lakecolor\":\"white\"},\"title\":{\"x\":0.05},\"mapbox\":{\"style\":\"light\"}}},\"xaxis\":{\"anchor\":\"y\",\"domain\":[0.0,1.0],\"title\":{\"text\":\"Query\"}},\"yaxis\":{\"anchor\":\"x\",\"domain\":[0.0,1.0],\"title\":{\"text\":\"Bias measure\"}},\"legend\":{\"title\":{\"text\":\"Word Embedding Model\"},\"tracegroupgap\":0},\"margin\":{\"t\":60},\"barmode\":\"group\"},                        {\"responsive\": true}                    ).then(function(){\n",
       "                            \n",
       "var gd = document.getElementById('01c500a9-202d-4224-97fe-6dfa5c19160e');\n",
       "var x = new MutationObserver(function (mutations, observer) {{\n",
       "        var display = window.getComputedStyle(gd).display;\n",
       "        if (!display || display === 'none') {{\n",
       "            console.log([gd, 'removed!']);\n",
       "            Plotly.purge(gd);\n",
       "            observer.disconnect();\n",
       "        }}\n",
       "}});\n",
       "\n",
       "// Listen for the removal of the full notebook cells\n",
       "var notebookContainer = gd.closest('#notebook-container');\n",
       "if (notebookContainer) {{\n",
       "    x.observe(notebookContainer, {childList: true});\n",
       "}}\n",
       "\n",
       "// Listen for the clearing of the current output cell\n",
       "var outputEl = gd.closest('.output');\n",
       "if (outputEl) {{\n",
       "    x.observe(outputEl, {childList: true});\n",
       "}}\n",
       "\n",
       "                        })                };                });            </script>        </div>"
      ]
     },
     "metadata": {},
     "output_type": "display_data"
    }
   ],
   "source": [
    "from wefe.utils import plot_queries_results, run_queries\n",
    "\n",
    "# Plot the results\n",
    "plot_queries_results(WEAT_gender_results).show()\n"
   ]
  },
  {
   "cell_type": "raw",
   "metadata": {},
   "source": [
    "Aggregating Results\n",
    "-------------------\n",
    "\n",
    "The execution of :func:`~wefe.utils.run_queries` provided many results evaluating the\n",
    "gender bias in the tested embeddings. However, these results alone do\n",
    "not comprehensively report the biases observed in all of these queries.\n",
    "One way to obtain an overall view of bias is by aggregating results by\n",
    "model.\n",
    "\n",
    "For WEAT, a simple way to aggregate the results is to average their\n",
    "absolute values. When running :func:`~wefe.utils.run_queries`, it is possible to specify\n",
    "that the results be aggregated by model by setting ``aggregate_results``\n",
    "as ``True``\n",
    "\n",
    "The aggregation function can be specified through the\n",
    "``aggregation_function`` parameter. This parameter accepts a list of\n",
    "predefined aggregations as well as a custom function that operates on\n",
    "the results dataframe. The aggregation functions available are:\n",
    "\n",
    "-  Average ``avg``.\n",
    "-  Average of the absolute values ``abs_avg``.\n",
    "-  Sum ``sum``.\n",
    "-  Sum of the absolute values, ``abs_sum``.\n",
    "\n",
    ".. note::\n",
    "\n",
    "    Notice that some functions are more appropriate for certain metrics. For\n",
    "    metrics returning only positive numbers, all the previous aggregation\n",
    "    functions would be OK. In contrast, metrics that return real values\n",
    "    (e.g., :class:`~wefe.metrics.WEAT.WEAT` , :class:`~wefe.metrics.RND.RND` , etc…), \n",
    "    aggregation functions such as sum would make positive and negative outputs to cancel \n",
    "    each other."
   ]
  },
  {
   "cell_type": "code",
   "execution_count": 19,
   "metadata": {},
   "outputs": [
    {
     "data": {
      "text/html": [
       "<div>\n",
       "<style scoped>\n",
       "    .dataframe tbody tr th:only-of-type {\n",
       "        vertical-align: middle;\n",
       "    }\n",
       "\n",
       "    .dataframe tbody tr th {\n",
       "        vertical-align: top;\n",
       "    }\n",
       "\n",
       "    .dataframe thead th {\n",
       "        text-align: right;\n",
       "    }\n",
       "</style>\n",
       "<table border=\"1\" class=\"dataframe\">\n",
       "  <thead>\n",
       "    <tr style=\"text-align: right;\">\n",
       "      <th></th>\n",
       "      <th>Male terms and Female terms wrt Career and Family</th>\n",
       "      <th>Male terms and Female terms wrt Science and Arts</th>\n",
       "      <th>Male terms and Female terms wrt Math and Arts</th>\n",
       "      <th>WEAT: Gender Queries average of abs values score</th>\n",
       "    </tr>\n",
       "    <tr>\n",
       "      <th>model_name</th>\n",
       "      <th></th>\n",
       "      <th></th>\n",
       "      <th></th>\n",
       "      <th></th>\n",
       "    </tr>\n",
       "  </thead>\n",
       "  <tbody>\n",
       "    <tr>\n",
       "      <th>glove twitter dim=25</th>\n",
       "      <td>0.316584</td>\n",
       "      <td>0.167431</td>\n",
       "      <td>-0.033912</td>\n",
       "      <td>0.172642</td>\n",
       "    </tr>\n",
       "    <tr>\n",
       "      <th>glove twitter dim=50</th>\n",
       "      <td>0.363743</td>\n",
       "      <td>-0.084690</td>\n",
       "      <td>-0.307589</td>\n",
       "      <td>0.252007</td>\n",
       "    </tr>\n",
       "    <tr>\n",
       "      <th>glove twitter dim=100</th>\n",
       "      <td>0.385352</td>\n",
       "      <td>0.099632</td>\n",
       "      <td>-0.155790</td>\n",
       "      <td>0.213591</td>\n",
       "    </tr>\n",
       "  </tbody>\n",
       "</table>\n",
       "</div>"
      ],
      "text/plain": [
       "                       Male terms and Female terms wrt Career and Family  \\\n",
       "model_name                                                                 \n",
       "glove twitter dim=25                                            0.316584   \n",
       "glove twitter dim=50                                            0.363743   \n",
       "glove twitter dim=100                                           0.385352   \n",
       "\n",
       "                       Male terms and Female terms wrt Science and Arts  \\\n",
       "model_name                                                                \n",
       "glove twitter dim=25                                           0.167431   \n",
       "glove twitter dim=50                                          -0.084690   \n",
       "glove twitter dim=100                                          0.099632   \n",
       "\n",
       "                       Male terms and Female terms wrt Math and Arts  \\\n",
       "model_name                                                             \n",
       "glove twitter dim=25                                       -0.033912   \n",
       "glove twitter dim=50                                       -0.307589   \n",
       "glove twitter dim=100                                      -0.155790   \n",
       "\n",
       "                       WEAT: Gender Queries average of abs values score  \n",
       "model_name                                                               \n",
       "glove twitter dim=25                                           0.172642  \n",
       "glove twitter dim=50                                           0.252007  \n",
       "glove twitter dim=100                                          0.213591  "
      ]
     },
     "execution_count": 19,
     "metadata": {},
     "output_type": "execute_result"
    }
   ],
   "source": [
    "WEAT_gender_results_agg = run_queries(\n",
    "    WEAT,\n",
    "    gender_queries,\n",
    "    models,\n",
    "    metric_params={\"preprocessors\": [{\"lowercase\": True}]},\n",
    "    aggregate_results=True,\n",
    "    aggregation_function=\"abs_avg\",\n",
    "    queries_set_name=\"Gender Queries\",\n",
    ")\n",
    "WEAT_gender_results_agg\n"
   ]
  },
  {
   "cell_type": "code",
   "execution_count": 20,
   "metadata": {},
   "outputs": [
    {
     "data": {
      "text/html": [
       "<div>                            <div id=\"1b9ced78-4136-4bbb-888c-4b3788189314\" class=\"plotly-graph-div\" style=\"height:525px; width:100%;\"></div>            <script type=\"text/javascript\">                require([\"plotly\"], function(Plotly) {                    window.PLOTLYENV=window.PLOTLYENV || {};                                    if (document.getElementById(\"1b9ced78-4136-4bbb-888c-4b3788189314\")) {                    Plotly.newPlot(                        \"1b9ced78-4136-4bbb-888c-4b3788189314\",                        [{\"alignmentgroup\":\"True\",\"hovertemplate\":\"Word Embedding Model=glove twitter dim=25<br>query_name=%{x}<br>value=%{y}<extra></extra>\",\"legendgroup\":\"glove twitter dim=25\",\"marker\":{\"color\":\"#636efa\",\"pattern\":{\"shape\":\"\"}},\"name\":\"glove twitter dim=25\",\"offsetgroup\":\"glove twitter dim=25\",\"orientation\":\"v\",\"showlegend\":true,\"textposition\":\"auto\",\"x\":[\"Male terms and Female terms wrt<br> Career and Family\",\"Male terms and Female terms wrt<br> Science and Arts\",\"Male terms and Female terms wrt<br> Math and Arts\",\"WEAT: Gender Queries average of abs values score\"],\"xaxis\":\"x\",\"y\":[0.31658412935212255,0.16743079293519258,-0.03391197056043893,0.172642297615918],\"yaxis\":\"y\",\"type\":\"bar\"},{\"alignmentgroup\":\"True\",\"hovertemplate\":\"Word Embedding Model=glove twitter dim=50<br>query_name=%{x}<br>value=%{y}<extra></extra>\",\"legendgroup\":\"glove twitter dim=50\",\"marker\":{\"color\":\"#EF553B\",\"pattern\":{\"shape\":\"\"}},\"name\":\"glove twitter dim=50\",\"offsetgroup\":\"glove twitter dim=50\",\"orientation\":\"v\",\"showlegend\":true,\"textposition\":\"auto\",\"x\":[\"Male terms and Female terms wrt<br> Career and Family\",\"Male terms and Female terms wrt<br> Science and Arts\",\"Male terms and Female terms wrt<br> Math and Arts\",\"WEAT: Gender Queries average of abs values score\"],\"xaxis\":\"x\",\"y\":[0.36374275921843946,-0.08469040598720312,-0.307589318981627,0.25200749472908984],\"yaxis\":\"y\",\"type\":\"bar\"},{\"alignmentgroup\":\"True\",\"hovertemplate\":\"Word Embedding Model=glove twitter dim=100<br>query_name=%{x}<br>value=%{y}<extra></extra>\",\"legendgroup\":\"glove twitter dim=100\",\"marker\":{\"color\":\"#00cc96\",\"pattern\":{\"shape\":\"\"}},\"name\":\"glove twitter dim=100\",\"offsetgroup\":\"glove twitter dim=100\",\"orientation\":\"v\",\"showlegend\":true,\"textposition\":\"auto\",\"x\":[\"Male terms and Female terms wrt<br> Career and Family\",\"Male terms and Female terms wrt<br> Science and Arts\",\"Male terms and Female terms wrt<br> Math and Arts\",\"WEAT: Gender Queries average of abs values score\"],\"xaxis\":\"x\",\"y\":[0.3853515642695129,0.09963233023881912,-0.15579040069133043,0.21359143173322082],\"yaxis\":\"y\",\"type\":\"bar\"}],                        {\"template\":{\"data\":{\"histogram2dcontour\":[{\"type\":\"histogram2dcontour\",\"colorbar\":{\"outlinewidth\":0,\"ticks\":\"\"},\"colorscale\":[[0.0,\"#0d0887\"],[0.1111111111111111,\"#46039f\"],[0.2222222222222222,\"#7201a8\"],[0.3333333333333333,\"#9c179e\"],[0.4444444444444444,\"#bd3786\"],[0.5555555555555556,\"#d8576b\"],[0.6666666666666666,\"#ed7953\"],[0.7777777777777778,\"#fb9f3a\"],[0.8888888888888888,\"#fdca26\"],[1.0,\"#f0f921\"]]}],\"choropleth\":[{\"type\":\"choropleth\",\"colorbar\":{\"outlinewidth\":0,\"ticks\":\"\"}}],\"histogram2d\":[{\"type\":\"histogram2d\",\"colorbar\":{\"outlinewidth\":0,\"ticks\":\"\"},\"colorscale\":[[0.0,\"#0d0887\"],[0.1111111111111111,\"#46039f\"],[0.2222222222222222,\"#7201a8\"],[0.3333333333333333,\"#9c179e\"],[0.4444444444444444,\"#bd3786\"],[0.5555555555555556,\"#d8576b\"],[0.6666666666666666,\"#ed7953\"],[0.7777777777777778,\"#fb9f3a\"],[0.8888888888888888,\"#fdca26\"],[1.0,\"#f0f921\"]]}],\"heatmap\":[{\"type\":\"heatmap\",\"colorbar\":{\"outlinewidth\":0,\"ticks\":\"\"},\"colorscale\":[[0.0,\"#0d0887\"],[0.1111111111111111,\"#46039f\"],[0.2222222222222222,\"#7201a8\"],[0.3333333333333333,\"#9c179e\"],[0.4444444444444444,\"#bd3786\"],[0.5555555555555556,\"#d8576b\"],[0.6666666666666666,\"#ed7953\"],[0.7777777777777778,\"#fb9f3a\"],[0.8888888888888888,\"#fdca26\"],[1.0,\"#f0f921\"]]}],\"heatmapgl\":[{\"type\":\"heatmapgl\",\"colorbar\":{\"outlinewidth\":0,\"ticks\":\"\"},\"colorscale\":[[0.0,\"#0d0887\"],[0.1111111111111111,\"#46039f\"],[0.2222222222222222,\"#7201a8\"],[0.3333333333333333,\"#9c179e\"],[0.4444444444444444,\"#bd3786\"],[0.5555555555555556,\"#d8576b\"],[0.6666666666666666,\"#ed7953\"],[0.7777777777777778,\"#fb9f3a\"],[0.8888888888888888,\"#fdca26\"],[1.0,\"#f0f921\"]]}],\"contourcarpet\":[{\"type\":\"contourcarpet\",\"colorbar\":{\"outlinewidth\":0,\"ticks\":\"\"}}],\"contour\":[{\"type\":\"contour\",\"colorbar\":{\"outlinewidth\":0,\"ticks\":\"\"},\"colorscale\":[[0.0,\"#0d0887\"],[0.1111111111111111,\"#46039f\"],[0.2222222222222222,\"#7201a8\"],[0.3333333333333333,\"#9c179e\"],[0.4444444444444444,\"#bd3786\"],[0.5555555555555556,\"#d8576b\"],[0.6666666666666666,\"#ed7953\"],[0.7777777777777778,\"#fb9f3a\"],[0.8888888888888888,\"#fdca26\"],[1.0,\"#f0f921\"]]}],\"surface\":[{\"type\":\"surface\",\"colorbar\":{\"outlinewidth\":0,\"ticks\":\"\"},\"colorscale\":[[0.0,\"#0d0887\"],[0.1111111111111111,\"#46039f\"],[0.2222222222222222,\"#7201a8\"],[0.3333333333333333,\"#9c179e\"],[0.4444444444444444,\"#bd3786\"],[0.5555555555555556,\"#d8576b\"],[0.6666666666666666,\"#ed7953\"],[0.7777777777777778,\"#fb9f3a\"],[0.8888888888888888,\"#fdca26\"],[1.0,\"#f0f921\"]]}],\"mesh3d\":[{\"type\":\"mesh3d\",\"colorbar\":{\"outlinewidth\":0,\"ticks\":\"\"}}],\"scatter\":[{\"fillpattern\":{\"fillmode\":\"overlay\",\"size\":10,\"solidity\":0.2},\"type\":\"scatter\"}],\"parcoords\":[{\"type\":\"parcoords\",\"line\":{\"colorbar\":{\"outlinewidth\":0,\"ticks\":\"\"}}}],\"scatterpolargl\":[{\"type\":\"scatterpolargl\",\"marker\":{\"colorbar\":{\"outlinewidth\":0,\"ticks\":\"\"}}}],\"bar\":[{\"error_x\":{\"color\":\"#2a3f5f\"},\"error_y\":{\"color\":\"#2a3f5f\"},\"marker\":{\"line\":{\"color\":\"#E5ECF6\",\"width\":0.5},\"pattern\":{\"fillmode\":\"overlay\",\"size\":10,\"solidity\":0.2}},\"type\":\"bar\"}],\"scattergeo\":[{\"type\":\"scattergeo\",\"marker\":{\"colorbar\":{\"outlinewidth\":0,\"ticks\":\"\"}}}],\"scatterpolar\":[{\"type\":\"scatterpolar\",\"marker\":{\"colorbar\":{\"outlinewidth\":0,\"ticks\":\"\"}}}],\"histogram\":[{\"marker\":{\"pattern\":{\"fillmode\":\"overlay\",\"size\":10,\"solidity\":0.2}},\"type\":\"histogram\"}],\"scattergl\":[{\"type\":\"scattergl\",\"marker\":{\"colorbar\":{\"outlinewidth\":0,\"ticks\":\"\"}}}],\"scatter3d\":[{\"type\":\"scatter3d\",\"line\":{\"colorbar\":{\"outlinewidth\":0,\"ticks\":\"\"}},\"marker\":{\"colorbar\":{\"outlinewidth\":0,\"ticks\":\"\"}}}],\"scattermapbox\":[{\"type\":\"scattermapbox\",\"marker\":{\"colorbar\":{\"outlinewidth\":0,\"ticks\":\"\"}}}],\"scatterternary\":[{\"type\":\"scatterternary\",\"marker\":{\"colorbar\":{\"outlinewidth\":0,\"ticks\":\"\"}}}],\"scattercarpet\":[{\"type\":\"scattercarpet\",\"marker\":{\"colorbar\":{\"outlinewidth\":0,\"ticks\":\"\"}}}],\"carpet\":[{\"aaxis\":{\"endlinecolor\":\"#2a3f5f\",\"gridcolor\":\"white\",\"linecolor\":\"white\",\"minorgridcolor\":\"white\",\"startlinecolor\":\"#2a3f5f\"},\"baxis\":{\"endlinecolor\":\"#2a3f5f\",\"gridcolor\":\"white\",\"linecolor\":\"white\",\"minorgridcolor\":\"white\",\"startlinecolor\":\"#2a3f5f\"},\"type\":\"carpet\"}],\"table\":[{\"cells\":{\"fill\":{\"color\":\"#EBF0F8\"},\"line\":{\"color\":\"white\"}},\"header\":{\"fill\":{\"color\":\"#C8D4E3\"},\"line\":{\"color\":\"white\"}},\"type\":\"table\"}],\"barpolar\":[{\"marker\":{\"line\":{\"color\":\"#E5ECF6\",\"width\":0.5},\"pattern\":{\"fillmode\":\"overlay\",\"size\":10,\"solidity\":0.2}},\"type\":\"barpolar\"}],\"pie\":[{\"automargin\":true,\"type\":\"pie\"}]},\"layout\":{\"autotypenumbers\":\"strict\",\"colorway\":[\"#636efa\",\"#EF553B\",\"#00cc96\",\"#ab63fa\",\"#FFA15A\",\"#19d3f3\",\"#FF6692\",\"#B6E880\",\"#FF97FF\",\"#FECB52\"],\"font\":{\"color\":\"#2a3f5f\"},\"hovermode\":\"closest\",\"hoverlabel\":{\"align\":\"left\"},\"paper_bgcolor\":\"white\",\"plot_bgcolor\":\"#E5ECF6\",\"polar\":{\"bgcolor\":\"#E5ECF6\",\"angularaxis\":{\"gridcolor\":\"white\",\"linecolor\":\"white\",\"ticks\":\"\"},\"radialaxis\":{\"gridcolor\":\"white\",\"linecolor\":\"white\",\"ticks\":\"\"}},\"ternary\":{\"bgcolor\":\"#E5ECF6\",\"aaxis\":{\"gridcolor\":\"white\",\"linecolor\":\"white\",\"ticks\":\"\"},\"baxis\":{\"gridcolor\":\"white\",\"linecolor\":\"white\",\"ticks\":\"\"},\"caxis\":{\"gridcolor\":\"white\",\"linecolor\":\"white\",\"ticks\":\"\"}},\"coloraxis\":{\"colorbar\":{\"outlinewidth\":0,\"ticks\":\"\"}},\"colorscale\":{\"sequential\":[[0.0,\"#0d0887\"],[0.1111111111111111,\"#46039f\"],[0.2222222222222222,\"#7201a8\"],[0.3333333333333333,\"#9c179e\"],[0.4444444444444444,\"#bd3786\"],[0.5555555555555556,\"#d8576b\"],[0.6666666666666666,\"#ed7953\"],[0.7777777777777778,\"#fb9f3a\"],[0.8888888888888888,\"#fdca26\"],[1.0,\"#f0f921\"]],\"sequentialminus\":[[0.0,\"#0d0887\"],[0.1111111111111111,\"#46039f\"],[0.2222222222222222,\"#7201a8\"],[0.3333333333333333,\"#9c179e\"],[0.4444444444444444,\"#bd3786\"],[0.5555555555555556,\"#d8576b\"],[0.6666666666666666,\"#ed7953\"],[0.7777777777777778,\"#fb9f3a\"],[0.8888888888888888,\"#fdca26\"],[1.0,\"#f0f921\"]],\"diverging\":[[0,\"#8e0152\"],[0.1,\"#c51b7d\"],[0.2,\"#de77ae\"],[0.3,\"#f1b6da\"],[0.4,\"#fde0ef\"],[0.5,\"#f7f7f7\"],[0.6,\"#e6f5d0\"],[0.7,\"#b8e186\"],[0.8,\"#7fbc41\"],[0.9,\"#4d9221\"],[1,\"#276419\"]]},\"xaxis\":{\"gridcolor\":\"white\",\"linecolor\":\"white\",\"ticks\":\"\",\"title\":{\"standoff\":15},\"zerolinecolor\":\"white\",\"automargin\":true,\"zerolinewidth\":2},\"yaxis\":{\"gridcolor\":\"white\",\"linecolor\":\"white\",\"ticks\":\"\",\"title\":{\"standoff\":15},\"zerolinecolor\":\"white\",\"automargin\":true,\"zerolinewidth\":2},\"scene\":{\"xaxis\":{\"backgroundcolor\":\"#E5ECF6\",\"gridcolor\":\"white\",\"linecolor\":\"white\",\"showbackground\":true,\"ticks\":\"\",\"zerolinecolor\":\"white\",\"gridwidth\":2},\"yaxis\":{\"backgroundcolor\":\"#E5ECF6\",\"gridcolor\":\"white\",\"linecolor\":\"white\",\"showbackground\":true,\"ticks\":\"\",\"zerolinecolor\":\"white\",\"gridwidth\":2},\"zaxis\":{\"backgroundcolor\":\"#E5ECF6\",\"gridcolor\":\"white\",\"linecolor\":\"white\",\"showbackground\":true,\"ticks\":\"\",\"zerolinecolor\":\"white\",\"gridwidth\":2}},\"shapedefaults\":{\"line\":{\"color\":\"#2a3f5f\"}},\"annotationdefaults\":{\"arrowcolor\":\"#2a3f5f\",\"arrowhead\":0,\"arrowwidth\":1},\"geo\":{\"bgcolor\":\"white\",\"landcolor\":\"#E5ECF6\",\"subunitcolor\":\"white\",\"showland\":true,\"showlakes\":true,\"lakecolor\":\"white\"},\"title\":{\"x\":0.05},\"mapbox\":{\"style\":\"light\"}}},\"xaxis\":{\"anchor\":\"y\",\"domain\":[0.0,1.0],\"title\":{\"text\":\"Query\"}},\"yaxis\":{\"anchor\":\"x\",\"domain\":[0.0,1.0],\"title\":{\"text\":\"Bias measure\"}},\"legend\":{\"title\":{\"text\":\"Word Embedding Model\"},\"tracegroupgap\":0},\"margin\":{\"t\":60},\"barmode\":\"group\"},                        {\"responsive\": true}                    ).then(function(){\n",
       "                            \n",
       "var gd = document.getElementById('1b9ced78-4136-4bbb-888c-4b3788189314');\n",
       "var x = new MutationObserver(function (mutations, observer) {{\n",
       "        var display = window.getComputedStyle(gd).display;\n",
       "        if (!display || display === 'none') {{\n",
       "            console.log([gd, 'removed!']);\n",
       "            Plotly.purge(gd);\n",
       "            observer.disconnect();\n",
       "        }}\n",
       "}});\n",
       "\n",
       "// Listen for the removal of the full notebook cells\n",
       "var notebookContainer = gd.closest('#notebook-container');\n",
       "if (notebookContainer) {{\n",
       "    x.observe(notebookContainer, {childList: true});\n",
       "}}\n",
       "\n",
       "// Listen for the clearing of the current output cell\n",
       "var outputEl = gd.closest('.output');\n",
       "if (outputEl) {{\n",
       "    x.observe(outputEl, {childList: true});\n",
       "}}\n",
       "\n",
       "                        })                };                });            </script>        </div>"
      ]
     },
     "metadata": {},
     "output_type": "display_data"
    }
   ],
   "source": [
    "plot_queries_results(WEAT_gender_results_agg).show()\n"
   ]
  },
  {
   "cell_type": "raw",
   "metadata": {},
   "source": [
    "It is also possible to ask the function to return only the aggregated\n",
    "results using the parameter ``return_only_aggregation``\n"
   ]
  },
  {
   "cell_type": "code",
   "execution_count": 21,
   "metadata": {},
   "outputs": [
    {
     "data": {
      "text/html": [
       "<div>\n",
       "<style scoped>\n",
       "    .dataframe tbody tr th:only-of-type {\n",
       "        vertical-align: middle;\n",
       "    }\n",
       "\n",
       "    .dataframe tbody tr th {\n",
       "        vertical-align: top;\n",
       "    }\n",
       "\n",
       "    .dataframe thead th {\n",
       "        text-align: right;\n",
       "    }\n",
       "</style>\n",
       "<table border=\"1\" class=\"dataframe\">\n",
       "  <thead>\n",
       "    <tr style=\"text-align: right;\">\n",
       "      <th></th>\n",
       "      <th>WEAT: Gender Queries average of abs values score</th>\n",
       "    </tr>\n",
       "    <tr>\n",
       "      <th>model_name</th>\n",
       "      <th></th>\n",
       "    </tr>\n",
       "  </thead>\n",
       "  <tbody>\n",
       "    <tr>\n",
       "      <th>glove twitter dim=25</th>\n",
       "      <td>0.172642</td>\n",
       "    </tr>\n",
       "    <tr>\n",
       "      <th>glove twitter dim=50</th>\n",
       "      <td>0.252007</td>\n",
       "    </tr>\n",
       "    <tr>\n",
       "      <th>glove twitter dim=100</th>\n",
       "      <td>0.213591</td>\n",
       "    </tr>\n",
       "  </tbody>\n",
       "</table>\n",
       "</div>"
      ],
      "text/plain": [
       "                       WEAT: Gender Queries average of abs values score\n",
       "model_name                                                             \n",
       "glove twitter dim=25                                           0.172642\n",
       "glove twitter dim=50                                           0.252007\n",
       "glove twitter dim=100                                          0.213591"
      ]
     },
     "execution_count": 21,
     "metadata": {},
     "output_type": "execute_result"
    }
   ],
   "source": [
    "WEAT_gender_results_only_agg = run_queries(\n",
    "    WEAT,\n",
    "    gender_queries,\n",
    "    models,\n",
    "    metric_params={\"preprocessors\": [{\"lowercase\": True}]},\n",
    "    aggregate_results=True,\n",
    "    aggregation_function=\"abs_avg\",\n",
    "    return_only_aggregation=True,\n",
    "    queries_set_name=\"Gender Queries\",\n",
    ")\n",
    "WEAT_gender_results_only_agg\n"
   ]
  },
  {
   "cell_type": "code",
   "execution_count": 22,
   "metadata": {},
   "outputs": [
    {
     "data": {
      "text/html": [
       "<div>                            <div id=\"12305376-4fdd-406c-8c2c-88fca145cd19\" class=\"plotly-graph-div\" style=\"height:525px; width:100%;\"></div>            <script type=\"text/javascript\">                require([\"plotly\"], function(Plotly) {                    window.PLOTLYENV=window.PLOTLYENV || {};                                    if (document.getElementById(\"12305376-4fdd-406c-8c2c-88fca145cd19\")) {                    Plotly.newPlot(                        \"12305376-4fdd-406c-8c2c-88fca145cd19\",                        [{\"alignmentgroup\":\"True\",\"hovertemplate\":\"Word Embedding Model=glove twitter dim=25<br>query_name=%{x}<br>value=%{y}<extra></extra>\",\"legendgroup\":\"glove twitter dim=25\",\"marker\":{\"color\":\"#636efa\",\"pattern\":{\"shape\":\"\"}},\"name\":\"glove twitter dim=25\",\"offsetgroup\":\"glove twitter dim=25\",\"orientation\":\"v\",\"showlegend\":true,\"textposition\":\"auto\",\"x\":[\"WEAT: Gender Queries average of abs values score\"],\"xaxis\":\"x\",\"y\":[0.172642297615918],\"yaxis\":\"y\",\"type\":\"bar\"},{\"alignmentgroup\":\"True\",\"hovertemplate\":\"Word Embedding Model=glove twitter dim=50<br>query_name=%{x}<br>value=%{y}<extra></extra>\",\"legendgroup\":\"glove twitter dim=50\",\"marker\":{\"color\":\"#EF553B\",\"pattern\":{\"shape\":\"\"}},\"name\":\"glove twitter dim=50\",\"offsetgroup\":\"glove twitter dim=50\",\"orientation\":\"v\",\"showlegend\":true,\"textposition\":\"auto\",\"x\":[\"WEAT: Gender Queries average of abs values score\"],\"xaxis\":\"x\",\"y\":[0.25200749472908984],\"yaxis\":\"y\",\"type\":\"bar\"},{\"alignmentgroup\":\"True\",\"hovertemplate\":\"Word Embedding Model=glove twitter dim=100<br>query_name=%{x}<br>value=%{y}<extra></extra>\",\"legendgroup\":\"glove twitter dim=100\",\"marker\":{\"color\":\"#00cc96\",\"pattern\":{\"shape\":\"\"}},\"name\":\"glove twitter dim=100\",\"offsetgroup\":\"glove twitter dim=100\",\"orientation\":\"v\",\"showlegend\":true,\"textposition\":\"auto\",\"x\":[\"WEAT: Gender Queries average of abs values score\"],\"xaxis\":\"x\",\"y\":[0.21359143173322082],\"yaxis\":\"y\",\"type\":\"bar\"}],                        {\"template\":{\"data\":{\"histogram2dcontour\":[{\"type\":\"histogram2dcontour\",\"colorbar\":{\"outlinewidth\":0,\"ticks\":\"\"},\"colorscale\":[[0.0,\"#0d0887\"],[0.1111111111111111,\"#46039f\"],[0.2222222222222222,\"#7201a8\"],[0.3333333333333333,\"#9c179e\"],[0.4444444444444444,\"#bd3786\"],[0.5555555555555556,\"#d8576b\"],[0.6666666666666666,\"#ed7953\"],[0.7777777777777778,\"#fb9f3a\"],[0.8888888888888888,\"#fdca26\"],[1.0,\"#f0f921\"]]}],\"choropleth\":[{\"type\":\"choropleth\",\"colorbar\":{\"outlinewidth\":0,\"ticks\":\"\"}}],\"histogram2d\":[{\"type\":\"histogram2d\",\"colorbar\":{\"outlinewidth\":0,\"ticks\":\"\"},\"colorscale\":[[0.0,\"#0d0887\"],[0.1111111111111111,\"#46039f\"],[0.2222222222222222,\"#7201a8\"],[0.3333333333333333,\"#9c179e\"],[0.4444444444444444,\"#bd3786\"],[0.5555555555555556,\"#d8576b\"],[0.6666666666666666,\"#ed7953\"],[0.7777777777777778,\"#fb9f3a\"],[0.8888888888888888,\"#fdca26\"],[1.0,\"#f0f921\"]]}],\"heatmap\":[{\"type\":\"heatmap\",\"colorbar\":{\"outlinewidth\":0,\"ticks\":\"\"},\"colorscale\":[[0.0,\"#0d0887\"],[0.1111111111111111,\"#46039f\"],[0.2222222222222222,\"#7201a8\"],[0.3333333333333333,\"#9c179e\"],[0.4444444444444444,\"#bd3786\"],[0.5555555555555556,\"#d8576b\"],[0.6666666666666666,\"#ed7953\"],[0.7777777777777778,\"#fb9f3a\"],[0.8888888888888888,\"#fdca26\"],[1.0,\"#f0f921\"]]}],\"heatmapgl\":[{\"type\":\"heatmapgl\",\"colorbar\":{\"outlinewidth\":0,\"ticks\":\"\"},\"colorscale\":[[0.0,\"#0d0887\"],[0.1111111111111111,\"#46039f\"],[0.2222222222222222,\"#7201a8\"],[0.3333333333333333,\"#9c179e\"],[0.4444444444444444,\"#bd3786\"],[0.5555555555555556,\"#d8576b\"],[0.6666666666666666,\"#ed7953\"],[0.7777777777777778,\"#fb9f3a\"],[0.8888888888888888,\"#fdca26\"],[1.0,\"#f0f921\"]]}],\"contourcarpet\":[{\"type\":\"contourcarpet\",\"colorbar\":{\"outlinewidth\":0,\"ticks\":\"\"}}],\"contour\":[{\"type\":\"contour\",\"colorbar\":{\"outlinewidth\":0,\"ticks\":\"\"},\"colorscale\":[[0.0,\"#0d0887\"],[0.1111111111111111,\"#46039f\"],[0.2222222222222222,\"#7201a8\"],[0.3333333333333333,\"#9c179e\"],[0.4444444444444444,\"#bd3786\"],[0.5555555555555556,\"#d8576b\"],[0.6666666666666666,\"#ed7953\"],[0.7777777777777778,\"#fb9f3a\"],[0.8888888888888888,\"#fdca26\"],[1.0,\"#f0f921\"]]}],\"surface\":[{\"type\":\"surface\",\"colorbar\":{\"outlinewidth\":0,\"ticks\":\"\"},\"colorscale\":[[0.0,\"#0d0887\"],[0.1111111111111111,\"#46039f\"],[0.2222222222222222,\"#7201a8\"],[0.3333333333333333,\"#9c179e\"],[0.4444444444444444,\"#bd3786\"],[0.5555555555555556,\"#d8576b\"],[0.6666666666666666,\"#ed7953\"],[0.7777777777777778,\"#fb9f3a\"],[0.8888888888888888,\"#fdca26\"],[1.0,\"#f0f921\"]]}],\"mesh3d\":[{\"type\":\"mesh3d\",\"colorbar\":{\"outlinewidth\":0,\"ticks\":\"\"}}],\"scatter\":[{\"fillpattern\":{\"fillmode\":\"overlay\",\"size\":10,\"solidity\":0.2},\"type\":\"scatter\"}],\"parcoords\":[{\"type\":\"parcoords\",\"line\":{\"colorbar\":{\"outlinewidth\":0,\"ticks\":\"\"}}}],\"scatterpolargl\":[{\"type\":\"scatterpolargl\",\"marker\":{\"colorbar\":{\"outlinewidth\":0,\"ticks\":\"\"}}}],\"bar\":[{\"error_x\":{\"color\":\"#2a3f5f\"},\"error_y\":{\"color\":\"#2a3f5f\"},\"marker\":{\"line\":{\"color\":\"#E5ECF6\",\"width\":0.5},\"pattern\":{\"fillmode\":\"overlay\",\"size\":10,\"solidity\":0.2}},\"type\":\"bar\"}],\"scattergeo\":[{\"type\":\"scattergeo\",\"marker\":{\"colorbar\":{\"outlinewidth\":0,\"ticks\":\"\"}}}],\"scatterpolar\":[{\"type\":\"scatterpolar\",\"marker\":{\"colorbar\":{\"outlinewidth\":0,\"ticks\":\"\"}}}],\"histogram\":[{\"marker\":{\"pattern\":{\"fillmode\":\"overlay\",\"size\":10,\"solidity\":0.2}},\"type\":\"histogram\"}],\"scattergl\":[{\"type\":\"scattergl\",\"marker\":{\"colorbar\":{\"outlinewidth\":0,\"ticks\":\"\"}}}],\"scatter3d\":[{\"type\":\"scatter3d\",\"line\":{\"colorbar\":{\"outlinewidth\":0,\"ticks\":\"\"}},\"marker\":{\"colorbar\":{\"outlinewidth\":0,\"ticks\":\"\"}}}],\"scattermapbox\":[{\"type\":\"scattermapbox\",\"marker\":{\"colorbar\":{\"outlinewidth\":0,\"ticks\":\"\"}}}],\"scatterternary\":[{\"type\":\"scatterternary\",\"marker\":{\"colorbar\":{\"outlinewidth\":0,\"ticks\":\"\"}}}],\"scattercarpet\":[{\"type\":\"scattercarpet\",\"marker\":{\"colorbar\":{\"outlinewidth\":0,\"ticks\":\"\"}}}],\"carpet\":[{\"aaxis\":{\"endlinecolor\":\"#2a3f5f\",\"gridcolor\":\"white\",\"linecolor\":\"white\",\"minorgridcolor\":\"white\",\"startlinecolor\":\"#2a3f5f\"},\"baxis\":{\"endlinecolor\":\"#2a3f5f\",\"gridcolor\":\"white\",\"linecolor\":\"white\",\"minorgridcolor\":\"white\",\"startlinecolor\":\"#2a3f5f\"},\"type\":\"carpet\"}],\"table\":[{\"cells\":{\"fill\":{\"color\":\"#EBF0F8\"},\"line\":{\"color\":\"white\"}},\"header\":{\"fill\":{\"color\":\"#C8D4E3\"},\"line\":{\"color\":\"white\"}},\"type\":\"table\"}],\"barpolar\":[{\"marker\":{\"line\":{\"color\":\"#E5ECF6\",\"width\":0.5},\"pattern\":{\"fillmode\":\"overlay\",\"size\":10,\"solidity\":0.2}},\"type\":\"barpolar\"}],\"pie\":[{\"automargin\":true,\"type\":\"pie\"}]},\"layout\":{\"autotypenumbers\":\"strict\",\"colorway\":[\"#636efa\",\"#EF553B\",\"#00cc96\",\"#ab63fa\",\"#FFA15A\",\"#19d3f3\",\"#FF6692\",\"#B6E880\",\"#FF97FF\",\"#FECB52\"],\"font\":{\"color\":\"#2a3f5f\"},\"hovermode\":\"closest\",\"hoverlabel\":{\"align\":\"left\"},\"paper_bgcolor\":\"white\",\"plot_bgcolor\":\"#E5ECF6\",\"polar\":{\"bgcolor\":\"#E5ECF6\",\"angularaxis\":{\"gridcolor\":\"white\",\"linecolor\":\"white\",\"ticks\":\"\"},\"radialaxis\":{\"gridcolor\":\"white\",\"linecolor\":\"white\",\"ticks\":\"\"}},\"ternary\":{\"bgcolor\":\"#E5ECF6\",\"aaxis\":{\"gridcolor\":\"white\",\"linecolor\":\"white\",\"ticks\":\"\"},\"baxis\":{\"gridcolor\":\"white\",\"linecolor\":\"white\",\"ticks\":\"\"},\"caxis\":{\"gridcolor\":\"white\",\"linecolor\":\"white\",\"ticks\":\"\"}},\"coloraxis\":{\"colorbar\":{\"outlinewidth\":0,\"ticks\":\"\"}},\"colorscale\":{\"sequential\":[[0.0,\"#0d0887\"],[0.1111111111111111,\"#46039f\"],[0.2222222222222222,\"#7201a8\"],[0.3333333333333333,\"#9c179e\"],[0.4444444444444444,\"#bd3786\"],[0.5555555555555556,\"#d8576b\"],[0.6666666666666666,\"#ed7953\"],[0.7777777777777778,\"#fb9f3a\"],[0.8888888888888888,\"#fdca26\"],[1.0,\"#f0f921\"]],\"sequentialminus\":[[0.0,\"#0d0887\"],[0.1111111111111111,\"#46039f\"],[0.2222222222222222,\"#7201a8\"],[0.3333333333333333,\"#9c179e\"],[0.4444444444444444,\"#bd3786\"],[0.5555555555555556,\"#d8576b\"],[0.6666666666666666,\"#ed7953\"],[0.7777777777777778,\"#fb9f3a\"],[0.8888888888888888,\"#fdca26\"],[1.0,\"#f0f921\"]],\"diverging\":[[0,\"#8e0152\"],[0.1,\"#c51b7d\"],[0.2,\"#de77ae\"],[0.3,\"#f1b6da\"],[0.4,\"#fde0ef\"],[0.5,\"#f7f7f7\"],[0.6,\"#e6f5d0\"],[0.7,\"#b8e186\"],[0.8,\"#7fbc41\"],[0.9,\"#4d9221\"],[1,\"#276419\"]]},\"xaxis\":{\"gridcolor\":\"white\",\"linecolor\":\"white\",\"ticks\":\"\",\"title\":{\"standoff\":15},\"zerolinecolor\":\"white\",\"automargin\":true,\"zerolinewidth\":2},\"yaxis\":{\"gridcolor\":\"white\",\"linecolor\":\"white\",\"ticks\":\"\",\"title\":{\"standoff\":15},\"zerolinecolor\":\"white\",\"automargin\":true,\"zerolinewidth\":2},\"scene\":{\"xaxis\":{\"backgroundcolor\":\"#E5ECF6\",\"gridcolor\":\"white\",\"linecolor\":\"white\",\"showbackground\":true,\"ticks\":\"\",\"zerolinecolor\":\"white\",\"gridwidth\":2},\"yaxis\":{\"backgroundcolor\":\"#E5ECF6\",\"gridcolor\":\"white\",\"linecolor\":\"white\",\"showbackground\":true,\"ticks\":\"\",\"zerolinecolor\":\"white\",\"gridwidth\":2},\"zaxis\":{\"backgroundcolor\":\"#E5ECF6\",\"gridcolor\":\"white\",\"linecolor\":\"white\",\"showbackground\":true,\"ticks\":\"\",\"zerolinecolor\":\"white\",\"gridwidth\":2}},\"shapedefaults\":{\"line\":{\"color\":\"#2a3f5f\"}},\"annotationdefaults\":{\"arrowcolor\":\"#2a3f5f\",\"arrowhead\":0,\"arrowwidth\":1},\"geo\":{\"bgcolor\":\"white\",\"landcolor\":\"#E5ECF6\",\"subunitcolor\":\"white\",\"showland\":true,\"showlakes\":true,\"lakecolor\":\"white\"},\"title\":{\"x\":0.05},\"mapbox\":{\"style\":\"light\"}}},\"xaxis\":{\"anchor\":\"y\",\"domain\":[0.0,1.0],\"title\":{\"text\":\"Query\"}},\"yaxis\":{\"anchor\":\"x\",\"domain\":[0.0,1.0],\"title\":{\"text\":\"Bias measure\"}},\"legend\":{\"title\":{\"text\":\"Word Embedding Model\"},\"tracegroupgap\":0},\"margin\":{\"t\":60},\"barmode\":\"group\"},                        {\"responsive\": true}                    ).then(function(){\n",
       "                            \n",
       "var gd = document.getElementById('12305376-4fdd-406c-8c2c-88fca145cd19');\n",
       "var x = new MutationObserver(function (mutations, observer) {{\n",
       "        var display = window.getComputedStyle(gd).display;\n",
       "        if (!display || display === 'none') {{\n",
       "            console.log([gd, 'removed!']);\n",
       "            Plotly.purge(gd);\n",
       "            observer.disconnect();\n",
       "        }}\n",
       "}});\n",
       "\n",
       "// Listen for the removal of the full notebook cells\n",
       "var notebookContainer = gd.closest('#notebook-container');\n",
       "if (notebookContainer) {{\n",
       "    x.observe(notebookContainer, {childList: true});\n",
       "}}\n",
       "\n",
       "// Listen for the clearing of the current output cell\n",
       "var outputEl = gd.closest('.output');\n",
       "if (outputEl) {{\n",
       "    x.observe(outputEl, {childList: true});\n",
       "}}\n",
       "\n",
       "                        })                };                });            </script>        </div>"
      ]
     },
     "metadata": {},
     "output_type": "display_data"
    }
   ],
   "source": [
    "fig = plot_queries_results(WEAT_gender_results_only_agg)\n",
    "fig.show()\n"
   ]
  },
  {
   "cell_type": "raw",
   "metadata": {},
   "source": [
    "Model Ranking\n",
    "-------------\n",
    "\n",
    "It may be desirable to obtain an overall view of the bias by model using\n",
    "different metrics or bias criteria. While the aggregate values can be\n",
    "compared directly, two problems are likely to be encountered:\n",
    "\n",
    "1.  One type of bias criterion can dominate the other because of\n",
    "    significant differences in magnitude.\n",
    "\n",
    "2.  Different metrics can operate on different scales, which makes them\n",
    "    difficult to compare.\n",
    "\n",
    "To show these problems, suppose we have:\n",
    "\n",
    "-   Two sets of queries: one that explores gender biases and\n",
    "    another that explores ethnicity biases.\n",
    "-   Three ``Glove`` models of 25, 50 and 100 dimensions trained on the same\n",
    "    twitter dataset.\n",
    "\n",
    "Then we run :func:`~wefe.utils.run_queries` on this set of model-queries using \n",
    ":class:`~wefe.metrics.WEAT.WEAT`, and to corroborate the results obtained, we also use \n",
    "Relative Negative Sentiment Bias (:class:`~wefe.metrics.RNSB.RNSB`).\n",
    "\n",
    "1.  The first problem occurs when the bias scores obtained from one set\n",
    "    of queries are much higher than those from the other set, even when\n",
    "    the same metric is used.\n",
    "\n",
    "When executing :func:`~wefe.utils.run_queries` with the gender and ethnicity queries on\n",
    "the models described above, the results obtained are as follows:\n"
   ]
  },
  {
   "cell_type": "markdown",
   "metadata": {},
   "source": [
    "| model_name                             |           WEAT: Gender Queries average of abs values score              |           WEAT: Ethnicity Queries average of abs values score          |\n",
    "|----------------------------------------|-------------------------------------------------------------------------|------------------------------------------------------------------------|\n",
    "|           glove twitter dim=25         |                                     0.210556                            |                                     2.64632                            |\n",
    "|           glove twitter dim=50         |                                     0.292373                            |                                     1.87431                            |\n",
    "|           glove twitter dim=100        |                                     0.225116                            |                                     1.78469                            |"
   ]
  },
  {
   "cell_type": "raw",
   "metadata": {},
   "source": [
    "As can be seen, the results of ethnicity bias are much greater than\n",
    "those of gender.\n",
    "\n",
    "2.  The second problem is when different metrics return results on\n",
    "    different scales of magnitude.\n",
    "\n",
    "When executing :func:`~wefe.utils.run_queries` with the gender queries and models\n",
    "described above using both WEAT and RNSB, the results obtained are as\n",
    "follows:"
   ]
  },
  {
   "cell_type": "markdown",
   "metadata": {},
   "source": [
    "| model_name                             |           WEAT: Gender Queries average of abs values score              |           RNSB: Gender Queries average of abs values score              |\n",
    "|----------------------------------------|-------------------------------------------------------------------------|-------------------------------------------------------------------------|\n",
    "|           glove twitter dim=25         |                                     0.210556                            |                                     0.032673                            |\n",
    "|           glove twitter dim=50         |                                     0.292373                            |                                     0.049429                            |\n",
    "|           glove twitter dim=100        |                                     0.225116                            |                                     0.0312772                           |"
   ]
  },
  {
   "cell_type": "raw",
   "metadata": {},
   "source": [
    "\n",
    "We can see differences between the results of both metrics of an order\n",
    "of magnitude.\n",
    "\n",
    "One solution to this problem is to create **rankings**. Rankings focus on the relative\n",
    "differences reported by the metrics (for different models) instead of focusing on the\n",
    "absolute values.\n",
    "\n",
    "The following guide show how to create rankings that evaluate\n",
    "gender bias and ethnicity.\n"
   ]
  },
  {
   "cell_type": "raw",
   "metadata": {},
   "source": [
    "Gender Bias Model Ranking\n",
    "~~~~~~~~~~~~~~~~~~~~~~~~~"
   ]
  },
  {
   "cell_type": "code",
   "execution_count": 23,
   "metadata": {},
   "outputs": [],
   "source": [
    "# define the queries\n",
    "gender_query_1 = Query(\n",
    "    [word_sets[\"male_terms\"], word_sets[\"female_terms\"]],\n",
    "    [word_sets[\"career\"], word_sets[\"family\"]],\n",
    "    [\"Male terms\", \"Female terms\"],\n",
    "    [\"Career\", \"Family\"],\n",
    ")\n",
    "gender_query_2 = Query(\n",
    "    [word_sets[\"male_terms\"], word_sets[\"female_terms\"]],\n",
    "    [word_sets[\"science\"], word_sets[\"arts\"]],\n",
    "    [\"Male terms\", \"Female terms\"],\n",
    "    [\"Science\", \"Arts\"],\n",
    ")\n",
    "gender_query_3 = Query(\n",
    "    [word_sets[\"male_terms\"], word_sets[\"female_terms\"]],\n",
    "    [word_sets[\"math\"], word_sets[\"arts_2\"]],\n",
    "    [\"Male terms\", \"Female terms\"],\n",
    "    [\"Math\", \"Arts\"],\n",
    ")\n",
    "\n",
    "gender_queries = [gender_query_1, gender_query_2, gender_query_3]\n",
    "\n",
    "# run the queries using WEAT\n",
    "WEAT_gender_results = run_queries(\n",
    "    WEAT,\n",
    "    gender_queries,\n",
    "    models,\n",
    "    metric_params={\"preprocessors\": [{\"lowercase\": True}]},\n",
    "    aggregate_results=True,\n",
    "    return_only_aggregation=True,\n",
    "    queries_set_name=\"Gender Queries\",\n",
    ")\n",
    "\n",
    "# run the queries using WEAT effect size\n",
    "WEAT_EZ_gender_results = run_queries(\n",
    "    WEAT,\n",
    "    gender_queries,\n",
    "    models,\n",
    "    metric_params={\"preprocessors\": [{\"lowercase\": True}], \"return_effect_size\": True,},\n",
    "    aggregate_results=True,\n",
    "    return_only_aggregation=True,\n",
    "    queries_set_name=\"Gender Queries\",\n",
    ")\n",
    "\n",
    "# run the queries using RNSB\n",
    "RNSB_gender_results = run_queries(\n",
    "    RNSB,\n",
    "    gender_queries,\n",
    "    models,\n",
    "    metric_params={\"preprocessors\": [{\"lowercase\": True}]},\n",
    "    aggregate_results=True,\n",
    "    return_only_aggregation=True,\n",
    "    queries_set_name=\"Gender Queries\",\n",
    ")"
   ]
  },
  {
   "cell_type": "raw",
   "metadata": {},
   "source": [
    "The rankings can be calculated by means of the :func:`~wefe.utils.create_ranking`\n",
    "function. This function receives as input results from running\n",
    ":func:`~wefe.utils.run_queries` and assumes that the last column contains the aggregated\n",
    "values."
   ]
  },
  {
   "cell_type": "code",
   "execution_count": 24,
   "metadata": {},
   "outputs": [
    {
     "data": {
      "text/html": [
       "<div>\n",
       "<style scoped>\n",
       "    .dataframe tbody tr th:only-of-type {\n",
       "        vertical-align: middle;\n",
       "    }\n",
       "\n",
       "    .dataframe tbody tr th {\n",
       "        vertical-align: top;\n",
       "    }\n",
       "\n",
       "    .dataframe thead th {\n",
       "        text-align: right;\n",
       "    }\n",
       "</style>\n",
       "<table border=\"1\" class=\"dataframe\">\n",
       "  <thead>\n",
       "    <tr style=\"text-align: right;\">\n",
       "      <th></th>\n",
       "      <th>WEAT: Gender Queries average of abs values score (1)</th>\n",
       "      <th>WEAT: Gender Queries average of abs values score (2)</th>\n",
       "      <th>RNSB: Gender Queries average of abs values score</th>\n",
       "    </tr>\n",
       "    <tr>\n",
       "      <th>model_name</th>\n",
       "      <th></th>\n",
       "      <th></th>\n",
       "      <th></th>\n",
       "    </tr>\n",
       "  </thead>\n",
       "  <tbody>\n",
       "    <tr>\n",
       "      <th>glove twitter dim=25</th>\n",
       "      <td>1.0</td>\n",
       "      <td>1.0</td>\n",
       "      <td>3.0</td>\n",
       "    </tr>\n",
       "    <tr>\n",
       "      <th>glove twitter dim=50</th>\n",
       "      <td>3.0</td>\n",
       "      <td>2.0</td>\n",
       "      <td>2.0</td>\n",
       "    </tr>\n",
       "    <tr>\n",
       "      <th>glove twitter dim=100</th>\n",
       "      <td>2.0</td>\n",
       "      <td>3.0</td>\n",
       "      <td>1.0</td>\n",
       "    </tr>\n",
       "  </tbody>\n",
       "</table>\n",
       "</div>"
      ],
      "text/plain": [
       "                       WEAT: Gender Queries average of abs values score (1)  \\\n",
       "model_name                                                                    \n",
       "glove twitter dim=25                                                 1.0      \n",
       "glove twitter dim=50                                                 3.0      \n",
       "glove twitter dim=100                                                2.0      \n",
       "\n",
       "                       WEAT: Gender Queries average of abs values score (2)  \\\n",
       "model_name                                                                    \n",
       "glove twitter dim=25                                                 1.0      \n",
       "glove twitter dim=50                                                 2.0      \n",
       "glove twitter dim=100                                                3.0      \n",
       "\n",
       "                       RNSB: Gender Queries average of abs values score  \n",
       "model_name                                                               \n",
       "glove twitter dim=25                                                3.0  \n",
       "glove twitter dim=50                                                2.0  \n",
       "glove twitter dim=100                                               1.0  "
      ]
     },
     "execution_count": 24,
     "metadata": {},
     "output_type": "execute_result"
    }
   ],
   "source": [
    "from wefe.utils import create_ranking\n",
    "\n",
    "# create the ranking\n",
    "gender_ranking = create_ranking(\n",
    "    [WEAT_gender_results, WEAT_EZ_gender_results, RNSB_gender_results]\n",
    ")\n",
    "\n",
    "gender_ranking"
   ]
  },
  {
   "cell_type": "raw",
   "metadata": {},
   "source": [
    "Ethnicity Bias Model Ranking\n",
    "~~~~~~~~~~~~~~~~~~~~~~~~~~~~"
   ]
  },
  {
   "cell_type": "code",
   "execution_count": 25,
   "metadata": {},
   "outputs": [],
   "source": [
    "\n",
    "# define the queries\n",
    "ethnicity_query_1 = Query(\n",
    "    [word_sets[\"european_american_names_5\"], word_sets[\"african_american_names_5\"]],\n",
    "    [word_sets[\"pleasant_5\"], word_sets[\"unpleasant_5\"]],\n",
    "    [\"European Names\", \"African Names\"],\n",
    "    [\"Pleasant\", \"Unpleasant\"],\n",
    ")\n",
    "\n",
    "ethnicity_query_2 = Query(\n",
    "    [word_sets[\"european_american_names_7\"], word_sets[\"african_american_names_7\"]],\n",
    "    [word_sets[\"pleasant_9\"], word_sets[\"unpleasant_9\"]],\n",
    "    [\"European Names\", \"African Names\"],\n",
    "    [\"Pleasant 2\", \"Unpleasant 2\"],\n",
    ")\n",
    "\n",
    "ethnicity_queries = [ethnicity_query_1, ethnicity_query_2]\n",
    "\n",
    "# run the queries using WEAT\n",
    "WEAT_ethnicity_results = run_queries(\n",
    "    WEAT,\n",
    "    ethnicity_queries,\n",
    "    models,\n",
    "    metric_params={\"preprocessors\": [{\"lowercase\": True}]},\n",
    "    aggregate_results=True,\n",
    "    return_only_aggregation=True,\n",
    "    queries_set_name=\"Ethnicity Queries\",\n",
    ")\n",
    "\n",
    "# run the queries using WEAT effect size\n",
    "WEAT_EZ_ethnicity_results = run_queries(\n",
    "    WEAT,\n",
    "    ethnicity_queries,\n",
    "    models,\n",
    "    metric_params={\"preprocessors\": [{\"lowercase\": True}], \"return_effect_size\": True,},\n",
    "    aggregate_results=True,\n",
    "    return_only_aggregation=True,\n",
    "    queries_set_name=\"Ethnicity Queries\",\n",
    ")\n",
    "\n",
    "# run the queries using RNSB\n",
    "RNSB_ethnicity_results = run_queries(\n",
    "    RNSB,\n",
    "    ethnicity_queries,\n",
    "    models,\n",
    "    metric_params={\"preprocessors\": [{\"lowercase\": True}]},\n",
    "    aggregate_results=True,\n",
    "    return_only_aggregation=True,\n",
    "    queries_set_name=\"Ethnicity Queries\",\n",
    ")\n"
   ]
  },
  {
   "cell_type": "code",
   "execution_count": 26,
   "metadata": {},
   "outputs": [
    {
     "data": {
      "text/html": [
       "<div>\n",
       "<style scoped>\n",
       "    .dataframe tbody tr th:only-of-type {\n",
       "        vertical-align: middle;\n",
       "    }\n",
       "\n",
       "    .dataframe tbody tr th {\n",
       "        vertical-align: top;\n",
       "    }\n",
       "\n",
       "    .dataframe thead th {\n",
       "        text-align: right;\n",
       "    }\n",
       "</style>\n",
       "<table border=\"1\" class=\"dataframe\">\n",
       "  <thead>\n",
       "    <tr style=\"text-align: right;\">\n",
       "      <th></th>\n",
       "      <th>WEAT: Ethnicity Queries average of abs values score</th>\n",
       "      <th>WEAT: Gender Queries average of abs values score</th>\n",
       "      <th>RNSB: Ethnicity Queries average of abs values score</th>\n",
       "    </tr>\n",
       "    <tr>\n",
       "      <th>model_name</th>\n",
       "      <th></th>\n",
       "      <th></th>\n",
       "      <th></th>\n",
       "    </tr>\n",
       "  </thead>\n",
       "  <tbody>\n",
       "    <tr>\n",
       "      <th>glove twitter dim=25</th>\n",
       "      <td>3.0</td>\n",
       "      <td>1.0</td>\n",
       "      <td>3.0</td>\n",
       "    </tr>\n",
       "    <tr>\n",
       "      <th>glove twitter dim=50</th>\n",
       "      <td>2.0</td>\n",
       "      <td>2.0</td>\n",
       "      <td>1.0</td>\n",
       "    </tr>\n",
       "    <tr>\n",
       "      <th>glove twitter dim=100</th>\n",
       "      <td>1.0</td>\n",
       "      <td>3.0</td>\n",
       "      <td>2.0</td>\n",
       "    </tr>\n",
       "  </tbody>\n",
       "</table>\n",
       "</div>"
      ],
      "text/plain": [
       "                       WEAT: Ethnicity Queries average of abs values score  \\\n",
       "model_name                                                                   \n",
       "glove twitter dim=25                                                 3.0     \n",
       "glove twitter dim=50                                                 2.0     \n",
       "glove twitter dim=100                                                1.0     \n",
       "\n",
       "                       WEAT: Gender Queries average of abs values score  \\\n",
       "model_name                                                                \n",
       "glove twitter dim=25                                                1.0   \n",
       "glove twitter dim=50                                                2.0   \n",
       "glove twitter dim=100                                               3.0   \n",
       "\n",
       "                       RNSB: Ethnicity Queries average of abs values score  \n",
       "model_name                                                                  \n",
       "glove twitter dim=25                                                 3.0    \n",
       "glove twitter dim=50                                                 1.0    \n",
       "glove twitter dim=100                                                2.0    "
      ]
     },
     "execution_count": 26,
     "metadata": {},
     "output_type": "execute_result"
    }
   ],
   "source": [
    "# create the ranking\n",
    "ethnicity_ranking = create_ranking(\n",
    "    [WEAT_ethnicity_results, WEAT_EZ_gender_results, RNSB_ethnicity_results]\n",
    ")\n",
    "\n",
    "ethnicity_ranking\n"
   ]
  },
  {
   "cell_type": "raw",
   "metadata": {},
   "source": [
    "Plotting the rankings\n",
    "~~~~~~~~~~~~~~~~~~~~~\n",
    "\n",
    "It is possible to graph the rankings in barplots using the\n",
    ":ref:`~wefe.utils.plot_ranking` function. The generated figure shows the accumulated\n",
    "rankings for each embedding model. Each bar represents the sum of the\n",
    "rankings obtained by each embedding. Each color within a bar represents\n",
    "a different criterion-metric ranking."
   ]
  },
  {
   "cell_type": "code",
   "execution_count": 27,
   "metadata": {},
   "outputs": [
    {
     "data": {
      "text/html": [
       "<div>                            <div id=\"a7a57996-69e5-406a-a838-fcc457ec5948\" class=\"plotly-graph-div\" style=\"height:525px; width:100%;\"></div>            <script type=\"text/javascript\">                require([\"plotly\"], function(Plotly) {                    window.PLOTLYENV=window.PLOTLYENV || {};                                    if (document.getElementById(\"a7a57996-69e5-406a-a838-fcc457ec5948\")) {                    Plotly.newPlot(                        \"a7a57996-69e5-406a-a838-fcc457ec5948\",                        [{\"alignmentgroup\":\"True\",\"hovertemplate\":\"Metric=WEAT: Gender Queries average of abs values score (1)<br>Ranking=%{x}<br>Embedding model=%{y}<extra></extra>\",\"legendgroup\":\"WEAT: Gender Queries average of abs values score (1)\",\"marker\":{\"color\":\"#636efa\",\"pattern\":{\"shape\":\"\"}},\"name\":\"WEAT: Gender Queries average of abs values score (1)\",\"offsetgroup\":\"WEAT: Gender Queries average of abs values score (1)\",\"orientation\":\"h\",\"showlegend\":true,\"textposition\":\"auto\",\"x\":[1.0,3.0,2.0],\"xaxis\":\"x\",\"y\":[\"glove twitter dim=25\",\"glove twitter dim=50\",\"glove twitter dim=100\"],\"yaxis\":\"y\",\"type\":\"bar\"},{\"alignmentgroup\":\"True\",\"hovertemplate\":\"Metric=WEAT: Gender Queries average of abs values score (2)<br>Ranking=%{x}<br>Embedding model=%{y}<extra></extra>\",\"legendgroup\":\"WEAT: Gender Queries average of abs values score (2)\",\"marker\":{\"color\":\"#EF553B\",\"pattern\":{\"shape\":\"\"}},\"name\":\"WEAT: Gender Queries average of abs values score (2)\",\"offsetgroup\":\"WEAT: Gender Queries average of abs values score (2)\",\"orientation\":\"h\",\"showlegend\":true,\"textposition\":\"auto\",\"x\":[1.0,2.0,3.0],\"xaxis\":\"x\",\"y\":[\"glove twitter dim=25\",\"glove twitter dim=50\",\"glove twitter dim=100\"],\"yaxis\":\"y\",\"type\":\"bar\"},{\"alignmentgroup\":\"True\",\"hovertemplate\":\"Metric=RNSB: Gender Queries average of abs values score<br>Ranking=%{x}<br>Embedding model=%{y}<extra></extra>\",\"legendgroup\":\"RNSB: Gender Queries average of abs values score\",\"marker\":{\"color\":\"#00cc96\",\"pattern\":{\"shape\":\"\"}},\"name\":\"RNSB: Gender Queries average of abs values score\",\"offsetgroup\":\"RNSB: Gender Queries average of abs values score\",\"orientation\":\"h\",\"showlegend\":true,\"textposition\":\"auto\",\"x\":[3.0,2.0,1.0],\"xaxis\":\"x\",\"y\":[\"glove twitter dim=25\",\"glove twitter dim=50\",\"glove twitter dim=100\"],\"yaxis\":\"y\",\"type\":\"bar\"}],                        {\"template\":{\"data\":{\"histogram2dcontour\":[{\"type\":\"histogram2dcontour\",\"colorbar\":{\"outlinewidth\":0,\"ticks\":\"\"},\"colorscale\":[[0.0,\"#0d0887\"],[0.1111111111111111,\"#46039f\"],[0.2222222222222222,\"#7201a8\"],[0.3333333333333333,\"#9c179e\"],[0.4444444444444444,\"#bd3786\"],[0.5555555555555556,\"#d8576b\"],[0.6666666666666666,\"#ed7953\"],[0.7777777777777778,\"#fb9f3a\"],[0.8888888888888888,\"#fdca26\"],[1.0,\"#f0f921\"]]}],\"choropleth\":[{\"type\":\"choropleth\",\"colorbar\":{\"outlinewidth\":0,\"ticks\":\"\"}}],\"histogram2d\":[{\"type\":\"histogram2d\",\"colorbar\":{\"outlinewidth\":0,\"ticks\":\"\"},\"colorscale\":[[0.0,\"#0d0887\"],[0.1111111111111111,\"#46039f\"],[0.2222222222222222,\"#7201a8\"],[0.3333333333333333,\"#9c179e\"],[0.4444444444444444,\"#bd3786\"],[0.5555555555555556,\"#d8576b\"],[0.6666666666666666,\"#ed7953\"],[0.7777777777777778,\"#fb9f3a\"],[0.8888888888888888,\"#fdca26\"],[1.0,\"#f0f921\"]]}],\"heatmap\":[{\"type\":\"heatmap\",\"colorbar\":{\"outlinewidth\":0,\"ticks\":\"\"},\"colorscale\":[[0.0,\"#0d0887\"],[0.1111111111111111,\"#46039f\"],[0.2222222222222222,\"#7201a8\"],[0.3333333333333333,\"#9c179e\"],[0.4444444444444444,\"#bd3786\"],[0.5555555555555556,\"#d8576b\"],[0.6666666666666666,\"#ed7953\"],[0.7777777777777778,\"#fb9f3a\"],[0.8888888888888888,\"#fdca26\"],[1.0,\"#f0f921\"]]}],\"heatmapgl\":[{\"type\":\"heatmapgl\",\"colorbar\":{\"outlinewidth\":0,\"ticks\":\"\"},\"colorscale\":[[0.0,\"#0d0887\"],[0.1111111111111111,\"#46039f\"],[0.2222222222222222,\"#7201a8\"],[0.3333333333333333,\"#9c179e\"],[0.4444444444444444,\"#bd3786\"],[0.5555555555555556,\"#d8576b\"],[0.6666666666666666,\"#ed7953\"],[0.7777777777777778,\"#fb9f3a\"],[0.8888888888888888,\"#fdca26\"],[1.0,\"#f0f921\"]]}],\"contourcarpet\":[{\"type\":\"contourcarpet\",\"colorbar\":{\"outlinewidth\":0,\"ticks\":\"\"}}],\"contour\":[{\"type\":\"contour\",\"colorbar\":{\"outlinewidth\":0,\"ticks\":\"\"},\"colorscale\":[[0.0,\"#0d0887\"],[0.1111111111111111,\"#46039f\"],[0.2222222222222222,\"#7201a8\"],[0.3333333333333333,\"#9c179e\"],[0.4444444444444444,\"#bd3786\"],[0.5555555555555556,\"#d8576b\"],[0.6666666666666666,\"#ed7953\"],[0.7777777777777778,\"#fb9f3a\"],[0.8888888888888888,\"#fdca26\"],[1.0,\"#f0f921\"]]}],\"surface\":[{\"type\":\"surface\",\"colorbar\":{\"outlinewidth\":0,\"ticks\":\"\"},\"colorscale\":[[0.0,\"#0d0887\"],[0.1111111111111111,\"#46039f\"],[0.2222222222222222,\"#7201a8\"],[0.3333333333333333,\"#9c179e\"],[0.4444444444444444,\"#bd3786\"],[0.5555555555555556,\"#d8576b\"],[0.6666666666666666,\"#ed7953\"],[0.7777777777777778,\"#fb9f3a\"],[0.8888888888888888,\"#fdca26\"],[1.0,\"#f0f921\"]]}],\"mesh3d\":[{\"type\":\"mesh3d\",\"colorbar\":{\"outlinewidth\":0,\"ticks\":\"\"}}],\"scatter\":[{\"fillpattern\":{\"fillmode\":\"overlay\",\"size\":10,\"solidity\":0.2},\"type\":\"scatter\"}],\"parcoords\":[{\"type\":\"parcoords\",\"line\":{\"colorbar\":{\"outlinewidth\":0,\"ticks\":\"\"}}}],\"scatterpolargl\":[{\"type\":\"scatterpolargl\",\"marker\":{\"colorbar\":{\"outlinewidth\":0,\"ticks\":\"\"}}}],\"bar\":[{\"error_x\":{\"color\":\"#2a3f5f\"},\"error_y\":{\"color\":\"#2a3f5f\"},\"marker\":{\"line\":{\"color\":\"#E5ECF6\",\"width\":0.5},\"pattern\":{\"fillmode\":\"overlay\",\"size\":10,\"solidity\":0.2}},\"type\":\"bar\"}],\"scattergeo\":[{\"type\":\"scattergeo\",\"marker\":{\"colorbar\":{\"outlinewidth\":0,\"ticks\":\"\"}}}],\"scatterpolar\":[{\"type\":\"scatterpolar\",\"marker\":{\"colorbar\":{\"outlinewidth\":0,\"ticks\":\"\"}}}],\"histogram\":[{\"marker\":{\"pattern\":{\"fillmode\":\"overlay\",\"size\":10,\"solidity\":0.2}},\"type\":\"histogram\"}],\"scattergl\":[{\"type\":\"scattergl\",\"marker\":{\"colorbar\":{\"outlinewidth\":0,\"ticks\":\"\"}}}],\"scatter3d\":[{\"type\":\"scatter3d\",\"line\":{\"colorbar\":{\"outlinewidth\":0,\"ticks\":\"\"}},\"marker\":{\"colorbar\":{\"outlinewidth\":0,\"ticks\":\"\"}}}],\"scattermapbox\":[{\"type\":\"scattermapbox\",\"marker\":{\"colorbar\":{\"outlinewidth\":0,\"ticks\":\"\"}}}],\"scatterternary\":[{\"type\":\"scatterternary\",\"marker\":{\"colorbar\":{\"outlinewidth\":0,\"ticks\":\"\"}}}],\"scattercarpet\":[{\"type\":\"scattercarpet\",\"marker\":{\"colorbar\":{\"outlinewidth\":0,\"ticks\":\"\"}}}],\"carpet\":[{\"aaxis\":{\"endlinecolor\":\"#2a3f5f\",\"gridcolor\":\"white\",\"linecolor\":\"white\",\"minorgridcolor\":\"white\",\"startlinecolor\":\"#2a3f5f\"},\"baxis\":{\"endlinecolor\":\"#2a3f5f\",\"gridcolor\":\"white\",\"linecolor\":\"white\",\"minorgridcolor\":\"white\",\"startlinecolor\":\"#2a3f5f\"},\"type\":\"carpet\"}],\"table\":[{\"cells\":{\"fill\":{\"color\":\"#EBF0F8\"},\"line\":{\"color\":\"white\"}},\"header\":{\"fill\":{\"color\":\"#C8D4E3\"},\"line\":{\"color\":\"white\"}},\"type\":\"table\"}],\"barpolar\":[{\"marker\":{\"line\":{\"color\":\"#E5ECF6\",\"width\":0.5},\"pattern\":{\"fillmode\":\"overlay\",\"size\":10,\"solidity\":0.2}},\"type\":\"barpolar\"}],\"pie\":[{\"automargin\":true,\"type\":\"pie\"}]},\"layout\":{\"autotypenumbers\":\"strict\",\"colorway\":[\"#636efa\",\"#EF553B\",\"#00cc96\",\"#ab63fa\",\"#FFA15A\",\"#19d3f3\",\"#FF6692\",\"#B6E880\",\"#FF97FF\",\"#FECB52\"],\"font\":{\"color\":\"#2a3f5f\"},\"hovermode\":\"closest\",\"hoverlabel\":{\"align\":\"left\"},\"paper_bgcolor\":\"white\",\"plot_bgcolor\":\"#E5ECF6\",\"polar\":{\"bgcolor\":\"#E5ECF6\",\"angularaxis\":{\"gridcolor\":\"white\",\"linecolor\":\"white\",\"ticks\":\"\"},\"radialaxis\":{\"gridcolor\":\"white\",\"linecolor\":\"white\",\"ticks\":\"\"}},\"ternary\":{\"bgcolor\":\"#E5ECF6\",\"aaxis\":{\"gridcolor\":\"white\",\"linecolor\":\"white\",\"ticks\":\"\"},\"baxis\":{\"gridcolor\":\"white\",\"linecolor\":\"white\",\"ticks\":\"\"},\"caxis\":{\"gridcolor\":\"white\",\"linecolor\":\"white\",\"ticks\":\"\"}},\"coloraxis\":{\"colorbar\":{\"outlinewidth\":0,\"ticks\":\"\"}},\"colorscale\":{\"sequential\":[[0.0,\"#0d0887\"],[0.1111111111111111,\"#46039f\"],[0.2222222222222222,\"#7201a8\"],[0.3333333333333333,\"#9c179e\"],[0.4444444444444444,\"#bd3786\"],[0.5555555555555556,\"#d8576b\"],[0.6666666666666666,\"#ed7953\"],[0.7777777777777778,\"#fb9f3a\"],[0.8888888888888888,\"#fdca26\"],[1.0,\"#f0f921\"]],\"sequentialminus\":[[0.0,\"#0d0887\"],[0.1111111111111111,\"#46039f\"],[0.2222222222222222,\"#7201a8\"],[0.3333333333333333,\"#9c179e\"],[0.4444444444444444,\"#bd3786\"],[0.5555555555555556,\"#d8576b\"],[0.6666666666666666,\"#ed7953\"],[0.7777777777777778,\"#fb9f3a\"],[0.8888888888888888,\"#fdca26\"],[1.0,\"#f0f921\"]],\"diverging\":[[0,\"#8e0152\"],[0.1,\"#c51b7d\"],[0.2,\"#de77ae\"],[0.3,\"#f1b6da\"],[0.4,\"#fde0ef\"],[0.5,\"#f7f7f7\"],[0.6,\"#e6f5d0\"],[0.7,\"#b8e186\"],[0.8,\"#7fbc41\"],[0.9,\"#4d9221\"],[1,\"#276419\"]]},\"xaxis\":{\"gridcolor\":\"white\",\"linecolor\":\"white\",\"ticks\":\"\",\"title\":{\"standoff\":15},\"zerolinecolor\":\"white\",\"automargin\":true,\"zerolinewidth\":2},\"yaxis\":{\"gridcolor\":\"white\",\"linecolor\":\"white\",\"ticks\":\"\",\"title\":{\"standoff\":15},\"zerolinecolor\":\"white\",\"automargin\":true,\"zerolinewidth\":2},\"scene\":{\"xaxis\":{\"backgroundcolor\":\"#E5ECF6\",\"gridcolor\":\"white\",\"linecolor\":\"white\",\"showbackground\":true,\"ticks\":\"\",\"zerolinecolor\":\"white\",\"gridwidth\":2},\"yaxis\":{\"backgroundcolor\":\"#E5ECF6\",\"gridcolor\":\"white\",\"linecolor\":\"white\",\"showbackground\":true,\"ticks\":\"\",\"zerolinecolor\":\"white\",\"gridwidth\":2},\"zaxis\":{\"backgroundcolor\":\"#E5ECF6\",\"gridcolor\":\"white\",\"linecolor\":\"white\",\"showbackground\":true,\"ticks\":\"\",\"zerolinecolor\":\"white\",\"gridwidth\":2}},\"shapedefaults\":{\"line\":{\"color\":\"#2a3f5f\"}},\"annotationdefaults\":{\"arrowcolor\":\"#2a3f5f\",\"arrowhead\":0,\"arrowwidth\":1},\"geo\":{\"bgcolor\":\"white\",\"landcolor\":\"#E5ECF6\",\"subunitcolor\":\"white\",\"showland\":true,\"showlakes\":true,\"lakecolor\":\"white\"},\"title\":{\"x\":0.05},\"mapbox\":{\"style\":\"light\"}}},\"xaxis\":{\"anchor\":\"y\",\"domain\":[0.0,1.0],\"title\":{\"text\":\"Ranking\"}},\"yaxis\":{\"anchor\":\"x\",\"domain\":[0.0,1.0],\"title\":{\"text\":\"\"},\"categoryorder\":\"total ascending\",\"tickfont\":{\"size\":10}},\"legend\":{\"title\":{\"text\":\"Metric\"},\"tracegroupgap\":0},\"margin\":{\"t\":60},\"barmode\":\"stack\",\"showlegend\":false},                        {\"responsive\": true}                    ).then(function(){\n",
       "                            \n",
       "var gd = document.getElementById('a7a57996-69e5-406a-a838-fcc457ec5948');\n",
       "var x = new MutationObserver(function (mutations, observer) {{\n",
       "        var display = window.getComputedStyle(gd).display;\n",
       "        if (!display || display === 'none') {{\n",
       "            console.log([gd, 'removed!']);\n",
       "            Plotly.purge(gd);\n",
       "            observer.disconnect();\n",
       "        }}\n",
       "}});\n",
       "\n",
       "// Listen for the removal of the full notebook cells\n",
       "var notebookContainer = gd.closest('#notebook-container');\n",
       "if (notebookContainer) {{\n",
       "    x.observe(notebookContainer, {childList: true});\n",
       "}}\n",
       "\n",
       "// Listen for the clearing of the current output cell\n",
       "var outputEl = gd.closest('.output');\n",
       "if (outputEl) {{\n",
       "    x.observe(outputEl, {childList: true});\n",
       "}}\n",
       "\n",
       "                        })                };                });            </script>        </div>"
      ]
     },
     "metadata": {},
     "output_type": "display_data"
    }
   ],
   "source": [
    "from wefe.utils import plot_ranking\n",
    "\n",
    "fig = plot_ranking(gender_ranking)\n",
    "fig.show()"
   ]
  },
  {
   "cell_type": "code",
   "execution_count": 28,
   "metadata": {},
   "outputs": [
    {
     "data": {
      "text/html": [
       "<div>                            <div id=\"9849567d-8093-418d-8f2b-eac8c7957f50\" class=\"plotly-graph-div\" style=\"height:525px; width:100%;\"></div>            <script type=\"text/javascript\">                require([\"plotly\"], function(Plotly) {                    window.PLOTLYENV=window.PLOTLYENV || {};                                    if (document.getElementById(\"9849567d-8093-418d-8f2b-eac8c7957f50\")) {                    Plotly.newPlot(                        \"9849567d-8093-418d-8f2b-eac8c7957f50\",                        [{\"alignmentgroup\":\"True\",\"hovertemplate\":\"Metric=WEAT: Ethnicity Queries average of abs values score<br>Ranking=%{x}<br>Embedding model=%{y}<extra></extra>\",\"legendgroup\":\"WEAT: Ethnicity Queries average of abs values score\",\"marker\":{\"color\":\"#636efa\",\"pattern\":{\"shape\":\"\"}},\"name\":\"WEAT: Ethnicity Queries average of abs values score\",\"offsetgroup\":\"WEAT: Ethnicity Queries average of abs values score\",\"orientation\":\"h\",\"showlegend\":true,\"textposition\":\"auto\",\"x\":[3.0,2.0,1.0],\"xaxis\":\"x\",\"y\":[\"glove twitter dim=25\",\"glove twitter dim=50\",\"glove twitter dim=100\"],\"yaxis\":\"y\",\"type\":\"bar\"},{\"alignmentgroup\":\"True\",\"hovertemplate\":\"Metric=WEAT: Gender Queries average of abs values score<br>Ranking=%{x}<br>Embedding model=%{y}<extra></extra>\",\"legendgroup\":\"WEAT: Gender Queries average of abs values score\",\"marker\":{\"color\":\"#EF553B\",\"pattern\":{\"shape\":\"\"}},\"name\":\"WEAT: Gender Queries average of abs values score\",\"offsetgroup\":\"WEAT: Gender Queries average of abs values score\",\"orientation\":\"h\",\"showlegend\":true,\"textposition\":\"auto\",\"x\":[1.0,2.0,3.0],\"xaxis\":\"x\",\"y\":[\"glove twitter dim=25\",\"glove twitter dim=50\",\"glove twitter dim=100\"],\"yaxis\":\"y\",\"type\":\"bar\"},{\"alignmentgroup\":\"True\",\"hovertemplate\":\"Metric=RNSB: Ethnicity Queries average of abs values score<br>Ranking=%{x}<br>Embedding model=%{y}<extra></extra>\",\"legendgroup\":\"RNSB: Ethnicity Queries average of abs values score\",\"marker\":{\"color\":\"#00cc96\",\"pattern\":{\"shape\":\"\"}},\"name\":\"RNSB: Ethnicity Queries average of abs values score\",\"offsetgroup\":\"RNSB: Ethnicity Queries average of abs values score\",\"orientation\":\"h\",\"showlegend\":true,\"textposition\":\"auto\",\"x\":[3.0,1.0,2.0],\"xaxis\":\"x\",\"y\":[\"glove twitter dim=25\",\"glove twitter dim=50\",\"glove twitter dim=100\"],\"yaxis\":\"y\",\"type\":\"bar\"}],                        {\"template\":{\"data\":{\"histogram2dcontour\":[{\"type\":\"histogram2dcontour\",\"colorbar\":{\"outlinewidth\":0,\"ticks\":\"\"},\"colorscale\":[[0.0,\"#0d0887\"],[0.1111111111111111,\"#46039f\"],[0.2222222222222222,\"#7201a8\"],[0.3333333333333333,\"#9c179e\"],[0.4444444444444444,\"#bd3786\"],[0.5555555555555556,\"#d8576b\"],[0.6666666666666666,\"#ed7953\"],[0.7777777777777778,\"#fb9f3a\"],[0.8888888888888888,\"#fdca26\"],[1.0,\"#f0f921\"]]}],\"choropleth\":[{\"type\":\"choropleth\",\"colorbar\":{\"outlinewidth\":0,\"ticks\":\"\"}}],\"histogram2d\":[{\"type\":\"histogram2d\",\"colorbar\":{\"outlinewidth\":0,\"ticks\":\"\"},\"colorscale\":[[0.0,\"#0d0887\"],[0.1111111111111111,\"#46039f\"],[0.2222222222222222,\"#7201a8\"],[0.3333333333333333,\"#9c179e\"],[0.4444444444444444,\"#bd3786\"],[0.5555555555555556,\"#d8576b\"],[0.6666666666666666,\"#ed7953\"],[0.7777777777777778,\"#fb9f3a\"],[0.8888888888888888,\"#fdca26\"],[1.0,\"#f0f921\"]]}],\"heatmap\":[{\"type\":\"heatmap\",\"colorbar\":{\"outlinewidth\":0,\"ticks\":\"\"},\"colorscale\":[[0.0,\"#0d0887\"],[0.1111111111111111,\"#46039f\"],[0.2222222222222222,\"#7201a8\"],[0.3333333333333333,\"#9c179e\"],[0.4444444444444444,\"#bd3786\"],[0.5555555555555556,\"#d8576b\"],[0.6666666666666666,\"#ed7953\"],[0.7777777777777778,\"#fb9f3a\"],[0.8888888888888888,\"#fdca26\"],[1.0,\"#f0f921\"]]}],\"heatmapgl\":[{\"type\":\"heatmapgl\",\"colorbar\":{\"outlinewidth\":0,\"ticks\":\"\"},\"colorscale\":[[0.0,\"#0d0887\"],[0.1111111111111111,\"#46039f\"],[0.2222222222222222,\"#7201a8\"],[0.3333333333333333,\"#9c179e\"],[0.4444444444444444,\"#bd3786\"],[0.5555555555555556,\"#d8576b\"],[0.6666666666666666,\"#ed7953\"],[0.7777777777777778,\"#fb9f3a\"],[0.8888888888888888,\"#fdca26\"],[1.0,\"#f0f921\"]]}],\"contourcarpet\":[{\"type\":\"contourcarpet\",\"colorbar\":{\"outlinewidth\":0,\"ticks\":\"\"}}],\"contour\":[{\"type\":\"contour\",\"colorbar\":{\"outlinewidth\":0,\"ticks\":\"\"},\"colorscale\":[[0.0,\"#0d0887\"],[0.1111111111111111,\"#46039f\"],[0.2222222222222222,\"#7201a8\"],[0.3333333333333333,\"#9c179e\"],[0.4444444444444444,\"#bd3786\"],[0.5555555555555556,\"#d8576b\"],[0.6666666666666666,\"#ed7953\"],[0.7777777777777778,\"#fb9f3a\"],[0.8888888888888888,\"#fdca26\"],[1.0,\"#f0f921\"]]}],\"surface\":[{\"type\":\"surface\",\"colorbar\":{\"outlinewidth\":0,\"ticks\":\"\"},\"colorscale\":[[0.0,\"#0d0887\"],[0.1111111111111111,\"#46039f\"],[0.2222222222222222,\"#7201a8\"],[0.3333333333333333,\"#9c179e\"],[0.4444444444444444,\"#bd3786\"],[0.5555555555555556,\"#d8576b\"],[0.6666666666666666,\"#ed7953\"],[0.7777777777777778,\"#fb9f3a\"],[0.8888888888888888,\"#fdca26\"],[1.0,\"#f0f921\"]]}],\"mesh3d\":[{\"type\":\"mesh3d\",\"colorbar\":{\"outlinewidth\":0,\"ticks\":\"\"}}],\"scatter\":[{\"fillpattern\":{\"fillmode\":\"overlay\",\"size\":10,\"solidity\":0.2},\"type\":\"scatter\"}],\"parcoords\":[{\"type\":\"parcoords\",\"line\":{\"colorbar\":{\"outlinewidth\":0,\"ticks\":\"\"}}}],\"scatterpolargl\":[{\"type\":\"scatterpolargl\",\"marker\":{\"colorbar\":{\"outlinewidth\":0,\"ticks\":\"\"}}}],\"bar\":[{\"error_x\":{\"color\":\"#2a3f5f\"},\"error_y\":{\"color\":\"#2a3f5f\"},\"marker\":{\"line\":{\"color\":\"#E5ECF6\",\"width\":0.5},\"pattern\":{\"fillmode\":\"overlay\",\"size\":10,\"solidity\":0.2}},\"type\":\"bar\"}],\"scattergeo\":[{\"type\":\"scattergeo\",\"marker\":{\"colorbar\":{\"outlinewidth\":0,\"ticks\":\"\"}}}],\"scatterpolar\":[{\"type\":\"scatterpolar\",\"marker\":{\"colorbar\":{\"outlinewidth\":0,\"ticks\":\"\"}}}],\"histogram\":[{\"marker\":{\"pattern\":{\"fillmode\":\"overlay\",\"size\":10,\"solidity\":0.2}},\"type\":\"histogram\"}],\"scattergl\":[{\"type\":\"scattergl\",\"marker\":{\"colorbar\":{\"outlinewidth\":0,\"ticks\":\"\"}}}],\"scatter3d\":[{\"type\":\"scatter3d\",\"line\":{\"colorbar\":{\"outlinewidth\":0,\"ticks\":\"\"}},\"marker\":{\"colorbar\":{\"outlinewidth\":0,\"ticks\":\"\"}}}],\"scattermapbox\":[{\"type\":\"scattermapbox\",\"marker\":{\"colorbar\":{\"outlinewidth\":0,\"ticks\":\"\"}}}],\"scatterternary\":[{\"type\":\"scatterternary\",\"marker\":{\"colorbar\":{\"outlinewidth\":0,\"ticks\":\"\"}}}],\"scattercarpet\":[{\"type\":\"scattercarpet\",\"marker\":{\"colorbar\":{\"outlinewidth\":0,\"ticks\":\"\"}}}],\"carpet\":[{\"aaxis\":{\"endlinecolor\":\"#2a3f5f\",\"gridcolor\":\"white\",\"linecolor\":\"white\",\"minorgridcolor\":\"white\",\"startlinecolor\":\"#2a3f5f\"},\"baxis\":{\"endlinecolor\":\"#2a3f5f\",\"gridcolor\":\"white\",\"linecolor\":\"white\",\"minorgridcolor\":\"white\",\"startlinecolor\":\"#2a3f5f\"},\"type\":\"carpet\"}],\"table\":[{\"cells\":{\"fill\":{\"color\":\"#EBF0F8\"},\"line\":{\"color\":\"white\"}},\"header\":{\"fill\":{\"color\":\"#C8D4E3\"},\"line\":{\"color\":\"white\"}},\"type\":\"table\"}],\"barpolar\":[{\"marker\":{\"line\":{\"color\":\"#E5ECF6\",\"width\":0.5},\"pattern\":{\"fillmode\":\"overlay\",\"size\":10,\"solidity\":0.2}},\"type\":\"barpolar\"}],\"pie\":[{\"automargin\":true,\"type\":\"pie\"}]},\"layout\":{\"autotypenumbers\":\"strict\",\"colorway\":[\"#636efa\",\"#EF553B\",\"#00cc96\",\"#ab63fa\",\"#FFA15A\",\"#19d3f3\",\"#FF6692\",\"#B6E880\",\"#FF97FF\",\"#FECB52\"],\"font\":{\"color\":\"#2a3f5f\"},\"hovermode\":\"closest\",\"hoverlabel\":{\"align\":\"left\"},\"paper_bgcolor\":\"white\",\"plot_bgcolor\":\"#E5ECF6\",\"polar\":{\"bgcolor\":\"#E5ECF6\",\"angularaxis\":{\"gridcolor\":\"white\",\"linecolor\":\"white\",\"ticks\":\"\"},\"radialaxis\":{\"gridcolor\":\"white\",\"linecolor\":\"white\",\"ticks\":\"\"}},\"ternary\":{\"bgcolor\":\"#E5ECF6\",\"aaxis\":{\"gridcolor\":\"white\",\"linecolor\":\"white\",\"ticks\":\"\"},\"baxis\":{\"gridcolor\":\"white\",\"linecolor\":\"white\",\"ticks\":\"\"},\"caxis\":{\"gridcolor\":\"white\",\"linecolor\":\"white\",\"ticks\":\"\"}},\"coloraxis\":{\"colorbar\":{\"outlinewidth\":0,\"ticks\":\"\"}},\"colorscale\":{\"sequential\":[[0.0,\"#0d0887\"],[0.1111111111111111,\"#46039f\"],[0.2222222222222222,\"#7201a8\"],[0.3333333333333333,\"#9c179e\"],[0.4444444444444444,\"#bd3786\"],[0.5555555555555556,\"#d8576b\"],[0.6666666666666666,\"#ed7953\"],[0.7777777777777778,\"#fb9f3a\"],[0.8888888888888888,\"#fdca26\"],[1.0,\"#f0f921\"]],\"sequentialminus\":[[0.0,\"#0d0887\"],[0.1111111111111111,\"#46039f\"],[0.2222222222222222,\"#7201a8\"],[0.3333333333333333,\"#9c179e\"],[0.4444444444444444,\"#bd3786\"],[0.5555555555555556,\"#d8576b\"],[0.6666666666666666,\"#ed7953\"],[0.7777777777777778,\"#fb9f3a\"],[0.8888888888888888,\"#fdca26\"],[1.0,\"#f0f921\"]],\"diverging\":[[0,\"#8e0152\"],[0.1,\"#c51b7d\"],[0.2,\"#de77ae\"],[0.3,\"#f1b6da\"],[0.4,\"#fde0ef\"],[0.5,\"#f7f7f7\"],[0.6,\"#e6f5d0\"],[0.7,\"#b8e186\"],[0.8,\"#7fbc41\"],[0.9,\"#4d9221\"],[1,\"#276419\"]]},\"xaxis\":{\"gridcolor\":\"white\",\"linecolor\":\"white\",\"ticks\":\"\",\"title\":{\"standoff\":15},\"zerolinecolor\":\"white\",\"automargin\":true,\"zerolinewidth\":2},\"yaxis\":{\"gridcolor\":\"white\",\"linecolor\":\"white\",\"ticks\":\"\",\"title\":{\"standoff\":15},\"zerolinecolor\":\"white\",\"automargin\":true,\"zerolinewidth\":2},\"scene\":{\"xaxis\":{\"backgroundcolor\":\"#E5ECF6\",\"gridcolor\":\"white\",\"linecolor\":\"white\",\"showbackground\":true,\"ticks\":\"\",\"zerolinecolor\":\"white\",\"gridwidth\":2},\"yaxis\":{\"backgroundcolor\":\"#E5ECF6\",\"gridcolor\":\"white\",\"linecolor\":\"white\",\"showbackground\":true,\"ticks\":\"\",\"zerolinecolor\":\"white\",\"gridwidth\":2},\"zaxis\":{\"backgroundcolor\":\"#E5ECF6\",\"gridcolor\":\"white\",\"linecolor\":\"white\",\"showbackground\":true,\"ticks\":\"\",\"zerolinecolor\":\"white\",\"gridwidth\":2}},\"shapedefaults\":{\"line\":{\"color\":\"#2a3f5f\"}},\"annotationdefaults\":{\"arrowcolor\":\"#2a3f5f\",\"arrowhead\":0,\"arrowwidth\":1},\"geo\":{\"bgcolor\":\"white\",\"landcolor\":\"#E5ECF6\",\"subunitcolor\":\"white\",\"showland\":true,\"showlakes\":true,\"lakecolor\":\"white\"},\"title\":{\"x\":0.05},\"mapbox\":{\"style\":\"light\"}}},\"xaxis\":{\"anchor\":\"y\",\"domain\":[0.0,1.0],\"title\":{\"text\":\"Ranking\"}},\"yaxis\":{\"anchor\":\"x\",\"domain\":[0.0,1.0],\"title\":{\"text\":\"\"},\"categoryorder\":\"total ascending\",\"tickfont\":{\"size\":10}},\"legend\":{\"title\":{\"text\":\"Metric\"},\"tracegroupgap\":0},\"margin\":{\"t\":60},\"barmode\":\"stack\",\"showlegend\":false},                        {\"responsive\": true}                    ).then(function(){\n",
       "                            \n",
       "var gd = document.getElementById('9849567d-8093-418d-8f2b-eac8c7957f50');\n",
       "var x = new MutationObserver(function (mutations, observer) {{\n",
       "        var display = window.getComputedStyle(gd).display;\n",
       "        if (!display || display === 'none') {{\n",
       "            console.log([gd, 'removed!']);\n",
       "            Plotly.purge(gd);\n",
       "            observer.disconnect();\n",
       "        }}\n",
       "}});\n",
       "\n",
       "// Listen for the removal of the full notebook cells\n",
       "var notebookContainer = gd.closest('#notebook-container');\n",
       "if (notebookContainer) {{\n",
       "    x.observe(notebookContainer, {childList: true});\n",
       "}}\n",
       "\n",
       "// Listen for the clearing of the current output cell\n",
       "var outputEl = gd.closest('.output');\n",
       "if (outputEl) {{\n",
       "    x.observe(outputEl, {childList: true});\n",
       "}}\n",
       "\n",
       "                        })                };                });            </script>        </div>"
      ]
     },
     "metadata": {},
     "output_type": "display_data"
    }
   ],
   "source": [
    "fig = plot_ranking(ethnicity_ranking)\n",
    "fig.show()"
   ]
  },
  {
   "cell_type": "raw",
   "metadata": {},
   "source": [
    "Correlating Rankings\n",
    "~~~~~~~~~~~~~~~~~~~~\n",
    "\n",
    "Having obtained rankings by metric for each embeddings, it would be\n",
    "ideal to see and analyze the degree of agreement between them.\n",
    "\n",
    "A high concordance between the rankings allows us to state with some certainty that \n",
    "all metrics evaluated the embedding models in a similar way and therefore, \n",
    "that the ordering of embeddings by bias calculated makes sense.\n",
    "On the other hand, a low degree of agreement shows the opposite: the rankings do not \n",
    "allow to clearly establish which embedding is less biased than another.\n",
    "\n",
    "The level of concordance of the rankings can be evaluated by calculating\n",
    "correlations.WEFE provides :class:`~wefe.utils.calculate_ranking_correlations` to\n",
    "calculate the correlations between rankings."
   ]
  },
  {
   "cell_type": "code",
   "execution_count": 29,
   "metadata": {},
   "outputs": [
    {
     "data": {
      "text/html": [
       "<div>\n",
       "<style scoped>\n",
       "    .dataframe tbody tr th:only-of-type {\n",
       "        vertical-align: middle;\n",
       "    }\n",
       "\n",
       "    .dataframe tbody tr th {\n",
       "        vertical-align: top;\n",
       "    }\n",
       "\n",
       "    .dataframe thead th {\n",
       "        text-align: right;\n",
       "    }\n",
       "</style>\n",
       "<table border=\"1\" class=\"dataframe\">\n",
       "  <thead>\n",
       "    <tr style=\"text-align: right;\">\n",
       "      <th></th>\n",
       "      <th>WEAT: Gender Queries average of abs values score (1)</th>\n",
       "      <th>WEAT: Gender Queries average of abs values score (2)</th>\n",
       "      <th>RNSB: Gender Queries average of abs values score</th>\n",
       "    </tr>\n",
       "  </thead>\n",
       "  <tbody>\n",
       "    <tr>\n",
       "      <th>WEAT: Gender Queries average of abs values score (1)</th>\n",
       "      <td>1.0</td>\n",
       "      <td>0.5</td>\n",
       "      <td>-0.5</td>\n",
       "    </tr>\n",
       "    <tr>\n",
       "      <th>WEAT: Gender Queries average of abs values score (2)</th>\n",
       "      <td>0.5</td>\n",
       "      <td>1.0</td>\n",
       "      <td>-1.0</td>\n",
       "    </tr>\n",
       "    <tr>\n",
       "      <th>RNSB: Gender Queries average of abs values score</th>\n",
       "      <td>-0.5</td>\n",
       "      <td>-1.0</td>\n",
       "      <td>1.0</td>\n",
       "    </tr>\n",
       "  </tbody>\n",
       "</table>\n",
       "</div>"
      ],
      "text/plain": [
       "                                                    WEAT: Gender Queries average of abs values score (1)  \\\n",
       "WEAT: Gender Queries average of abs values scor...                                                1.0      \n",
       "WEAT: Gender Queries average of abs values scor...                                                0.5      \n",
       "RNSB: Gender Queries average of abs values score                                                 -0.5      \n",
       "\n",
       "                                                    WEAT: Gender Queries average of abs values score (2)  \\\n",
       "WEAT: Gender Queries average of abs values scor...                                                0.5      \n",
       "WEAT: Gender Queries average of abs values scor...                                                1.0      \n",
       "RNSB: Gender Queries average of abs values score                                                 -1.0      \n",
       "\n",
       "                                                    RNSB: Gender Queries average of abs values score  \n",
       "WEAT: Gender Queries average of abs values scor...                                              -0.5  \n",
       "WEAT: Gender Queries average of abs values scor...                                              -1.0  \n",
       "RNSB: Gender Queries average of abs values score                                                 1.0  "
      ]
     },
     "execution_count": 29,
     "metadata": {},
     "output_type": "execute_result"
    }
   ],
   "source": [
    "from wefe.utils import calculate_ranking_correlations, plot_ranking_correlations\n",
    "\n",
    "correlations = calculate_ranking_correlations(gender_ranking)\n",
    "correlations\n"
   ]
  },
  {
   "cell_type": "raw",
   "metadata": {},
   "source": [
    ".. note::\n",
    "\n",
    "    ``calculate_ranking_correlations`` uses the ``corr()`` ``pandas``\n",
    "    dataframe method. The type of correlation that is calculated can be changed \n",
    "    through the method parameter. The available options are:\n",
    "    ``'pearson'``, ``'spearman'``, ``'kendall'``. By default, the spearman\n",
    "    correlation is calculated.\n",
    "\n",
    "In this example, Kendall’s correlation is used."
   ]
  },
  {
   "cell_type": "code",
   "execution_count": 30,
   "metadata": {},
   "outputs": [
    {
     "data": {
      "text/html": [
       "<div>\n",
       "<style scoped>\n",
       "    .dataframe tbody tr th:only-of-type {\n",
       "        vertical-align: middle;\n",
       "    }\n",
       "\n",
       "    .dataframe tbody tr th {\n",
       "        vertical-align: top;\n",
       "    }\n",
       "\n",
       "    .dataframe thead th {\n",
       "        text-align: right;\n",
       "    }\n",
       "</style>\n",
       "<table border=\"1\" class=\"dataframe\">\n",
       "  <thead>\n",
       "    <tr style=\"text-align: right;\">\n",
       "      <th></th>\n",
       "      <th>WEAT: Gender Queries average of abs values score (1)</th>\n",
       "      <th>WEAT: Gender Queries average of abs values score (2)</th>\n",
       "      <th>RNSB: Gender Queries average of abs values score</th>\n",
       "    </tr>\n",
       "  </thead>\n",
       "  <tbody>\n",
       "    <tr>\n",
       "      <th>WEAT: Gender Queries average of abs values score (1)</th>\n",
       "      <td>1.000000</td>\n",
       "      <td>0.333333</td>\n",
       "      <td>-0.333333</td>\n",
       "    </tr>\n",
       "    <tr>\n",
       "      <th>WEAT: Gender Queries average of abs values score (2)</th>\n",
       "      <td>0.333333</td>\n",
       "      <td>1.000000</td>\n",
       "      <td>-1.000000</td>\n",
       "    </tr>\n",
       "    <tr>\n",
       "      <th>RNSB: Gender Queries average of abs values score</th>\n",
       "      <td>-0.333333</td>\n",
       "      <td>-1.000000</td>\n",
       "      <td>1.000000</td>\n",
       "    </tr>\n",
       "  </tbody>\n",
       "</table>\n",
       "</div>"
      ],
      "text/plain": [
       "                                                    WEAT: Gender Queries average of abs values score (1)  \\\n",
       "WEAT: Gender Queries average of abs values scor...                                           1.000000      \n",
       "WEAT: Gender Queries average of abs values scor...                                           0.333333      \n",
       "RNSB: Gender Queries average of abs values score                                            -0.333333      \n",
       "\n",
       "                                                    WEAT: Gender Queries average of abs values score (2)  \\\n",
       "WEAT: Gender Queries average of abs values scor...                                           0.333333      \n",
       "WEAT: Gender Queries average of abs values scor...                                           1.000000      \n",
       "RNSB: Gender Queries average of abs values score                                            -1.000000      \n",
       "\n",
       "                                                    RNSB: Gender Queries average of abs values score  \n",
       "WEAT: Gender Queries average of abs values scor...                                         -0.333333  \n",
       "WEAT: Gender Queries average of abs values scor...                                         -1.000000  \n",
       "RNSB: Gender Queries average of abs values score                                            1.000000  "
      ]
     },
     "execution_count": 30,
     "metadata": {},
     "output_type": "execute_result"
    }
   ],
   "source": [
    "calculate_ranking_correlations(gender_ranking, method=\"kendall\")\n"
   ]
  },
  {
   "cell_type": "raw",
   "metadata": {},
   "source": [
    "WEFE also provides a function for graphing the correlations:\n"
   ]
  },
  {
   "cell_type": "code",
   "execution_count": 31,
   "metadata": {},
   "outputs": [
    {
     "data": {
      "text/html": [
       "<div>                            <div id=\"63d4de4d-235a-4240-8387-c238a144ea0f\" class=\"plotly-graph-div\" style=\"height:525px; width:100%;\"></div>            <script type=\"text/javascript\">                require([\"plotly\"], function(Plotly) {                    window.PLOTLYENV=window.PLOTLYENV || {};                                    if (document.getElementById(\"63d4de4d-235a-4240-8387-c238a144ea0f\")) {                    Plotly.newPlot(                        \"63d4de4d-235a-4240-8387-c238a144ea0f\",                        [{\"colorscale\":[[0.0,\"rgb(210, 251, 212)\"],[0.16666666666666666,\"rgb(165, 219, 194)\"],[0.3333333333333333,\"rgb(123, 188, 176)\"],[0.5,\"rgb(85, 156, 158)\"],[0.6666666666666666,\"rgb(58, 124, 137)\"],[0.8333333333333334,\"rgb(35, 93, 114)\"],[1.0,\"rgb(18, 63, 90)\"]],\"hoverongaps\":false,\"x\":[\"WEAT: Gender Queries average of abs values score (1)\",\"WEAT: Gender Queries average of abs values score (2)\",\"RNSB: Gender Queries average of abs values score\"],\"y\":[\"WEAT: Gender Queries average of abs values score (1)\",\"WEAT: Gender Queries average of abs values score (2)\",\"RNSB: Gender Queries average of abs values score\"],\"z\":[[1.0,0.5,-0.5],[0.5,1.0,-1.0],[-0.5,-1.0,1.0]],\"zmax\":1,\"zmin\":0.0,\"type\":\"heatmap\"}],                        {\"template\":{\"data\":{\"histogram2dcontour\":[{\"type\":\"histogram2dcontour\",\"colorbar\":{\"outlinewidth\":0,\"ticks\":\"\"},\"colorscale\":[[0.0,\"#0d0887\"],[0.1111111111111111,\"#46039f\"],[0.2222222222222222,\"#7201a8\"],[0.3333333333333333,\"#9c179e\"],[0.4444444444444444,\"#bd3786\"],[0.5555555555555556,\"#d8576b\"],[0.6666666666666666,\"#ed7953\"],[0.7777777777777778,\"#fb9f3a\"],[0.8888888888888888,\"#fdca26\"],[1.0,\"#f0f921\"]]}],\"choropleth\":[{\"type\":\"choropleth\",\"colorbar\":{\"outlinewidth\":0,\"ticks\":\"\"}}],\"histogram2d\":[{\"type\":\"histogram2d\",\"colorbar\":{\"outlinewidth\":0,\"ticks\":\"\"},\"colorscale\":[[0.0,\"#0d0887\"],[0.1111111111111111,\"#46039f\"],[0.2222222222222222,\"#7201a8\"],[0.3333333333333333,\"#9c179e\"],[0.4444444444444444,\"#bd3786\"],[0.5555555555555556,\"#d8576b\"],[0.6666666666666666,\"#ed7953\"],[0.7777777777777778,\"#fb9f3a\"],[0.8888888888888888,\"#fdca26\"],[1.0,\"#f0f921\"]]}],\"heatmap\":[{\"type\":\"heatmap\",\"colorbar\":{\"outlinewidth\":0,\"ticks\":\"\"},\"colorscale\":[[0.0,\"#0d0887\"],[0.1111111111111111,\"#46039f\"],[0.2222222222222222,\"#7201a8\"],[0.3333333333333333,\"#9c179e\"],[0.4444444444444444,\"#bd3786\"],[0.5555555555555556,\"#d8576b\"],[0.6666666666666666,\"#ed7953\"],[0.7777777777777778,\"#fb9f3a\"],[0.8888888888888888,\"#fdca26\"],[1.0,\"#f0f921\"]]}],\"heatmapgl\":[{\"type\":\"heatmapgl\",\"colorbar\":{\"outlinewidth\":0,\"ticks\":\"\"},\"colorscale\":[[0.0,\"#0d0887\"],[0.1111111111111111,\"#46039f\"],[0.2222222222222222,\"#7201a8\"],[0.3333333333333333,\"#9c179e\"],[0.4444444444444444,\"#bd3786\"],[0.5555555555555556,\"#d8576b\"],[0.6666666666666666,\"#ed7953\"],[0.7777777777777778,\"#fb9f3a\"],[0.8888888888888888,\"#fdca26\"],[1.0,\"#f0f921\"]]}],\"contourcarpet\":[{\"type\":\"contourcarpet\",\"colorbar\":{\"outlinewidth\":0,\"ticks\":\"\"}}],\"contour\":[{\"type\":\"contour\",\"colorbar\":{\"outlinewidth\":0,\"ticks\":\"\"},\"colorscale\":[[0.0,\"#0d0887\"],[0.1111111111111111,\"#46039f\"],[0.2222222222222222,\"#7201a8\"],[0.3333333333333333,\"#9c179e\"],[0.4444444444444444,\"#bd3786\"],[0.5555555555555556,\"#d8576b\"],[0.6666666666666666,\"#ed7953\"],[0.7777777777777778,\"#fb9f3a\"],[0.8888888888888888,\"#fdca26\"],[1.0,\"#f0f921\"]]}],\"surface\":[{\"type\":\"surface\",\"colorbar\":{\"outlinewidth\":0,\"ticks\":\"\"},\"colorscale\":[[0.0,\"#0d0887\"],[0.1111111111111111,\"#46039f\"],[0.2222222222222222,\"#7201a8\"],[0.3333333333333333,\"#9c179e\"],[0.4444444444444444,\"#bd3786\"],[0.5555555555555556,\"#d8576b\"],[0.6666666666666666,\"#ed7953\"],[0.7777777777777778,\"#fb9f3a\"],[0.8888888888888888,\"#fdca26\"],[1.0,\"#f0f921\"]]}],\"mesh3d\":[{\"type\":\"mesh3d\",\"colorbar\":{\"outlinewidth\":0,\"ticks\":\"\"}}],\"scatter\":[{\"fillpattern\":{\"fillmode\":\"overlay\",\"size\":10,\"solidity\":0.2},\"type\":\"scatter\"}],\"parcoords\":[{\"type\":\"parcoords\",\"line\":{\"colorbar\":{\"outlinewidth\":0,\"ticks\":\"\"}}}],\"scatterpolargl\":[{\"type\":\"scatterpolargl\",\"marker\":{\"colorbar\":{\"outlinewidth\":0,\"ticks\":\"\"}}}],\"bar\":[{\"error_x\":{\"color\":\"#2a3f5f\"},\"error_y\":{\"color\":\"#2a3f5f\"},\"marker\":{\"line\":{\"color\":\"#E5ECF6\",\"width\":0.5},\"pattern\":{\"fillmode\":\"overlay\",\"size\":10,\"solidity\":0.2}},\"type\":\"bar\"}],\"scattergeo\":[{\"type\":\"scattergeo\",\"marker\":{\"colorbar\":{\"outlinewidth\":0,\"ticks\":\"\"}}}],\"scatterpolar\":[{\"type\":\"scatterpolar\",\"marker\":{\"colorbar\":{\"outlinewidth\":0,\"ticks\":\"\"}}}],\"histogram\":[{\"marker\":{\"pattern\":{\"fillmode\":\"overlay\",\"size\":10,\"solidity\":0.2}},\"type\":\"histogram\"}],\"scattergl\":[{\"type\":\"scattergl\",\"marker\":{\"colorbar\":{\"outlinewidth\":0,\"ticks\":\"\"}}}],\"scatter3d\":[{\"type\":\"scatter3d\",\"line\":{\"colorbar\":{\"outlinewidth\":0,\"ticks\":\"\"}},\"marker\":{\"colorbar\":{\"outlinewidth\":0,\"ticks\":\"\"}}}],\"scattermapbox\":[{\"type\":\"scattermapbox\",\"marker\":{\"colorbar\":{\"outlinewidth\":0,\"ticks\":\"\"}}}],\"scatterternary\":[{\"type\":\"scatterternary\",\"marker\":{\"colorbar\":{\"outlinewidth\":0,\"ticks\":\"\"}}}],\"scattercarpet\":[{\"type\":\"scattercarpet\",\"marker\":{\"colorbar\":{\"outlinewidth\":0,\"ticks\":\"\"}}}],\"carpet\":[{\"aaxis\":{\"endlinecolor\":\"#2a3f5f\",\"gridcolor\":\"white\",\"linecolor\":\"white\",\"minorgridcolor\":\"white\",\"startlinecolor\":\"#2a3f5f\"},\"baxis\":{\"endlinecolor\":\"#2a3f5f\",\"gridcolor\":\"white\",\"linecolor\":\"white\",\"minorgridcolor\":\"white\",\"startlinecolor\":\"#2a3f5f\"},\"type\":\"carpet\"}],\"table\":[{\"cells\":{\"fill\":{\"color\":\"#EBF0F8\"},\"line\":{\"color\":\"white\"}},\"header\":{\"fill\":{\"color\":\"#C8D4E3\"},\"line\":{\"color\":\"white\"}},\"type\":\"table\"}],\"barpolar\":[{\"marker\":{\"line\":{\"color\":\"#E5ECF6\",\"width\":0.5},\"pattern\":{\"fillmode\":\"overlay\",\"size\":10,\"solidity\":0.2}},\"type\":\"barpolar\"}],\"pie\":[{\"automargin\":true,\"type\":\"pie\"}]},\"layout\":{\"autotypenumbers\":\"strict\",\"colorway\":[\"#636efa\",\"#EF553B\",\"#00cc96\",\"#ab63fa\",\"#FFA15A\",\"#19d3f3\",\"#FF6692\",\"#B6E880\",\"#FF97FF\",\"#FECB52\"],\"font\":{\"color\":\"#2a3f5f\"},\"hovermode\":\"closest\",\"hoverlabel\":{\"align\":\"left\"},\"paper_bgcolor\":\"white\",\"plot_bgcolor\":\"#E5ECF6\",\"polar\":{\"bgcolor\":\"#E5ECF6\",\"angularaxis\":{\"gridcolor\":\"white\",\"linecolor\":\"white\",\"ticks\":\"\"},\"radialaxis\":{\"gridcolor\":\"white\",\"linecolor\":\"white\",\"ticks\":\"\"}},\"ternary\":{\"bgcolor\":\"#E5ECF6\",\"aaxis\":{\"gridcolor\":\"white\",\"linecolor\":\"white\",\"ticks\":\"\"},\"baxis\":{\"gridcolor\":\"white\",\"linecolor\":\"white\",\"ticks\":\"\"},\"caxis\":{\"gridcolor\":\"white\",\"linecolor\":\"white\",\"ticks\":\"\"}},\"coloraxis\":{\"colorbar\":{\"outlinewidth\":0,\"ticks\":\"\"}},\"colorscale\":{\"sequential\":[[0.0,\"#0d0887\"],[0.1111111111111111,\"#46039f\"],[0.2222222222222222,\"#7201a8\"],[0.3333333333333333,\"#9c179e\"],[0.4444444444444444,\"#bd3786\"],[0.5555555555555556,\"#d8576b\"],[0.6666666666666666,\"#ed7953\"],[0.7777777777777778,\"#fb9f3a\"],[0.8888888888888888,\"#fdca26\"],[1.0,\"#f0f921\"]],\"sequentialminus\":[[0.0,\"#0d0887\"],[0.1111111111111111,\"#46039f\"],[0.2222222222222222,\"#7201a8\"],[0.3333333333333333,\"#9c179e\"],[0.4444444444444444,\"#bd3786\"],[0.5555555555555556,\"#d8576b\"],[0.6666666666666666,\"#ed7953\"],[0.7777777777777778,\"#fb9f3a\"],[0.8888888888888888,\"#fdca26\"],[1.0,\"#f0f921\"]],\"diverging\":[[0,\"#8e0152\"],[0.1,\"#c51b7d\"],[0.2,\"#de77ae\"],[0.3,\"#f1b6da\"],[0.4,\"#fde0ef\"],[0.5,\"#f7f7f7\"],[0.6,\"#e6f5d0\"],[0.7,\"#b8e186\"],[0.8,\"#7fbc41\"],[0.9,\"#4d9221\"],[1,\"#276419\"]]},\"xaxis\":{\"gridcolor\":\"white\",\"linecolor\":\"white\",\"ticks\":\"\",\"title\":{\"standoff\":15},\"zerolinecolor\":\"white\",\"automargin\":true,\"zerolinewidth\":2},\"yaxis\":{\"gridcolor\":\"white\",\"linecolor\":\"white\",\"ticks\":\"\",\"title\":{\"standoff\":15},\"zerolinecolor\":\"white\",\"automargin\":true,\"zerolinewidth\":2},\"scene\":{\"xaxis\":{\"backgroundcolor\":\"#E5ECF6\",\"gridcolor\":\"white\",\"linecolor\":\"white\",\"showbackground\":true,\"ticks\":\"\",\"zerolinecolor\":\"white\",\"gridwidth\":2},\"yaxis\":{\"backgroundcolor\":\"#E5ECF6\",\"gridcolor\":\"white\",\"linecolor\":\"white\",\"showbackground\":true,\"ticks\":\"\",\"zerolinecolor\":\"white\",\"gridwidth\":2},\"zaxis\":{\"backgroundcolor\":\"#E5ECF6\",\"gridcolor\":\"white\",\"linecolor\":\"white\",\"showbackground\":true,\"ticks\":\"\",\"zerolinecolor\":\"white\",\"gridwidth\":2}},\"shapedefaults\":{\"line\":{\"color\":\"#2a3f5f\"}},\"annotationdefaults\":{\"arrowcolor\":\"#2a3f5f\",\"arrowhead\":0,\"arrowwidth\":1},\"geo\":{\"bgcolor\":\"white\",\"landcolor\":\"#E5ECF6\",\"subunitcolor\":\"white\",\"showland\":true,\"showlakes\":true,\"lakecolor\":\"white\"},\"title\":{\"x\":0.05},\"mapbox\":{\"style\":\"light\"}}},\"font\":{\"color\":\"#000000\"},\"title\":{\"text\":\"\"}},                        {\"responsive\": true}                    ).then(function(){\n",
       "                            \n",
       "var gd = document.getElementById('63d4de4d-235a-4240-8387-c238a144ea0f');\n",
       "var x = new MutationObserver(function (mutations, observer) {{\n",
       "        var display = window.getComputedStyle(gd).display;\n",
       "        if (!display || display === 'none') {{\n",
       "            console.log([gd, 'removed!']);\n",
       "            Plotly.purge(gd);\n",
       "            observer.disconnect();\n",
       "        }}\n",
       "}});\n",
       "\n",
       "// Listen for the removal of the full notebook cells\n",
       "var notebookContainer = gd.closest('#notebook-container');\n",
       "if (notebookContainer) {{\n",
       "    x.observe(notebookContainer, {childList: true});\n",
       "}}\n",
       "\n",
       "// Listen for the clearing of the current output cell\n",
       "var outputEl = gd.closest('.output');\n",
       "if (outputEl) {{\n",
       "    x.observe(outputEl, {childList: true});\n",
       "}}\n",
       "\n",
       "                        })                };                });            </script>        </div>"
      ]
     },
     "metadata": {},
     "output_type": "display_data"
    }
   ],
   "source": [
    "correlation_fig = plot_ranking_correlations(correlations)\n",
    "correlation_fig.show()\n"
   ]
  },
  {
   "cell_type": "raw",
   "metadata": {},
   "source": [
    "In this case, only two of the three rankings show similar results.\n"
   ]
  }
 ],
 "metadata": {
  "kernelspec": {
   "display_name": "Python 3 (ipykernel)",
   "language": "python",
   "name": "python3"
  },
  "language_info": {
   "codemirror_mode": {
    "name": "ipython",
    "version": 3
   },
   "file_extension": ".py",
   "mimetype": "text/x-python",
   "name": "python",
   "nbconvert_exporter": "python",
   "pygments_lexer": "ipython3",
   "version": "3.7.13"
  },
  "vscode": {
   "interpreter": {
    "hash": "37d01894bb315c73bf6fde5551d8a97078996f38b23395695bd1998fb0ae5507"
   }
  }
 },
 "nbformat": 4,
 "nbformat_minor": 4
}
