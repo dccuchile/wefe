{
 "cells": [
  {
   "cell_type": "markdown",
   "metadata": {},
   "source": [
    "# English Gender Bias Examples\n",
    "\n",
    "The following example demonstrates how to use any sample gender query on any word embedding model considering a fairness metric. The workflow may be broken \n",
    "down into three steps which are:\n",
    "\n",
    "• Download and install the word embedding model in any desired language.\n",
    "• Structure the query based on the target set and the attribute set for that particular language using google translator.\n",
    "• Execute the queries utilizing the fairness metric through the Word Embedding Model.\n",
    "\n",
    "### How to interpret the results\n",
    "\n",
    "Any score in WEAT, WEAT-EZ and RNSB metrics greater than 0 suggests that there is indeed a bias for the query in consideration for the particular language. On the other hand, when using ECT metric values closer to 1 are better as they represent less bias.\n",
    "\n",
    "### Notes about the models and `flair`\n",
    "\n",
    "In majority of the cases, a score will be achieved. Nevertheless, in a few occurrences, certain queries will contain about 20% missing words and the results will \n",
    "reflect that and the query declares itself invalid and returns NaN. In such cases, a “lost vocabulary threshold” parameter is introduced which can limit the number\n",
    "of words lost or missing. A 30% loss is permitted in the following scenario:\n",
    "\n",
    "\n",
    "These examples are based on embeddings trained by the authors of the flair library.\n",
    "To learn more about the library, visit their official website: https://github.com/flairNLP/flair\n",
    "\n",
    "Also, visit https://github.com/flairNLP/flair/blob/master/resources/docs/embeddings/CLASSIC_WORD_EMBEDDINGS.md\n",
    "to check the list of embeddings in other languages."
   ]
  },
  {
   "cell_type": "markdown",
   "metadata": {},
   "source": [
    "## Preparing the Model and the Queries "
   ]
  },
  {
   "cell_type": "code",
   "execution_count": null,
   "metadata": {},
   "outputs": [],
   "source": [
    "# use the following code to install/update flair.\n",
    "!pip install -U flair"
   ]
  },
  {
   "cell_type": "code",
   "execution_count": null,
   "metadata": {},
   "outputs": [],
   "source": [
    "%cd ../.."
   ]
  },
  {
   "cell_type": "code",
   "execution_count": null,
   "metadata": {},
   "outputs": [],
   "source": [
    "from flair.embeddings import WordEmbeddings\n",
    "\n",
    "from wefe.word_embedding_model import WordEmbeddingModel\n",
    "from wefe.query import Query\n",
    "from wefe.datasets import load_weat\n",
    "from wefe.metrics import RNSB, WEAT, ECT\n",
    "from wefe.utils import run_queries, plot_queries_results"
   ]
  },
  {
   "cell_type": "markdown",
   "metadata": {},
   "source": [
    "### Load the model"
   ]
  },
  {
   "cell_type": "code",
   "execution_count": null,
   "metadata": {},
   "outputs": [],
   "source": [
    "from gensim.models.keyedvectors import KeyedVectors\n",
    "\n",
    "def load_flair_and_create_keyed_vector(flair_model_name):\n",
    "    # load model from flair\n",
    "    glove_embedding = WordEmbeddings(flair_model_name)\n",
    "\n",
    "    # hack to transform pytorch embedding to gensim's KeyedVectors\n",
    "    keyed_vectors = KeyedVectors(vector_size=glove_embedding.embedding_length)\n",
    "    keyed_vectors.add_vectors(\n",
    "        keys=list(glove_embedding.vocab.keys()),\n",
    "        weights=glove_embedding.embedding.weight.numpy()[:-1, :],\n",
    "    )\n",
    "\n",
    "    return keyed_vectors"
   ]
  },
  {
   "cell_type": "code",
   "execution_count": null,
   "metadata": {},
   "outputs": [],
   "source": [
    "flair_model_name = \"es\"\n",
    "model = load_flair_and_create_keyed_vector(flair_model_name)\n",
    "wefe_model = WordEmbeddingModel(model, flair_model_name)\n",
    "\n",
    "# we will test using only one model. You could add more later...\n",
    "models = [wefe_model]"
   ]
  },
  {
   "cell_type": "markdown",
   "metadata": {},
   "source": [
    "### Load word sets"
   ]
  },
  {
   "cell_type": "code",
   "execution_count": null,
   "metadata": {},
   "outputs": [],
   "source": [
    "# load the WEAT word sets\n",
    "word_sets = load_weat()\n",
    "\n",
    "\n",
    "# Create gender queries\n",
    "gender_query_1 = Query(\n",
    "    [word_sets[\"male_terms\"], word_sets[\"female_terms\"]],\n",
    "    [word_sets[\"career\"], word_sets[\"family\"]],\n",
    "    [\"Male terms\", \"Female terms\"],\n",
    "    [\"Career\", \"Family\"],\n",
    ")\n",
    "\n",
    "gender_query_2 = Query(\n",
    "    [word_sets[\"male_terms\"], word_sets[\"female_terms\"]],\n",
    "    [word_sets[\"science\"], word_sets[\"arts\"]],\n",
    "    [\"Male terms\", \"Female terms\"],\n",
    "    [\"Science\", \"Arts\"],\n",
    ")\n",
    "\n",
    "gender_query_3 = Query(\n",
    "    [word_sets[\"male_terms\"], word_sets[\"female_terms\"]],\n",
    "    [word_sets[\"math\"], word_sets[\"arts_2\"]],\n",
    "    [\"Male terms\", \"Female terms\"],\n",
    "    [\"Math\", \"Arts2\"],\n",
    ")\n",
    "\n",
    "\n",
    "gender_queries = [gender_query_1, gender_query_2, gender_query_3]"
   ]
  },
  {
   "cell_type": "markdown",
   "metadata": {},
   "source": [
    "## Run the Queries"
   ]
  },
  {
   "cell_type": "markdown",
   "metadata": {},
   "source": [
    "### Run the queries using WEAT\n"
   ]
  },
  {
   "cell_type": "code",
   "execution_count": null,
   "metadata": {},
   "outputs": [],
   "source": [
    "weat = WEAT()\n",
    "\n",
    "WEAT_gender_results = run_queries(\n",
    "    WEAT,\n",
    "    gender_queries,\n",
    "    models,\n",
    "    lost_vocabulary_threshold=0.3,\n",
    "    metric_params={\"preprocessors\": [{\"lowercase\": True}]},\n",
    "    aggregate_results=True,\n",
    "    queries_set_name=\"Gender Queries\",\n",
    ")\n",
    "\n",
    "display(WEAT_gender_results)\n",
    "plot_queries_results(WEAT_gender_results).show()"
   ]
  },
  {
   "cell_type": "markdown",
   "metadata": {},
   "source": [
    "### Run the queries using WEAT effect size\n"
   ]
  },
  {
   "cell_type": "code",
   "execution_count": null,
   "metadata": {},
   "outputs": [],
   "source": [
    "WEAT_EZ_gender_results = run_queries(\n",
    "    WEAT,\n",
    "    gender_queries,\n",
    "    models,\n",
    "    lost_vocabulary_threshold=0.3,\n",
    "    metric_params={\"preprocessors\": [{\"lowercase\": True}], \"return_effect_size\": True,},\n",
    "    aggregate_results=True,\n",
    "    queries_set_name=\"Gender Queries\",\n",
    ")\n",
    "\n",
    "display(WEAT_EZ_gender_results)\n",
    "plot_queries_results(WEAT_EZ_gender_results).show()"
   ]
  },
  {
   "cell_type": "markdown",
   "metadata": {},
   "source": [
    "### Run the queries using RNSB\n"
   ]
  },
  {
   "cell_type": "code",
   "execution_count": null,
   "metadata": {},
   "outputs": [],
   "source": [
    "RNSB_gender_results = run_queries(\n",
    "    RNSB,\n",
    "    gender_queries,\n",
    "    models,\n",
    "    lost_vocabulary_threshold=0.3,\n",
    "    metric_params={\"preprocessors\": [{\"lowercase\": True}]},\n",
    "    aggregate_results=True,\n",
    "    queries_set_name=\"Gender Queries\",\n",
    ")\n",
    "display(RNSB_gender_results)\n",
    "plot_queries_results(RNSB_gender_results).show()\n"
   ]
  },
  {
   "cell_type": "markdown",
   "metadata": {},
   "source": [
    "### Run the queries using ECT\n"
   ]
  },
  {
   "cell_type": "code",
   "execution_count": null,
   "metadata": {},
   "outputs": [],
   "source": [
    "ECT_gender_results = run_queries(\n",
    "    ECT,\n",
    "    gender_queries,\n",
    "    models,\n",
    "    lost_vocabulary_threshold=0.3,\n",
    "    metric_params={\"preprocessors\": [{\"lowercase\": True}]},\n",
    "    aggregate_results=True,\n",
    "    queries_set_name=\"Gender Queries\",\n",
    "    generate_subqueries=True\n",
    ")\n",
    "\n",
    "display(ECT_gender_results)\n",
    "plot_queries_results(ECT_gender_results).show()\n"
   ]
  }
 ],
 "metadata": {
  "kernelspec": {
   "display_name": "Python 3.8.13 ('wefe')",
   "language": "python",
   "name": "python3"
  },
  "language_info": {
   "codemirror_mode": {
    "name": "ipython",
    "version": 3
   },
   "file_extension": ".py",
   "mimetype": "text/x-python",
   "name": "python",
   "nbconvert_exporter": "python",
   "pygments_lexer": "ipython3",
   "version": "3.8.13"
  },
  "orig_nbformat": 4,
  "vscode": {
   "interpreter": {
    "hash": "37d01894bb315c73bf6fde5551d8a97078996f38b23395695bd1998fb0ae5507"
   }
  }
 },
 "nbformat": 4,
 "nbformat_minor": 2
}
